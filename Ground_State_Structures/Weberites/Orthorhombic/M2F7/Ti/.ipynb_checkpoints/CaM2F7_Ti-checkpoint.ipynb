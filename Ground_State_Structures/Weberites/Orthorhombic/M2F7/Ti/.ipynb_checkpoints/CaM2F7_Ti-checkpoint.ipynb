{
 "cells": [
  {
   "cell_type": "code",
   "execution_count": 1,
   "id": "extensive-syntax",
   "metadata": {},
   "outputs": [],
   "source": [
    "from pymatgen.core import Structure\n",
    "from pymatgen.transformations.standard_transformations import OrderDisorderedStructureTransformation\n",
    "from pymatgen.transformations.standard_transformations import OxidationStateDecorationTransformation\n",
    "from pymatgen.transformations.standard_transformations import SubstitutionTransformation, AutoOxiStateDecorationTransformation\n",
    "from pymatgen.transformations.standard_transformations import OrderDisorderedStructureTransformation\n",
    "from pymatgen.transformations.standard_transformations import SubstitutionTransformation, AutoOxiStateDecorationTransformation\n",
    "import os\n",
    "os.chdir('./')"
   ]
  },
  {
   "cell_type": "code",
   "execution_count": 2,
   "id": "compressed-clinic",
   "metadata": {},
   "outputs": [],
   "source": [
    "structure = Structure.from_file('EntryWithCollCode202872.cif')"
   ]
  },
  {
   "cell_type": "code",
   "execution_count": 3,
   "id": "corporate-controversy",
   "metadata": {},
   "outputs": [
    {
     "name": "stdout",
     "output_type": "stream",
     "text": [
      "Full Formula (Na8 Fe4 Ni4 F28)\n",
      "Reduced Formula: Na2FeNiF7\n",
      "abc   :   7.203000  10.256000   7.429000\n",
      "angles:  90.000000  90.000000  90.000000\n",
      "Sites (44)\n",
      "  #  SP        a      b      c\n",
      "---  ----  -----  -----  -----\n",
      "  0  Na+   0      0.5    0\n",
      "  1  Na+   0      0      0\n",
      "  2  Na+   0.5    0      0.5\n",
      "  3  Na+   0.5    0.5    0.5\n",
      "  4  Na+   0.75   0.75   0.25\n",
      "  5  Na+   0.75   0.25   0.75\n",
      "  6  Na+   0.25   0.25   0.75\n",
      "  7  Na+   0.25   0.75   0.25\n",
      "  8  Fe3+  0      0.5    0.5\n",
      "  9  Fe3+  0      0      0.5\n",
      " 10  Fe3+  0.5    0      0\n",
      " 11  Fe3+  0.5    0.5    0\n",
      " 12  Ni2+  0.75   0.75   0.75\n",
      " 13  Ni2+  0.75   0.25   0.25\n",
      " 14  Ni2+  0.25   0.25   0.25\n",
      " 15  Ni2+  0.25   0.75   0.75\n",
      " 16  F-    0      0.75   0.854\n",
      " 17  F-    0      0.25   0.146\n",
      " 18  F-    0.5    0.25   0.354\n",
      " 19  F-    0.5    0.75   0.646\n",
      " 20  F-    0      0.916  0.266\n",
      " 21  F-    0      0.084  0.734\n",
      " 22  F-    0      0.416  0.734\n",
      " 23  F-    0      0.584  0.266\n",
      " 24  F-    0.5    0.416  0.766\n",
      " 25  F-    0.5    0.584  0.234\n",
      " 26  F-    0.5    0.916  0.234\n",
      " 27  F-    0.5    0.084  0.766\n",
      " 28  F-    0.804  0.876  0.572\n",
      " 29  F-    0.804  0.124  0.428\n",
      " 30  F-    0.804  0.376  0.428\n",
      " 31  F-    0.804  0.624  0.572\n",
      " 32  F-    0.196  0.124  0.428\n",
      " 33  F-    0.196  0.876  0.572\n",
      " 34  F-    0.196  0.624  0.572\n",
      " 35  F-    0.196  0.376  0.428\n",
      " 36  F-    0.304  0.376  0.072\n",
      " 37  F-    0.304  0.624  0.928\n",
      " 38  F-    0.304  0.876  0.928\n",
      " 39  F-    0.304  0.124  0.072\n",
      " 40  F-    0.696  0.624  0.928\n",
      " 41  F-    0.696  0.376  0.072\n",
      " 42  F-    0.696  0.124  0.072\n",
      " 43  F-    0.696  0.876  0.928\n"
     ]
    }
   ],
   "source": [
    "s1 = structure.copy()\n",
    "\n",
    "print(s1)"
   ]
  },
  {
   "cell_type": "code",
   "execution_count": 4,
   "id": "3181cdd6",
   "metadata": {},
   "outputs": [
    {
     "name": "stdout",
     "output_type": "stream",
     "text": [
      "Full Formula (Na4 Fe2 Ni2 F14)\n",
      "Reduced Formula: Na2FeNiF7\n",
      "abc   :   7.203000   7.284552   7.284552\n",
      "angles:  61.316294  60.369648  60.369648\n",
      "Sites (22)\n",
      "  #  SP        a      b      c\n",
      "---  ----  -----  -----  -----\n",
      "  0  F-    0.75   0.396  0.104\n",
      "  1  F-    0.25   0.604  0.896\n",
      "  2  F-    0.916  0.818  0.35\n",
      "  3  F-    0.084  0.182  0.65\n",
      "  4  F-    0.416  0.85   0.318\n",
      "  5  F-    0.584  0.15   0.682\n",
      "  6  F-    0.072  0.552  0.696\n",
      "  7  F-    0.32   0.448  0.304\n",
      "  8  F-    0.572  0.196  0.052\n",
      "  9  F-    0.82   0.804  0.948\n",
      " 10  F-    0.928  0.448  0.304\n",
      " 11  F-    0.68   0.552  0.696\n",
      " 12  F-    0.428  0.804  0.948\n",
      " 13  F-    0.18   0.196  0.052\n",
      " 14  Fe3+  0.5    0      0\n",
      " 15  Fe3+  0      0.5    0.5\n",
      " 16  Na+   0.5    0.5    0.5\n",
      " 17  Na+   0      0      0\n",
      " 18  Na+   1      1      0.5\n",
      " 19  Na+   0.5    0      0.5\n",
      " 20  Ni2+  1      0.5    1\n",
      " 21  Ni2+  0.5    0.5    1\n"
     ]
    }
   ],
   "source": [
    "from pymatgen.core.composition import Composition\n",
    "from pymatgen.core.lattice import Lattice\n",
    "from pymatgen.core.operations import SymmOp\n",
    "from pymatgen.core.periodic_table import Element, Species\n",
    "from pymatgen.core.structure import (\n",
    "    IMolecule,\n",
    "    IStructure,\n",
    "    Molecule,\n",
    "    Structure,\n",
    "    StructureError,\n",
    ")\n",
    "\n",
    "s2 = s1.get_primitive_structure()\n",
    "print(s2)"
   ]
  },
  {
   "cell_type": "code",
   "execution_count": 5,
   "id": "divided-parallel",
   "metadata": {},
   "outputs": [
    {
     "name": "stdout",
     "output_type": "stream",
     "text": [
      "Full Formula (Na4 Ti4 F14)\n",
      "Reduced Formula: Na2Ti2F7\n",
      "abc   :   7.203000   7.284552   7.284552\n",
      "angles:  61.316294  60.369648  60.369648\n",
      "Sites (22)\n",
      "  #  SP        a      b      c\n",
      "---  ----  -----  -----  -----\n",
      "  0  F-    0.75   0.396  0.104\n",
      "  1  F-    0.25   0.604  0.896\n",
      "  2  F-    0.916  0.818  0.35\n",
      "  3  F-    0.084  0.182  0.65\n",
      "  4  F-    0.416  0.85   0.318\n",
      "  5  F-    0.584  0.15   0.682\n",
      "  6  F-    0.072  0.552  0.696\n",
      "  7  F-    0.32   0.448  0.304\n",
      "  8  F-    0.572  0.196  0.052\n",
      "  9  F-    0.82   0.804  0.948\n",
      " 10  F-    0.928  0.448  0.304\n",
      " 11  F-    0.68   0.552  0.696\n",
      " 12  F-    0.428  0.804  0.948\n",
      " 13  F-    0.18   0.196  0.052\n",
      " 14  Ti3+  0.5    0      0\n",
      " 15  Ti3+  0      0.5    0.5\n",
      " 16  Na+   0.5    0.5    0.5\n",
      " 17  Na+   0      0      0\n",
      " 18  Na+   1      1      0.5\n",
      " 19  Na+   0.5    0      0.5\n",
      " 20  Ti2+  1      0.5    1\n",
      " 21  Ti2+  0.5    0.5    1\n"
     ]
    }
   ],
   "source": [
    "s2.replace_species({('Fe3+'):('Ti3+')})\n",
    "s2.replace_species({('Ni2+'):('Ti2+')})\n",
    "\n",
    "s3 = s2.copy()\n",
    "print(s3)"
   ]
  },
  {
   "cell_type": "code",
   "execution_count": 6,
   "id": "e6e7fb13",
   "metadata": {},
   "outputs": [
    {
     "name": "stdout",
     "output_type": "stream",
     "text": [
      "Full Formula (Ca4 Ti4 F14)\n",
      "Reduced Formula: Ca2Ti2F7\n",
      "abc   :   7.203000   7.284552   7.284552\n",
      "angles:  61.316294  60.369648  60.369648\n",
      "Sites (22)\n",
      "  #  SP        a      b      c\n",
      "---  ----  -----  -----  -----\n",
      "  0  F-    0.75   0.396  0.104\n",
      "  1  F-    0.25   0.604  0.896\n",
      "  2  F-    0.916  0.818  0.35\n",
      "  3  F-    0.084  0.182  0.65\n",
      "  4  F-    0.416  0.85   0.318\n",
      "  5  F-    0.584  0.15   0.682\n",
      "  6  F-    0.072  0.552  0.696\n",
      "  7  F-    0.32   0.448  0.304\n",
      "  8  F-    0.572  0.196  0.052\n",
      "  9  F-    0.82   0.804  0.948\n",
      " 10  F-    0.928  0.448  0.304\n",
      " 11  F-    0.68   0.552  0.696\n",
      " 12  F-    0.428  0.804  0.948\n",
      " 13  F-    0.18   0.196  0.052\n",
      " 14  Ti3+  0.5    0      0\n",
      " 15  Ti3+  0      0.5    0.5\n",
      " 16  Ca2+  0.5    0.5    0.5\n",
      " 17  Ca2+  0      0      0\n",
      " 18  Ca2+  1      1      0.5\n",
      " 19  Ca2+  0.5    0      0.5\n",
      " 20  Ti2+  1      0.5    1\n",
      " 21  Ti2+  0.5    0.5    1\n"
     ]
    }
   ],
   "source": [
    "s3.replace_species({('Na+'):('Ca2+')})\n",
    "s4 = s3.copy()\n",
    "print(s4)"
   ]
  },
  {
   "cell_type": "code",
   "execution_count": 7,
   "id": "def3ff55",
   "metadata": {},
   "outputs": [
    {
     "name": "stdout",
     "output_type": "stream",
     "text": [
      "Full Formula (Ca2 Ti4 F14)\n",
      "Reduced Formula: CaTi2F7\n",
      "abc   :   7.203000   7.284552   7.284552\n",
      "angles:  61.316294  60.369648  60.369648\n",
      "Sites (22)\n",
      "  #  SP              a      b      c\n",
      "---  ----------  -----  -----  -----\n",
      "  0  F-          0.75   0.396  0.104\n",
      "  1  F-          0.25   0.604  0.896\n",
      "  2  F-          0.916  0.818  0.35\n",
      "  3  F-          0.084  0.182  0.65\n",
      "  4  F-          0.416  0.85   0.318\n",
      "  5  F-          0.584  0.15   0.682\n",
      "  6  F-          0.072  0.552  0.696\n",
      "  7  F-          0.32   0.448  0.304\n",
      "  8  F-          0.572  0.196  0.052\n",
      "  9  F-          0.82   0.804  0.948\n",
      " 10  F-          0.928  0.448  0.304\n",
      " 11  F-          0.68   0.552  0.696\n",
      " 12  F-          0.428  0.804  0.948\n",
      " 13  F-          0.18   0.196  0.052\n",
      " 14  Ti3+        0.5    0      0\n",
      " 15  Ti3+        0      0.5    0.5\n",
      " 16  Ca2+:0.500  0.5    0.5    0.5\n",
      " 17  Ca2+:0.500  0      0      0\n",
      " 18  Ca2+:0.500  1      1      0.5\n",
      " 19  Ca2+:0.500  0.5    0      0.5\n",
      " 20  Ti2+        1      0.5    1\n",
      " 21  Ti2+        0.5    0.5    1\n"
     ]
    }
   ],
   "source": [
    "trans0 = SubstitutionTransformation({'Ca2+':{'Ca2+':0.5}})\n",
    "s5 = trans0.apply_transformation(s4)\n",
    "s6 = s5.copy()\n",
    "print(s6)"
   ]
  },
  {
   "cell_type": "code",
   "execution_count": 8,
   "id": "117b1720",
   "metadata": {},
   "outputs": [],
   "source": [
    "from pymatgen.alchemy.transmuters import StandardTransmuter\n",
    "trans = OrderDisorderedStructureTransformation()\n",
    "transmuter = StandardTransmuter.from_structures([s6],transformations=[trans], extend_collection=10000)"
   ]
  },
  {
   "cell_type": "code",
   "execution_count": 9,
   "id": "17e6f8a8",
   "metadata": {},
   "outputs": [
    {
     "name": "stdout",
     "output_type": "stream",
     "text": [
      "6\n"
     ]
    }
   ],
   "source": [
    "print(len(transmuter))"
   ]
  },
  {
   "cell_type": "code",
   "execution_count": 10,
   "id": "42afa732",
   "metadata": {},
   "outputs": [],
   "source": [
    "from pymatgen.alchemy.filters import RemoveDuplicatesFilter\n",
    "fil = RemoveDuplicatesFilter(symprec=1e-5)\n",
    "transmuter.apply_filter(fil)"
   ]
  },
  {
   "cell_type": "code",
   "execution_count": 11,
   "id": "4edbf6cf",
   "metadata": {},
   "outputs": [
    {
     "name": "stdout",
     "output_type": "stream",
     "text": [
      "3\n"
     ]
    }
   ],
   "source": [
    "print(len(transmuter))"
   ]
  },
  {
   "cell_type": "code",
   "execution_count": 12,
   "id": "ecb761cf",
   "metadata": {},
   "outputs": [],
   "source": [
    "for i in range(0,len(transmuter)):\n",
    "    s = transmuter.transformed_structures[i]\n",
    "    s.to(fmt='poscar', filename=\"./\"+str(i)+\".vasp\")"
   ]
  },
  {
   "cell_type": "code",
   "execution_count": null,
   "id": "6204f7d3",
   "metadata": {},
   "outputs": [],
   "source": []
  }
 ],
 "metadata": {
  "kernelspec": {
   "display_name": "Python 3 (ipykernel)",
   "language": "python",
   "name": "python3"
  },
  "language_info": {
   "codemirror_mode": {
    "name": "ipython",
    "version": 3
   },
   "file_extension": ".py",
   "mimetype": "text/x-python",
   "name": "python",
   "nbconvert_exporter": "python",
   "pygments_lexer": "ipython3",
   "version": "3.9.7"
  }
 },
 "nbformat": 4,
 "nbformat_minor": 5
}
