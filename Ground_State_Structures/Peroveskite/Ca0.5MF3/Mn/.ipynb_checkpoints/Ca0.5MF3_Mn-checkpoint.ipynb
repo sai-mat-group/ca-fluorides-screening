{
 "cells": [
  {
   "cell_type": "code",
   "execution_count": 1,
   "id": "extensive-syntax",
   "metadata": {},
   "outputs": [],
   "source": [
    "from pymatgen.core import Structure\n",
    "from pymatgen.transformations.standard_transformations import OrderDisorderedStructureTransformation\n",
    "from pymatgen.transformations.standard_transformations import OxidationStateDecorationTransformation\n",
    "from pymatgen.transformations.standard_transformations import SubstitutionTransformation, AutoOxiStateDecorationTransformation\n",
    "from pymatgen.transformations.standard_transformations import OrderDisorderedStructureTransformation\n",
    "from pymatgen.transformations.standard_transformations import SubstitutionTransformation, AutoOxiStateDecorationTransformation\n",
    "import os\n",
    "os.chdir('./')"
   ]
  },
  {
   "cell_type": "code",
   "execution_count": 3,
   "id": "compressed-clinic",
   "metadata": {},
   "outputs": [],
   "source": [
    "structure = Structure.from_file('NaMnF3-Pnma.cif')"
   ]
  },
  {
   "cell_type": "code",
   "execution_count": 4,
   "id": "corporate-controversy",
   "metadata": {},
   "outputs": [
    {
     "name": "stdout",
     "output_type": "stream",
     "text": [
      "Full Formula (Na4 Mn4 F12)\n",
      "Reduced Formula: NaMnF3\n",
      "abc   :   5.747000   8.004000   5.548000\n",
      "angles:  90.000000  90.000000  90.000000\n",
      "Sites (20)\n",
      "  #  SP         a       b       c\n",
      "---  ----  ------  ------  ------\n",
      "  0  Na+   0.5532  0.25    0.4926\n",
      "  1  Na+   0.0532  0.25    0.0074\n",
      "  2  Na+   0.4468  0.75    0.5074\n",
      "  3  Na+   0.9468  0.75    0.9926\n",
      "  4  Mn2+  0       0.5     0.5\n",
      "  5  Mn2+  0.5     0       0\n",
      "  6  Mn2+  0       0       0.5\n",
      "  7  Mn2+  0.5     0.5     0\n",
      "  8  F-    0.9466  0.25    0.3792\n",
      "  9  F-    0.4466  0.25    0.1208\n",
      " 10  F-    0.0534  0.75    0.6208\n",
      " 11  F-    0.5534  0.75    0.8792\n",
      " 12  F-    0.6935  0.5578  0.3124\n",
      " 13  F-    0.1935  0.9422  0.1876\n",
      " 14  F-    0.3065  0.0578  0.6876\n",
      " 15  F-    0.8065  0.4422  0.8124\n",
      " 16  F-    0.3065  0.4422  0.6876\n",
      " 17  F-    0.8065  0.0578  0.8124\n",
      " 18  F-    0.6935  0.9422  0.3124\n",
      " 19  F-    0.1935  0.5578  0.1876\n"
     ]
    }
   ],
   "source": [
    "s2 = structure.copy()\n",
    "\n",
    "print(s2)"
   ]
  },
  {
   "cell_type": "code",
   "execution_count": 5,
   "id": "cd4ebcf1",
   "metadata": {},
   "outputs": [
    {
     "name": "stdout",
     "output_type": "stream",
     "text": [
      "Full Formula (Ca4 Mn4 F12)\n",
      "Reduced Formula: CaMnF3\n",
      "abc   :   5.747000   8.004000   5.548000\n",
      "angles:  90.000000  90.000000  90.000000\n",
      "Sites (20)\n",
      "  #  SP         a       b       c\n",
      "---  ----  ------  ------  ------\n",
      "  0  Ca2+  0.5532  0.25    0.4926\n",
      "  1  Ca2+  0.0532  0.25    0.0074\n",
      "  2  Ca2+  0.4468  0.75    0.5074\n",
      "  3  Ca2+  0.9468  0.75    0.9926\n",
      "  4  Mn2+  0       0.5     0.5\n",
      "  5  Mn2+  0.5     0       0\n",
      "  6  Mn2+  0       0       0.5\n",
      "  7  Mn2+  0.5     0.5     0\n",
      "  8  F-    0.9466  0.25    0.3792\n",
      "  9  F-    0.4466  0.25    0.1208\n",
      " 10  F-    0.0534  0.75    0.6208\n",
      " 11  F-    0.5534  0.75    0.8792\n",
      " 12  F-    0.6935  0.5578  0.3124\n",
      " 13  F-    0.1935  0.9422  0.1876\n",
      " 14  F-    0.3065  0.0578  0.6876\n",
      " 15  F-    0.8065  0.4422  0.8124\n",
      " 16  F-    0.3065  0.4422  0.6876\n",
      " 17  F-    0.8065  0.0578  0.8124\n",
      " 18  F-    0.6935  0.9422  0.3124\n",
      " 19  F-    0.1935  0.5578  0.1876\n"
     ]
    }
   ],
   "source": [
    "s2.replace_species({('Na+'):('Ca2+')})\n",
    "s3 = s2.copy()\n",
    "print(s3)\n"
   ]
  },
  {
   "cell_type": "code",
   "execution_count": 7,
   "id": "b26a4b20",
   "metadata": {},
   "outputs": [],
   "source": [
    "from pymatgen.analysis.structure_prediction.volume_predictor import RLSVolumePredictor\n",
    "p = RLSVolumePredictor(radii_type=\"atomic\")\n",
    "s4= p.get_predicted_structure(s3,structure)"
   ]
  },
  {
   "cell_type": "code",
   "execution_count": 8,
   "id": "fcb2fee0",
   "metadata": {},
   "outputs": [
    {
     "name": "stdout",
     "output_type": "stream",
     "text": [
      "Full Formula (Ca2 Mn4 F12)\n",
      "Reduced Formula: CaMn2F6\n",
      "abc   :   5.747000   8.004000   5.548000\n",
      "angles:  90.000000  90.000000  90.000000\n",
      "Sites (20)\n",
      "  #  SP               a       b       c\n",
      "---  ----------  ------  ------  ------\n",
      "  0  Ca2+:0.500  0.5532  0.25    0.4926\n",
      "  1  Ca2+:0.500  0.0532  0.25    0.0074\n",
      "  2  Ca2+:0.500  0.4468  0.75    0.5074\n",
      "  3  Ca2+:0.500  0.9468  0.75    0.9926\n",
      "  4  Mn2+        0       0.5     0.5\n",
      "  5  Mn2+        0.5     0       0\n",
      "  6  Mn2+        0       0       0.5\n",
      "  7  Mn2+        0.5     0.5     0\n",
      "  8  F-          0.9466  0.25    0.3792\n",
      "  9  F-          0.4466  0.25    0.1208\n",
      " 10  F-          0.0534  0.75    0.6208\n",
      " 11  F-          0.5534  0.75    0.8792\n",
      " 12  F-          0.6935  0.5578  0.3124\n",
      " 13  F-          0.1935  0.9422  0.1876\n",
      " 14  F-          0.3065  0.0578  0.6876\n",
      " 15  F-          0.8065  0.4422  0.8124\n",
      " 16  F-          0.3065  0.4422  0.6876\n",
      " 17  F-          0.8065  0.0578  0.8124\n",
      " 18  F-          0.6935  0.9422  0.3124\n",
      " 19  F-          0.1935  0.5578  0.1876\n"
     ]
    }
   ],
   "source": [
    "trans0 = SubstitutionTransformation({'Ca2+':{'Ca2+':0.5}})\n",
    "s5 = trans0.apply_transformation(s4)\n",
    "s6 = s5.copy()\n",
    "print(s6)\n"
   ]
  },
  {
   "cell_type": "code",
   "execution_count": 9,
   "id": "ef3efd0a",
   "metadata": {},
   "outputs": [],
   "source": [
    "from pymatgen.alchemy.transmuters import StandardTransmuter\n",
    "trans = OrderDisorderedStructureTransformation()\n",
    "transmuter = StandardTransmuter.from_structures([s6], transformations=[trans], extend_collection=10000)"
   ]
  },
  {
   "cell_type": "code",
   "execution_count": 10,
   "id": "0a153cdd",
   "metadata": {},
   "outputs": [
    {
     "name": "stdout",
     "output_type": "stream",
     "text": [
      "6\n"
     ]
    }
   ],
   "source": [
    "print(len(transmuter))"
   ]
  },
  {
   "cell_type": "code",
   "execution_count": 11,
   "id": "c9afb9ea",
   "metadata": {},
   "outputs": [],
   "source": [
    "from pymatgen.alchemy.filters import RemoveDuplicatesFilter\n",
    "fil = RemoveDuplicatesFilter(symprec=1e-5)\n",
    "transmuter.apply_filter(fil)"
   ]
  },
  {
   "cell_type": "code",
   "execution_count": 12,
   "id": "6ea0c7e9",
   "metadata": {},
   "outputs": [
    {
     "name": "stdout",
     "output_type": "stream",
     "text": [
      "3\n"
     ]
    }
   ],
   "source": [
    "print(len(transmuter))"
   ]
  },
  {
   "cell_type": "code",
   "execution_count": 13,
   "id": "38e31f6d",
   "metadata": {},
   "outputs": [],
   "source": [
    "for i in range(0,len(transmuter)):\n",
    "    s = transmuter.transformed_structures[i]\n",
    "    s.to(fmt='poscar', filename=\"POSCAR.\"+str(i))"
   ]
  },
  {
   "cell_type": "code",
   "execution_count": null,
   "id": "25e03b7e",
   "metadata": {},
   "outputs": [],
   "source": []
  }
 ],
 "metadata": {
  "kernelspec": {
   "display_name": "Python 3 (ipykernel)",
   "language": "python",
   "name": "python3"
  },
  "language_info": {
   "codemirror_mode": {
    "name": "ipython",
    "version": 3
   },
   "file_extension": ".py",
   "mimetype": "text/x-python",
   "name": "python",
   "nbconvert_exporter": "python",
   "pygments_lexer": "ipython3",
   "version": "3.9.7"
  }
 },
 "nbformat": 4,
 "nbformat_minor": 5
}
