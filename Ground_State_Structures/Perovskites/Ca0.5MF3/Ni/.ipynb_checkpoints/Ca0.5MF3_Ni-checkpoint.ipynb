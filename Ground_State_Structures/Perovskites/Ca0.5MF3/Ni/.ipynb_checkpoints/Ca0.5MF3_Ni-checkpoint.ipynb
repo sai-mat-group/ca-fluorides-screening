{
 "cells": [
  {
   "cell_type": "code",
   "execution_count": 1,
   "id": "extensive-syntax",
   "metadata": {},
   "outputs": [],
   "source": [
    "from pymatgen.core import Structure\n",
    "from pymatgen.transformations.standard_transformations import OrderDisorderedStructureTransformation\n",
    "from pymatgen.transformations.standard_transformations import OxidationStateDecorationTransformation\n",
    "from pymatgen.transformations.standard_transformations import SubstitutionTransformation, AutoOxiStateDecorationTransformation\n",
    "from pymatgen.transformations.standard_transformations import OrderDisorderedStructureTransformation\n",
    "from pymatgen.transformations.standard_transformations import SubstitutionTransformation, AutoOxiStateDecorationTransformation\n",
    "import os\n",
    "os.chdir('./')"
   ]
  },
  {
   "cell_type": "code",
   "execution_count": 2,
   "id": "compressed-clinic",
   "metadata": {},
   "outputs": [],
   "source": [
    "structure = Structure.from_file('NaNiF3-Pnma.cif')"
   ]
  },
  {
   "cell_type": "code",
   "execution_count": 3,
   "id": "corporate-controversy",
   "metadata": {},
   "outputs": [
    {
     "name": "stdout",
     "output_type": "stream",
     "text": [
      "Full Formula (Na4 Ni4 F12)\n",
      "Reduced Formula: NaNiF3\n",
      "abc   :   5.529000   7.695000   5.369000\n",
      "angles:  90.000000  90.000000  90.000000\n",
      "Sites (20)\n",
      "  #  SP         a       b       c\n",
      "---  ----  ------  ------  ------\n",
      "  0  Na+   0.5525  0.25    0.5163\n",
      "  1  Na+   0.0525  0.25    0.9837\n",
      "  2  Na+   0.4475  0.75    0.4837\n",
      "  3  Na+   0.9475  0.75    0.0163\n",
      "  4  Ni2+  0       0.5     0.5\n",
      "  5  Ni2+  0.5     0       0\n",
      "  6  Ni2+  0       0       0.5\n",
      "  7  Ni2+  0.5     0.5     0\n",
      "  8  F-    0.9706  0.25    0.4003\n",
      "  9  F-    0.4706  0.25    0.0997\n",
      " 10  F-    0.0294  0.75    0.5997\n",
      " 11  F-    0.5294  0.75    0.9003\n",
      " 12  F-    0.7019  0.5484  0.3069\n",
      " 13  F-    0.2019  0.9516  0.1931\n",
      " 14  F-    0.2981  0.0484  0.6931\n",
      " 15  F-    0.7981  0.4516  0.8069\n",
      " 16  F-    0.2981  0.4516  0.6931\n",
      " 17  F-    0.7981  0.0484  0.8069\n",
      " 18  F-    0.7019  0.9516  0.3069\n",
      " 19  F-    0.2019  0.5484  0.1931\n"
     ]
    }
   ],
   "source": [
    "s2 = structure.copy()\n",
    "\n",
    "print(s2)"
   ]
  },
  {
   "cell_type": "code",
   "execution_count": 4,
   "id": "cd4ebcf1",
   "metadata": {},
   "outputs": [
    {
     "name": "stdout",
     "output_type": "stream",
     "text": [
      "Full Formula (Ca4 Ni4 F12)\n",
      "Reduced Formula: CaNiF3\n",
      "abc   :   5.529000   7.695000   5.369000\n",
      "angles:  90.000000  90.000000  90.000000\n",
      "Sites (20)\n",
      "  #  SP         a       b       c\n",
      "---  ----  ------  ------  ------\n",
      "  0  Ca2+  0.5525  0.25    0.5163\n",
      "  1  Ca2+  0.0525  0.25    0.9837\n",
      "  2  Ca2+  0.4475  0.75    0.4837\n",
      "  3  Ca2+  0.9475  0.75    0.0163\n",
      "  4  Ni2+  0       0.5     0.5\n",
      "  5  Ni2+  0.5     0       0\n",
      "  6  Ni2+  0       0       0.5\n",
      "  7  Ni2+  0.5     0.5     0\n",
      "  8  F-    0.9706  0.25    0.4003\n",
      "  9  F-    0.4706  0.25    0.0997\n",
      " 10  F-    0.0294  0.75    0.5997\n",
      " 11  F-    0.5294  0.75    0.9003\n",
      " 12  F-    0.7019  0.5484  0.3069\n",
      " 13  F-    0.2019  0.9516  0.1931\n",
      " 14  F-    0.2981  0.0484  0.6931\n",
      " 15  F-    0.7981  0.4516  0.8069\n",
      " 16  F-    0.2981  0.4516  0.6931\n",
      " 17  F-    0.7981  0.0484  0.8069\n",
      " 18  F-    0.7019  0.9516  0.3069\n",
      " 19  F-    0.2019  0.5484  0.1931\n"
     ]
    }
   ],
   "source": [
    "s2.replace_species({('Na+'):('Ca2+')})\n",
    "s3 = s2.copy()\n",
    "print(s3)\n"
   ]
  },
  {
   "cell_type": "code",
   "execution_count": 7,
   "id": "b26a4b20",
   "metadata": {},
   "outputs": [],
   "source": [
    "from pymatgen.analysis.structure_prediction.volume_predictor import RLSVolumePredictor\n",
    "p = RLSVolumePredictor(radii_type=\"atomic\")\n",
    "s4= p.get_predicted_structure(s3,structure)"
   ]
  },
  {
   "cell_type": "code",
   "execution_count": 8,
   "id": "fcb2fee0",
   "metadata": {},
   "outputs": [
    {
     "name": "stdout",
     "output_type": "stream",
     "text": [
      "Full Formula (Ca2 Ni4 F12)\n",
      "Reduced Formula: CaNi2F6\n",
      "abc   :   5.529000   7.695000   5.369000\n",
      "angles:  90.000000  90.000000  90.000000\n",
      "Sites (20)\n",
      "  #  SP               a       b       c\n",
      "---  ----------  ------  ------  ------\n",
      "  0  Ca2+:0.500  0.5525  0.25    0.5163\n",
      "  1  Ca2+:0.500  0.0525  0.25    0.9837\n",
      "  2  Ca2+:0.500  0.4475  0.75    0.4837\n",
      "  3  Ca2+:0.500  0.9475  0.75    0.0163\n",
      "  4  Ni2+        0       0.5     0.5\n",
      "  5  Ni2+        0.5     0       0\n",
      "  6  Ni2+        0       0       0.5\n",
      "  7  Ni2+        0.5     0.5     0\n",
      "  8  F-          0.9706  0.25    0.4003\n",
      "  9  F-          0.4706  0.25    0.0997\n",
      " 10  F-          0.0294  0.75    0.5997\n",
      " 11  F-          0.5294  0.75    0.9003\n",
      " 12  F-          0.7019  0.5484  0.3069\n",
      " 13  F-          0.2019  0.9516  0.1931\n",
      " 14  F-          0.2981  0.0484  0.6931\n",
      " 15  F-          0.7981  0.4516  0.8069\n",
      " 16  F-          0.2981  0.4516  0.6931\n",
      " 17  F-          0.7981  0.0484  0.8069\n",
      " 18  F-          0.7019  0.9516  0.3069\n",
      " 19  F-          0.2019  0.5484  0.1931\n"
     ]
    }
   ],
   "source": [
    "trans0 = SubstitutionTransformation({'Ca2+':{'Ca2+':0.5}})\n",
    "s5 = trans0.apply_transformation(s4)\n",
    "s6 = s5.copy()\n",
    "print(s6)\n"
   ]
  },
  {
   "cell_type": "code",
   "execution_count": 9,
   "id": "ef3efd0a",
   "metadata": {},
   "outputs": [],
   "source": [
    "from pymatgen.alchemy.transmuters import StandardTransmuter\n",
    "trans = OrderDisorderedStructureTransformation()\n",
    "transmuter = StandardTransmuter.from_structures([s6], transformations=[trans], extend_collection=10000)"
   ]
  },
  {
   "cell_type": "code",
   "execution_count": 10,
   "id": "0a153cdd",
   "metadata": {},
   "outputs": [
    {
     "name": "stdout",
     "output_type": "stream",
     "text": [
      "6\n"
     ]
    }
   ],
   "source": [
    "print(len(transmuter))"
   ]
  },
  {
   "cell_type": "code",
   "execution_count": 11,
   "id": "c9afb9ea",
   "metadata": {},
   "outputs": [],
   "source": [
    "from pymatgen.alchemy.filters import RemoveDuplicatesFilter\n",
    "fil = RemoveDuplicatesFilter(symprec=1e-5)\n",
    "transmuter.apply_filter(fil)"
   ]
  },
  {
   "cell_type": "code",
   "execution_count": 12,
   "id": "6ea0c7e9",
   "metadata": {},
   "outputs": [
    {
     "name": "stdout",
     "output_type": "stream",
     "text": [
      "3\n"
     ]
    }
   ],
   "source": [
    "print(len(transmuter))"
   ]
  },
  {
   "cell_type": "code",
   "execution_count": 13,
   "id": "38e31f6d",
   "metadata": {},
   "outputs": [],
   "source": [
    "for i in range(0,len(transmuter)):\n",
    "    s = transmuter.transformed_structures[i]\n",
    "    s.to(fmt='poscar', filename=\"POSCAR.\"+str(i))"
   ]
  },
  {
   "cell_type": "code",
   "execution_count": null,
   "id": "25e03b7e",
   "metadata": {},
   "outputs": [],
   "source": []
  }
 ],
 "metadata": {
  "kernelspec": {
   "display_name": "Python 3 (ipykernel)",
   "language": "python",
   "name": "python3"
  },
  "language_info": {
   "codemirror_mode": {
    "name": "ipython",
    "version": 3
   },
   "file_extension": ".py",
   "mimetype": "text/x-python",
   "name": "python",
   "nbconvert_exporter": "python",
   "pygments_lexer": "ipython3",
   "version": "3.9.7"
  }
 },
 "nbformat": 4,
 "nbformat_minor": 5
}
