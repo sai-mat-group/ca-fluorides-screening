{
 "cells": [
  {
   "cell_type": "code",
   "execution_count": 30,
   "id": "88b6ff62",
   "metadata": {},
   "outputs": [],
   "source": [
    "import pymatgen\n",
    "import os\n",
    "import unittest\n",
    "import warnings\n",
    "from numbers import Number\n",
    "\n",
    "from pathlib import Path\n",
    "#from collections import OrderDict\n",
    "import numpy as np\n",
    "from pymatgen.analysis.phase_diagram import(\n",
    "     CompoundPhaseDiagram, GrandPotentialPhaseDiagram,\n",
    "     GrandPotPDEntry, PDEntry,PDPlotter, PhaseDiagram,\n",
    "      ReactionDiagram,TransformedPDEntry, tet_coord,triangular_coord,uniquelines)"
   ]
  },
  {
   "cell_type": "code",
   "execution_count": 31,
   "id": "bf288f67",
   "metadata": {},
   "outputs": [],
   "source": [
    "input_data = {\"Ca\":-9.6682,\"V\":-17.426752,\"F2\":-6.9022176, \n",
    "              \n",
    "              \"CaF2\":-17.3306788,\n",
    "              \n",
    "              \"VF3\":-39.1901045, \"VF4\":-43.7358960, \"VF5\":-47.982425,\n",
    "             \n",
    "    \n",
    "               \n",
    "              \"Ca0.5VF3\":-46.64719, \n",
    "              \n",
    "              \"Ca1.5V2F7\":-108.1035783, \"V2F7\":-82.76139}\n",
    "              \n",
    "              "
   ]
  },
  {
   "cell_type": "code",
   "execution_count": 32,
   "id": "e2113bc7",
   "metadata": {},
   "outputs": [
    {
     "data": {
      "application/vnd.plotly.v1+json": {
       "config": {
        "plotlyServerURL": "https://plot.ly"
       },
       "data": [
        {
         "a": [
          0,
          0,
          null,
          0,
          0,
          null,
          0,
          0,
          null,
          1.5,
          0,
          null,
          0,
          1.5,
          null,
          1,
          0,
          null,
          0,
          1.5,
          null,
          1.5,
          0,
          null,
          0,
          1,
          null,
          0,
          1.5,
          null,
          1,
          1.5,
          null,
          1,
          1,
          null,
          0,
          0,
          null,
          1.5,
          1,
          null
         ],
         "b": [
          1,
          1,
          null,
          1,
          1,
          null,
          1,
          0,
          null,
          2,
          1,
          null,
          1,
          2,
          null,
          0,
          0,
          null,
          1,
          2,
          null,
          2,
          0,
          null,
          1,
          0,
          null,
          1,
          2,
          null,
          0,
          2,
          null,
          0,
          0,
          null,
          1,
          1,
          null,
          2,
          0,
          null
         ],
         "c": [
          3,
          4,
          null,
          4,
          5,
          null,
          5,
          2,
          null,
          7,
          0,
          null,
          4,
          7,
          null,
          2,
          2,
          null,
          3,
          7,
          null,
          7,
          2,
          null,
          0,
          0,
          null,
          5,
          7,
          null,
          2,
          7,
          null,
          2,
          0,
          null,
          3,
          0,
          null,
          7,
          0,
          null
         ],
         "hoverinfo": "none",
         "line": {
          "color": "black",
          "width": 1.5
         },
         "mode": "lines",
         "showlegend": false,
         "type": "scatterternary"
        },
        {
         "a": [
          1.5,
          1,
          0
         ],
         "b": [
          2,
          0,
          0
         ],
         "c": [
          7,
          2,
          2
         ],
         "fill": "toself",
         "fillcolor": "#2E91E5",
         "hovertemplate": "<extra></extra>",
         "line": {
          "width": 0
         },
         "mode": "lines",
         "name": "Ca<sub>1.5</sub>V<sub>2</sub>F<sub>7</sub>—CaF<sub>2</sub>—F<sub>2</sub>",
         "opacity": 0.15,
         "showlegend": false,
         "type": "scatterternary"
        },
        {
         "a": [
          1,
          1.5,
          1
         ],
         "b": [
          0,
          2,
          0
         ],
         "c": [
          0,
          7,
          2
         ],
         "fill": "toself",
         "fillcolor": "#E15F99",
         "hovertemplate": "<extra></extra>",
         "line": {
          "width": 0
         },
         "mode": "lines",
         "name": "Ca—Ca<sub>1.5</sub>V<sub>2</sub>F<sub>7</sub>—CaF<sub>2</sub>",
         "opacity": 0.15,
         "showlegend": false,
         "type": "scatterternary"
        },
        {
         "a": [
          1,
          1.5,
          0
         ],
         "b": [
          0,
          2,
          1
         ],
         "c": [
          0,
          7,
          0
         ],
         "fill": "toself",
         "fillcolor": "#1CA71C",
         "hovertemplate": "<extra></extra>",
         "line": {
          "width": 0
         },
         "mode": "lines",
         "name": "Ca—Ca<sub>1.5</sub>V<sub>2</sub>F<sub>7</sub>—V",
         "opacity": 0.15,
         "showlegend": false,
         "type": "scatterternary"
        },
        {
         "a": [
          1.5,
          0,
          0
         ],
         "b": [
          2,
          1,
          1
         ],
         "c": [
          7,
          0,
          3
         ],
         "fill": "toself",
         "fillcolor": "#FB0D0D",
         "hovertemplate": "<extra></extra>",
         "line": {
          "width": 0
         },
         "mode": "lines",
         "name": "Ca<sub>1.5</sub>V<sub>2</sub>F<sub>7</sub>—V—VF<sub>3</sub>",
         "opacity": 0.15,
         "showlegend": false,
         "type": "scatterternary"
        },
        {
         "a": [
          1.5,
          0,
          0
         ],
         "b": [
          2,
          0,
          1
         ],
         "c": [
          7,
          2,
          5
         ],
         "fill": "toself",
         "fillcolor": "#DA16FF",
         "hovertemplate": "<extra></extra>",
         "line": {
          "width": 0
         },
         "mode": "lines",
         "name": "Ca<sub>1.5</sub>V<sub>2</sub>F<sub>7</sub>—F<sub>2</sub>—VF<sub>5</sub>",
         "opacity": 0.15,
         "showlegend": false,
         "type": "scatterternary"
        },
        {
         "a": [
          1.5,
          0,
          0
         ],
         "b": [
          2,
          1,
          1
         ],
         "c": [
          7,
          3,
          4
         ],
         "fill": "toself",
         "fillcolor": "#222A2A",
         "hovertemplate": "<extra></extra>",
         "line": {
          "width": 0
         },
         "mode": "lines",
         "name": "Ca<sub>1.5</sub>V<sub>2</sub>F<sub>7</sub>—VF<sub>3</sub>—VF<sub>4</sub>",
         "opacity": 0.15,
         "showlegend": false,
         "type": "scatterternary"
        },
        {
         "a": [
          1.5,
          0,
          0
         ],
         "b": [
          2,
          1,
          1
         ],
         "c": [
          7,
          4,
          5
         ],
         "fill": "toself",
         "fillcolor": "#B68100",
         "hovertemplate": "<extra></extra>",
         "line": {
          "width": 0
         },
         "mode": "lines",
         "name": "Ca<sub>1.5</sub>V<sub>2</sub>F<sub>7</sub>—VF<sub>4</sub>—VF<sub>5</sub>",
         "opacity": 0.15,
         "showlegend": false,
         "type": "scatterternary"
        },
        {
         "a": [
          0,
          0,
          0,
          0,
          1.5,
          0,
          1,
          1
         ],
         "b": [
          1,
          1,
          1,
          0,
          2,
          1,
          0,
          0
         ],
         "c": [
          3,
          4,
          5,
          2,
          7,
          0,
          2,
          0
         ],
         "cliponaxis": false,
         "hoverinfo": "text",
         "hoverlabel": {
          "font": {
           "size": 14
          }
         },
         "hovertext": [
          "VF<sub>3</sub> (no ID) <br> -2.853 eV/atom (Stable)",
          "VF<sub>4</sub> (no ID) <br> -2.501 eV/atom (Stable)",
          "VF<sub>5</sub> (no ID) <br> -2.217 eV/atom (Stable)",
          "F<sub>2</sub> (no ID) <br> 0.0 eV/atom (Stable)",
          "Ca<sub>1.5</sub>V<sub>2</sub>F<sub>7</sub> (no ID) <br> -3.294 eV/atom (Stable)",
          "V (no ID) <br> 0.0 eV/atom (Stable)",
          "CaF<sub>2</sub> (no ID) <br> -0.253 eV/atom (Stable)",
          "Ca (no ID) <br> 0.0 eV/atom (Stable)"
         ],
         "marker": {
          "color": "green",
          "line": {
           "color": "black",
           "width": 2
          },
          "size": 15,
          "symbol": "circle"
         },
         "mode": "markers",
         "name": "Stable",
         "showlegend": true,
         "type": "scatterternary"
        },
        {
         "a": [
          0,
          0,
          0,
          0.5
         ],
         "b": [
          1,
          2,
          2,
          1
         ],
         "c": [
          3,
          7,
          7,
          3
         ],
         "cliponaxis": false,
         "hoverinfo": "text",
         "hoverlabel": {
          "font": {
           "size": 14
          }
         },
         "hovertext": [
          "VF<sub>3</sub> (no ID) <br> -2.818 eV/atom (+0.035 eV/atom)",
          "V<sub>2</sub>F<sub>7</sub> (no ID) <br> -2.639 eV/atom (+0.018 eV/atom)",
          "V<sub>2</sub>F<sub>7</sub> (no ID) <br> -2.647 eV/atom (+0.011 eV/atom)",
          "Ca<sub>0.5</sub>V<sub>1</sub>F<sub>3</sub> (no ID) <br> -3.118 eV/atom (+0.007 eV/atom)"
         ],
         "marker": {
          "color": [
           0.035,
           0.018,
           0.011,
           0.007
          ],
          "colorbar": {
           "len": 0.5,
           "thickness": 0.02,
           "thicknessmode": "fraction",
           "title": {
            "text": "Energy Above Hull<br>(eV/atom)"
           },
           "x": 0,
           "xpad": 0,
           "y": 1,
           "yanchor": "top",
           "ypad": 0
          },
          "colorscale": [
           [
            0,
            "#fff5e3"
           ],
           [
            0.5,
            "#f24324"
           ],
           [
            1,
            "#c40000"
           ]
          ],
          "line": {
           "color": "black",
           "width": 1
          },
          "opacity": 0.8,
          "size": 7,
          "symbol": "diamond"
         },
         "mode": "markers",
         "name": "Above Hull",
         "showlegend": true,
         "type": "scatterternary"
        }
       ],
       "layout": {
        "autosize": true,
        "coloraxis": {
         "colorbar": {
          "x": 1,
          "y": 0.05,
          "yanchor": "top"
         }
        },
        "margin": {
         "b": 40,
         "l": 20,
         "r": 20,
         "t": 40
        },
        "paper_bgcolor": "rgba(0,0,0,0)",
        "plot_bgcolor": "rgba(0,0,0,0)",
        "showlegend": true,
        "template": {
         "data": {
          "bar": [
           {
            "error_x": {
             "color": "#2a3f5f"
            },
            "error_y": {
             "color": "#2a3f5f"
            },
            "marker": {
             "line": {
              "color": "#E5ECF6",
              "width": 0.5
             },
             "pattern": {
              "fillmode": "overlay",
              "size": 10,
              "solidity": 0.2
             }
            },
            "type": "bar"
           }
          ],
          "barpolar": [
           {
            "marker": {
             "line": {
              "color": "#E5ECF6",
              "width": 0.5
             },
             "pattern": {
              "fillmode": "overlay",
              "size": 10,
              "solidity": 0.2
             }
            },
            "type": "barpolar"
           }
          ],
          "carpet": [
           {
            "aaxis": {
             "endlinecolor": "#2a3f5f",
             "gridcolor": "white",
             "linecolor": "white",
             "minorgridcolor": "white",
             "startlinecolor": "#2a3f5f"
            },
            "baxis": {
             "endlinecolor": "#2a3f5f",
             "gridcolor": "white",
             "linecolor": "white",
             "minorgridcolor": "white",
             "startlinecolor": "#2a3f5f"
            },
            "type": "carpet"
           }
          ],
          "choropleth": [
           {
            "colorbar": {
             "outlinewidth": 0,
             "ticks": ""
            },
            "type": "choropleth"
           }
          ],
          "contour": [
           {
            "colorbar": {
             "outlinewidth": 0,
             "ticks": ""
            },
            "colorscale": [
             [
              0,
              "#0d0887"
             ],
             [
              0.1111111111111111,
              "#46039f"
             ],
             [
              0.2222222222222222,
              "#7201a8"
             ],
             [
              0.3333333333333333,
              "#9c179e"
             ],
             [
              0.4444444444444444,
              "#bd3786"
             ],
             [
              0.5555555555555556,
              "#d8576b"
             ],
             [
              0.6666666666666666,
              "#ed7953"
             ],
             [
              0.7777777777777778,
              "#fb9f3a"
             ],
             [
              0.8888888888888888,
              "#fdca26"
             ],
             [
              1,
              "#f0f921"
             ]
            ],
            "type": "contour"
           }
          ],
          "contourcarpet": [
           {
            "colorbar": {
             "outlinewidth": 0,
             "ticks": ""
            },
            "type": "contourcarpet"
           }
          ],
          "heatmap": [
           {
            "colorbar": {
             "outlinewidth": 0,
             "ticks": ""
            },
            "colorscale": [
             [
              0,
              "#0d0887"
             ],
             [
              0.1111111111111111,
              "#46039f"
             ],
             [
              0.2222222222222222,
              "#7201a8"
             ],
             [
              0.3333333333333333,
              "#9c179e"
             ],
             [
              0.4444444444444444,
              "#bd3786"
             ],
             [
              0.5555555555555556,
              "#d8576b"
             ],
             [
              0.6666666666666666,
              "#ed7953"
             ],
             [
              0.7777777777777778,
              "#fb9f3a"
             ],
             [
              0.8888888888888888,
              "#fdca26"
             ],
             [
              1,
              "#f0f921"
             ]
            ],
            "type": "heatmap"
           }
          ],
          "heatmapgl": [
           {
            "colorbar": {
             "outlinewidth": 0,
             "ticks": ""
            },
            "colorscale": [
             [
              0,
              "#0d0887"
             ],
             [
              0.1111111111111111,
              "#46039f"
             ],
             [
              0.2222222222222222,
              "#7201a8"
             ],
             [
              0.3333333333333333,
              "#9c179e"
             ],
             [
              0.4444444444444444,
              "#bd3786"
             ],
             [
              0.5555555555555556,
              "#d8576b"
             ],
             [
              0.6666666666666666,
              "#ed7953"
             ],
             [
              0.7777777777777778,
              "#fb9f3a"
             ],
             [
              0.8888888888888888,
              "#fdca26"
             ],
             [
              1,
              "#f0f921"
             ]
            ],
            "type": "heatmapgl"
           }
          ],
          "histogram": [
           {
            "marker": {
             "pattern": {
              "fillmode": "overlay",
              "size": 10,
              "solidity": 0.2
             }
            },
            "type": "histogram"
           }
          ],
          "histogram2d": [
           {
            "colorbar": {
             "outlinewidth": 0,
             "ticks": ""
            },
            "colorscale": [
             [
              0,
              "#0d0887"
             ],
             [
              0.1111111111111111,
              "#46039f"
             ],
             [
              0.2222222222222222,
              "#7201a8"
             ],
             [
              0.3333333333333333,
              "#9c179e"
             ],
             [
              0.4444444444444444,
              "#bd3786"
             ],
             [
              0.5555555555555556,
              "#d8576b"
             ],
             [
              0.6666666666666666,
              "#ed7953"
             ],
             [
              0.7777777777777778,
              "#fb9f3a"
             ],
             [
              0.8888888888888888,
              "#fdca26"
             ],
             [
              1,
              "#f0f921"
             ]
            ],
            "type": "histogram2d"
           }
          ],
          "histogram2dcontour": [
           {
            "colorbar": {
             "outlinewidth": 0,
             "ticks": ""
            },
            "colorscale": [
             [
              0,
              "#0d0887"
             ],
             [
              0.1111111111111111,
              "#46039f"
             ],
             [
              0.2222222222222222,
              "#7201a8"
             ],
             [
              0.3333333333333333,
              "#9c179e"
             ],
             [
              0.4444444444444444,
              "#bd3786"
             ],
             [
              0.5555555555555556,
              "#d8576b"
             ],
             [
              0.6666666666666666,
              "#ed7953"
             ],
             [
              0.7777777777777778,
              "#fb9f3a"
             ],
             [
              0.8888888888888888,
              "#fdca26"
             ],
             [
              1,
              "#f0f921"
             ]
            ],
            "type": "histogram2dcontour"
           }
          ],
          "mesh3d": [
           {
            "colorbar": {
             "outlinewidth": 0,
             "ticks": ""
            },
            "type": "mesh3d"
           }
          ],
          "parcoords": [
           {
            "line": {
             "colorbar": {
              "outlinewidth": 0,
              "ticks": ""
             }
            },
            "type": "parcoords"
           }
          ],
          "pie": [
           {
            "automargin": true,
            "type": "pie"
           }
          ],
          "scatter": [
           {
            "fillpattern": {
             "fillmode": "overlay",
             "size": 10,
             "solidity": 0.2
            },
            "type": "scatter"
           }
          ],
          "scatter3d": [
           {
            "line": {
             "colorbar": {
              "outlinewidth": 0,
              "ticks": ""
             }
            },
            "marker": {
             "colorbar": {
              "outlinewidth": 0,
              "ticks": ""
             }
            },
            "type": "scatter3d"
           }
          ],
          "scattercarpet": [
           {
            "marker": {
             "colorbar": {
              "outlinewidth": 0,
              "ticks": ""
             }
            },
            "type": "scattercarpet"
           }
          ],
          "scattergeo": [
           {
            "marker": {
             "colorbar": {
              "outlinewidth": 0,
              "ticks": ""
             }
            },
            "type": "scattergeo"
           }
          ],
          "scattergl": [
           {
            "marker": {
             "colorbar": {
              "outlinewidth": 0,
              "ticks": ""
             }
            },
            "type": "scattergl"
           }
          ],
          "scattermapbox": [
           {
            "marker": {
             "colorbar": {
              "outlinewidth": 0,
              "ticks": ""
             }
            },
            "type": "scattermapbox"
           }
          ],
          "scatterpolar": [
           {
            "marker": {
             "colorbar": {
              "outlinewidth": 0,
              "ticks": ""
             }
            },
            "type": "scatterpolar"
           }
          ],
          "scatterpolargl": [
           {
            "marker": {
             "colorbar": {
              "outlinewidth": 0,
              "ticks": ""
             }
            },
            "type": "scatterpolargl"
           }
          ],
          "scatterternary": [
           {
            "marker": {
             "colorbar": {
              "outlinewidth": 0,
              "ticks": ""
             }
            },
            "type": "scatterternary"
           }
          ],
          "surface": [
           {
            "colorbar": {
             "outlinewidth": 0,
             "ticks": ""
            },
            "colorscale": [
             [
              0,
              "#0d0887"
             ],
             [
              0.1111111111111111,
              "#46039f"
             ],
             [
              0.2222222222222222,
              "#7201a8"
             ],
             [
              0.3333333333333333,
              "#9c179e"
             ],
             [
              0.4444444444444444,
              "#bd3786"
             ],
             [
              0.5555555555555556,
              "#d8576b"
             ],
             [
              0.6666666666666666,
              "#ed7953"
             ],
             [
              0.7777777777777778,
              "#fb9f3a"
             ],
             [
              0.8888888888888888,
              "#fdca26"
             ],
             [
              1,
              "#f0f921"
             ]
            ],
            "type": "surface"
           }
          ],
          "table": [
           {
            "cells": {
             "fill": {
              "color": "#EBF0F8"
             },
             "line": {
              "color": "white"
             }
            },
            "header": {
             "fill": {
              "color": "#C8D4E3"
             },
             "line": {
              "color": "white"
             }
            },
            "type": "table"
           }
          ]
         },
         "layout": {
          "annotationdefaults": {
           "arrowcolor": "#2a3f5f",
           "arrowhead": 0,
           "arrowwidth": 1
          },
          "autotypenumbers": "strict",
          "coloraxis": {
           "colorbar": {
            "outlinewidth": 0,
            "ticks": ""
           }
          },
          "colorscale": {
           "diverging": [
            [
             0,
             "#8e0152"
            ],
            [
             0.1,
             "#c51b7d"
            ],
            [
             0.2,
             "#de77ae"
            ],
            [
             0.3,
             "#f1b6da"
            ],
            [
             0.4,
             "#fde0ef"
            ],
            [
             0.5,
             "#f7f7f7"
            ],
            [
             0.6,
             "#e6f5d0"
            ],
            [
             0.7,
             "#b8e186"
            ],
            [
             0.8,
             "#7fbc41"
            ],
            [
             0.9,
             "#4d9221"
            ],
            [
             1,
             "#276419"
            ]
           ],
           "sequential": [
            [
             0,
             "#0d0887"
            ],
            [
             0.1111111111111111,
             "#46039f"
            ],
            [
             0.2222222222222222,
             "#7201a8"
            ],
            [
             0.3333333333333333,
             "#9c179e"
            ],
            [
             0.4444444444444444,
             "#bd3786"
            ],
            [
             0.5555555555555556,
             "#d8576b"
            ],
            [
             0.6666666666666666,
             "#ed7953"
            ],
            [
             0.7777777777777778,
             "#fb9f3a"
            ],
            [
             0.8888888888888888,
             "#fdca26"
            ],
            [
             1,
             "#f0f921"
            ]
           ],
           "sequentialminus": [
            [
             0,
             "#0d0887"
            ],
            [
             0.1111111111111111,
             "#46039f"
            ],
            [
             0.2222222222222222,
             "#7201a8"
            ],
            [
             0.3333333333333333,
             "#9c179e"
            ],
            [
             0.4444444444444444,
             "#bd3786"
            ],
            [
             0.5555555555555556,
             "#d8576b"
            ],
            [
             0.6666666666666666,
             "#ed7953"
            ],
            [
             0.7777777777777778,
             "#fb9f3a"
            ],
            [
             0.8888888888888888,
             "#fdca26"
            ],
            [
             1,
             "#f0f921"
            ]
           ]
          },
          "colorway": [
           "#636efa",
           "#EF553B",
           "#00cc96",
           "#ab63fa",
           "#FFA15A",
           "#19d3f3",
           "#FF6692",
           "#B6E880",
           "#FF97FF",
           "#FECB52"
          ],
          "font": {
           "color": "#2a3f5f"
          },
          "geo": {
           "bgcolor": "white",
           "lakecolor": "white",
           "landcolor": "#E5ECF6",
           "showlakes": true,
           "showland": true,
           "subunitcolor": "white"
          },
          "hoverlabel": {
           "align": "left"
          },
          "hovermode": "closest",
          "mapbox": {
           "style": "light"
          },
          "paper_bgcolor": "white",
          "plot_bgcolor": "#E5ECF6",
          "polar": {
           "angularaxis": {
            "gridcolor": "white",
            "linecolor": "white",
            "ticks": ""
           },
           "bgcolor": "#E5ECF6",
           "radialaxis": {
            "gridcolor": "white",
            "linecolor": "white",
            "ticks": ""
           }
          },
          "scene": {
           "xaxis": {
            "backgroundcolor": "#E5ECF6",
            "gridcolor": "white",
            "gridwidth": 2,
            "linecolor": "white",
            "showbackground": true,
            "ticks": "",
            "zerolinecolor": "white"
           },
           "yaxis": {
            "backgroundcolor": "#E5ECF6",
            "gridcolor": "white",
            "gridwidth": 2,
            "linecolor": "white",
            "showbackground": true,
            "ticks": "",
            "zerolinecolor": "white"
           },
           "zaxis": {
            "backgroundcolor": "#E5ECF6",
            "gridcolor": "white",
            "gridwidth": 2,
            "linecolor": "white",
            "showbackground": true,
            "ticks": "",
            "zerolinecolor": "white"
           }
          },
          "shapedefaults": {
           "line": {
            "color": "#2a3f5f"
           }
          },
          "ternary": {
           "aaxis": {
            "gridcolor": "white",
            "linecolor": "white",
            "ticks": ""
           },
           "baxis": {
            "gridcolor": "white",
            "linecolor": "white",
            "ticks": ""
           },
           "bgcolor": "#E5ECF6",
           "caxis": {
            "gridcolor": "white",
            "linecolor": "white",
            "ticks": ""
           }
          },
          "title": {
           "x": 0.05
          },
          "xaxis": {
           "automargin": true,
           "gridcolor": "white",
           "linecolor": "white",
           "ticks": "",
           "title": {
            "standoff": 15
           },
           "zerolinecolor": "white",
           "zerolinewidth": 2
          },
          "yaxis": {
           "automargin": true,
           "gridcolor": "white",
           "linecolor": "white",
           "ticks": "",
           "title": {
            "standoff": 15
           },
           "zerolinecolor": "white",
           "zerolinewidth": 2
          }
         }
        },
        "ternary": {
         "aaxis": {
          "layer": "below traces",
          "showgrid": true,
          "showticklabels": true,
          "tickfont": {
           "color": "rgba(0,0,0,0)",
           "size": 7
          },
          "title": {
           "font": {
            "size": 24
           },
           "text": "Ca"
          }
         },
         "baxis": {
          "layer": "below traces",
          "min": 0,
          "showgrid": true,
          "showticklabels": true,
          "tickfont": {
           "color": "rgba(0,0,0,0)",
           "size": 7
          },
          "title": {
           "font": {
            "size": 24
           },
           "text": "V"
          }
         },
         "caxis": {
          "layer": "below traces",
          "min": 0,
          "showgrid": true,
          "showticklabels": true,
          "tickfont": {
           "color": "rgba(0,0,0,0)",
           "size": 7
          },
          "title": {
           "font": {
            "size": 24
           },
           "text": "F"
          }
         },
         "sum": 1
        }
       }
      },
      "text/html": [
       "<div>                            <div id=\"fd19b1ca-0aab-42f7-840f-9e8bc9acfc7b\" class=\"plotly-graph-div\" style=\"height:525px; width:100%;\"></div>            <script type=\"text/javascript\">                require([\"plotly\"], function(Plotly) {                    window.PLOTLYENV=window.PLOTLYENV || {};                                    if (document.getElementById(\"fd19b1ca-0aab-42f7-840f-9e8bc9acfc7b\")) {                    Plotly.newPlot(                        \"fd19b1ca-0aab-42f7-840f-9e8bc9acfc7b\",                        [{\"a\":[0,0,null,0,0,null,0,0,null,1.5,0,null,0,1.5,null,1.0,0,null,0,1.5,null,1.5,0,null,0,1.0,null,0,1.5,null,1.0,1.5,null,1.0,1.0,null,0,0,null,1.5,1.0,null],\"b\":[1.0,1.0,null,1.0,1.0,null,1.0,0,null,2.0,1.0,null,1.0,2.0,null,0,0,null,1.0,2.0,null,2.0,0,null,1.0,0,null,1.0,2.0,null,0,2.0,null,0,0,null,1.0,1.0,null,2.0,0,null],\"c\":[3.0,4.0,null,4.0,5.0,null,5.0,2.0,null,7.0,0,null,4.0,7.0,null,2.0,2.0,null,3.0,7.0,null,7.0,2.0,null,0,0,null,5.0,7.0,null,2.0,7.0,null,2.0,0,null,3.0,0,null,7.0,0,null],\"hoverinfo\":\"none\",\"line\":{\"color\":\"black\",\"width\":1.5},\"mode\":\"lines\",\"showlegend\":false,\"type\":\"scatterternary\"},{\"a\":[1.5,1.0,0],\"b\":[2.0,0,0],\"c\":[7.0,2.0,2.0],\"fill\":\"toself\",\"fillcolor\":\"#2E91E5\",\"hovertemplate\":\"<extra></extra>\",\"line\":{\"width\":0},\"mode\":\"lines\",\"name\":\"Ca<sub>1.5</sub>V<sub>2</sub>F<sub>7</sub>\\u2014CaF<sub>2</sub>\\u2014F<sub>2</sub>\",\"opacity\":0.15,\"showlegend\":false,\"type\":\"scatterternary\"},{\"a\":[1.0,1.5,1.0],\"b\":[0,2.0,0],\"c\":[0,7.0,2.0],\"fill\":\"toself\",\"fillcolor\":\"#E15F99\",\"hovertemplate\":\"<extra></extra>\",\"line\":{\"width\":0},\"mode\":\"lines\",\"name\":\"Ca\\u2014Ca<sub>1.5</sub>V<sub>2</sub>F<sub>7</sub>\\u2014CaF<sub>2</sub>\",\"opacity\":0.15,\"showlegend\":false,\"type\":\"scatterternary\"},{\"a\":[1.0,1.5,0],\"b\":[0,2.0,1.0],\"c\":[0,7.0,0],\"fill\":\"toself\",\"fillcolor\":\"#1CA71C\",\"hovertemplate\":\"<extra></extra>\",\"line\":{\"width\":0},\"mode\":\"lines\",\"name\":\"Ca\\u2014Ca<sub>1.5</sub>V<sub>2</sub>F<sub>7</sub>\\u2014V\",\"opacity\":0.15,\"showlegend\":false,\"type\":\"scatterternary\"},{\"a\":[1.5,0,0],\"b\":[2.0,1.0,1.0],\"c\":[7.0,0,3.0],\"fill\":\"toself\",\"fillcolor\":\"#FB0D0D\",\"hovertemplate\":\"<extra></extra>\",\"line\":{\"width\":0},\"mode\":\"lines\",\"name\":\"Ca<sub>1.5</sub>V<sub>2</sub>F<sub>7</sub>\\u2014V\\u2014VF<sub>3</sub>\",\"opacity\":0.15,\"showlegend\":false,\"type\":\"scatterternary\"},{\"a\":[1.5,0,0],\"b\":[2.0,0,1.0],\"c\":[7.0,2.0,5.0],\"fill\":\"toself\",\"fillcolor\":\"#DA16FF\",\"hovertemplate\":\"<extra></extra>\",\"line\":{\"width\":0},\"mode\":\"lines\",\"name\":\"Ca<sub>1.5</sub>V<sub>2</sub>F<sub>7</sub>\\u2014F<sub>2</sub>\\u2014VF<sub>5</sub>\",\"opacity\":0.15,\"showlegend\":false,\"type\":\"scatterternary\"},{\"a\":[1.5,0,0],\"b\":[2.0,1.0,1.0],\"c\":[7.0,3.0,4.0],\"fill\":\"toself\",\"fillcolor\":\"#222A2A\",\"hovertemplate\":\"<extra></extra>\",\"line\":{\"width\":0},\"mode\":\"lines\",\"name\":\"Ca<sub>1.5</sub>V<sub>2</sub>F<sub>7</sub>\\u2014VF<sub>3</sub>\\u2014VF<sub>4</sub>\",\"opacity\":0.15,\"showlegend\":false,\"type\":\"scatterternary\"},{\"a\":[1.5,0,0],\"b\":[2.0,1.0,1.0],\"c\":[7.0,4.0,5.0],\"fill\":\"toself\",\"fillcolor\":\"#B68100\",\"hovertemplate\":\"<extra></extra>\",\"line\":{\"width\":0},\"mode\":\"lines\",\"name\":\"Ca<sub>1.5</sub>V<sub>2</sub>F<sub>7</sub>\\u2014VF<sub>4</sub>\\u2014VF<sub>5</sub>\",\"opacity\":0.15,\"showlegend\":false,\"type\":\"scatterternary\"},{\"a\":[0,0,0,0,1.5,0,1.0,1.0],\"b\":[1.0,1.0,1.0,0,2.0,1.0,0,0],\"c\":[3.0,4.0,5.0,2.0,7.0,0,2.0,0],\"cliponaxis\":false,\"hoverinfo\":\"text\",\"hoverlabel\":{\"font\":{\"size\":14}},\"hovertext\":[\"VF<sub>3</sub> (no ID) <br> -2.853 eV/atom (Stable)\",\"VF<sub>4</sub> (no ID) <br> -2.501 eV/atom (Stable)\",\"VF<sub>5</sub> (no ID) <br> -2.217 eV/atom (Stable)\",\"F<sub>2</sub> (no ID) <br> 0.0 eV/atom (Stable)\",\"Ca<sub>1.5</sub>V<sub>2</sub>F<sub>7</sub> (no ID) <br> -3.294 eV/atom (Stable)\",\"V (no ID) <br> 0.0 eV/atom (Stable)\",\"CaF<sub>2</sub> (no ID) <br> -0.253 eV/atom (Stable)\",\"Ca (no ID) <br> 0.0 eV/atom (Stable)\"],\"marker\":{\"color\":\"green\",\"line\":{\"color\":\"black\",\"width\":2.0},\"size\":15,\"symbol\":\"circle\"},\"mode\":\"markers\",\"name\":\"Stable\",\"showlegend\":true,\"type\":\"scatterternary\"},{\"a\":[0,0,0,0.5],\"b\":[1.0,2.0,2.0,1.0],\"c\":[3.0,7.0,7.0,3.0],\"cliponaxis\":false,\"hoverinfo\":\"text\",\"hoverlabel\":{\"font\":{\"size\":14}},\"hovertext\":[\"VF<sub>3</sub> (no ID) <br> -2.818 eV/atom (+0.035 eV/atom)\",\"V<sub>2</sub>F<sub>7</sub> (no ID) <br> -2.639 eV/atom (+0.018 eV/atom)\",\"V<sub>2</sub>F<sub>7</sub> (no ID) <br> -2.647 eV/atom (+0.011 eV/atom)\",\"Ca<sub>0.5</sub>V<sub>1</sub>F<sub>3</sub> (no ID) <br> -3.118 eV/atom (+0.007 eV/atom)\"],\"marker\":{\"color\":[0.035,0.018,0.011,0.007],\"colorbar\":{\"len\":0.5,\"thickness\":0.02,\"thicknessmode\":\"fraction\",\"title\":{\"text\":\"Energy Above Hull<br>(eV/atom)\"},\"x\":0,\"xpad\":0,\"y\":1,\"yanchor\":\"top\",\"ypad\":0},\"colorscale\":[[0.0,\"#fff5e3\"],[0.5,\"#f24324\"],[1.0,\"#c40000\"]],\"line\":{\"color\":\"black\",\"width\":1},\"opacity\":0.8,\"size\":7,\"symbol\":\"diamond\"},\"mode\":\"markers\",\"name\":\"Above Hull\",\"showlegend\":true,\"type\":\"scatterternary\"}],                        {\"autosize\":true,\"margin\":{\"b\":40,\"l\":20,\"r\":20,\"t\":40},\"paper_bgcolor\":\"rgba(0,0,0,0)\",\"plot_bgcolor\":\"rgba(0,0,0,0)\",\"showlegend\":true,\"ternary\":{\"aaxis\":{\"layer\":\"below traces\",\"showgrid\":true,\"showticklabels\":true,\"tickfont\":{\"color\":\"rgba(0,0,0,0)\",\"size\":7},\"title\":{\"font\":{\"size\":24},\"text\":\"Ca\"}},\"baxis\":{\"layer\":\"below traces\",\"min\":0,\"showgrid\":true,\"showticklabels\":true,\"tickfont\":{\"color\":\"rgba(0,0,0,0)\",\"size\":7},\"title\":{\"font\":{\"size\":24},\"text\":\"V\"}},\"caxis\":{\"layer\":\"below traces\",\"min\":0,\"showgrid\":true,\"showticklabels\":true,\"tickfont\":{\"color\":\"rgba(0,0,0,0)\",\"size\":7},\"title\":{\"font\":{\"size\":24},\"text\":\"F\"}},\"sum\":1},\"template\":{\"data\":{\"histogram2dcontour\":[{\"type\":\"histogram2dcontour\",\"colorbar\":{\"outlinewidth\":0,\"ticks\":\"\"},\"colorscale\":[[0.0,\"#0d0887\"],[0.1111111111111111,\"#46039f\"],[0.2222222222222222,\"#7201a8\"],[0.3333333333333333,\"#9c179e\"],[0.4444444444444444,\"#bd3786\"],[0.5555555555555556,\"#d8576b\"],[0.6666666666666666,\"#ed7953\"],[0.7777777777777778,\"#fb9f3a\"],[0.8888888888888888,\"#fdca26\"],[1.0,\"#f0f921\"]]}],\"choropleth\":[{\"type\":\"choropleth\",\"colorbar\":{\"outlinewidth\":0,\"ticks\":\"\"}}],\"histogram2d\":[{\"type\":\"histogram2d\",\"colorbar\":{\"outlinewidth\":0,\"ticks\":\"\"},\"colorscale\":[[0.0,\"#0d0887\"],[0.1111111111111111,\"#46039f\"],[0.2222222222222222,\"#7201a8\"],[0.3333333333333333,\"#9c179e\"],[0.4444444444444444,\"#bd3786\"],[0.5555555555555556,\"#d8576b\"],[0.6666666666666666,\"#ed7953\"],[0.7777777777777778,\"#fb9f3a\"],[0.8888888888888888,\"#fdca26\"],[1.0,\"#f0f921\"]]}],\"heatmap\":[{\"type\":\"heatmap\",\"colorbar\":{\"outlinewidth\":0,\"ticks\":\"\"},\"colorscale\":[[0.0,\"#0d0887\"],[0.1111111111111111,\"#46039f\"],[0.2222222222222222,\"#7201a8\"],[0.3333333333333333,\"#9c179e\"],[0.4444444444444444,\"#bd3786\"],[0.5555555555555556,\"#d8576b\"],[0.6666666666666666,\"#ed7953\"],[0.7777777777777778,\"#fb9f3a\"],[0.8888888888888888,\"#fdca26\"],[1.0,\"#f0f921\"]]}],\"heatmapgl\":[{\"type\":\"heatmapgl\",\"colorbar\":{\"outlinewidth\":0,\"ticks\":\"\"},\"colorscale\":[[0.0,\"#0d0887\"],[0.1111111111111111,\"#46039f\"],[0.2222222222222222,\"#7201a8\"],[0.3333333333333333,\"#9c179e\"],[0.4444444444444444,\"#bd3786\"],[0.5555555555555556,\"#d8576b\"],[0.6666666666666666,\"#ed7953\"],[0.7777777777777778,\"#fb9f3a\"],[0.8888888888888888,\"#fdca26\"],[1.0,\"#f0f921\"]]}],\"contourcarpet\":[{\"type\":\"contourcarpet\",\"colorbar\":{\"outlinewidth\":0,\"ticks\":\"\"}}],\"contour\":[{\"type\":\"contour\",\"colorbar\":{\"outlinewidth\":0,\"ticks\":\"\"},\"colorscale\":[[0.0,\"#0d0887\"],[0.1111111111111111,\"#46039f\"],[0.2222222222222222,\"#7201a8\"],[0.3333333333333333,\"#9c179e\"],[0.4444444444444444,\"#bd3786\"],[0.5555555555555556,\"#d8576b\"],[0.6666666666666666,\"#ed7953\"],[0.7777777777777778,\"#fb9f3a\"],[0.8888888888888888,\"#fdca26\"],[1.0,\"#f0f921\"]]}],\"surface\":[{\"type\":\"surface\",\"colorbar\":{\"outlinewidth\":0,\"ticks\":\"\"},\"colorscale\":[[0.0,\"#0d0887\"],[0.1111111111111111,\"#46039f\"],[0.2222222222222222,\"#7201a8\"],[0.3333333333333333,\"#9c179e\"],[0.4444444444444444,\"#bd3786\"],[0.5555555555555556,\"#d8576b\"],[0.6666666666666666,\"#ed7953\"],[0.7777777777777778,\"#fb9f3a\"],[0.8888888888888888,\"#fdca26\"],[1.0,\"#f0f921\"]]}],\"mesh3d\":[{\"type\":\"mesh3d\",\"colorbar\":{\"outlinewidth\":0,\"ticks\":\"\"}}],\"scatter\":[{\"fillpattern\":{\"fillmode\":\"overlay\",\"size\":10,\"solidity\":0.2},\"type\":\"scatter\"}],\"parcoords\":[{\"type\":\"parcoords\",\"line\":{\"colorbar\":{\"outlinewidth\":0,\"ticks\":\"\"}}}],\"scatterpolargl\":[{\"type\":\"scatterpolargl\",\"marker\":{\"colorbar\":{\"outlinewidth\":0,\"ticks\":\"\"}}}],\"bar\":[{\"error_x\":{\"color\":\"#2a3f5f\"},\"error_y\":{\"color\":\"#2a3f5f\"},\"marker\":{\"line\":{\"color\":\"#E5ECF6\",\"width\":0.5},\"pattern\":{\"fillmode\":\"overlay\",\"size\":10,\"solidity\":0.2}},\"type\":\"bar\"}],\"scattergeo\":[{\"type\":\"scattergeo\",\"marker\":{\"colorbar\":{\"outlinewidth\":0,\"ticks\":\"\"}}}],\"scatterpolar\":[{\"type\":\"scatterpolar\",\"marker\":{\"colorbar\":{\"outlinewidth\":0,\"ticks\":\"\"}}}],\"histogram\":[{\"marker\":{\"pattern\":{\"fillmode\":\"overlay\",\"size\":10,\"solidity\":0.2}},\"type\":\"histogram\"}],\"scattergl\":[{\"type\":\"scattergl\",\"marker\":{\"colorbar\":{\"outlinewidth\":0,\"ticks\":\"\"}}}],\"scatter3d\":[{\"type\":\"scatter3d\",\"line\":{\"colorbar\":{\"outlinewidth\":0,\"ticks\":\"\"}},\"marker\":{\"colorbar\":{\"outlinewidth\":0,\"ticks\":\"\"}}}],\"scattermapbox\":[{\"type\":\"scattermapbox\",\"marker\":{\"colorbar\":{\"outlinewidth\":0,\"ticks\":\"\"}}}],\"scatterternary\":[{\"type\":\"scatterternary\",\"marker\":{\"colorbar\":{\"outlinewidth\":0,\"ticks\":\"\"}}}],\"scattercarpet\":[{\"type\":\"scattercarpet\",\"marker\":{\"colorbar\":{\"outlinewidth\":0,\"ticks\":\"\"}}}],\"carpet\":[{\"aaxis\":{\"endlinecolor\":\"#2a3f5f\",\"gridcolor\":\"white\",\"linecolor\":\"white\",\"minorgridcolor\":\"white\",\"startlinecolor\":\"#2a3f5f\"},\"baxis\":{\"endlinecolor\":\"#2a3f5f\",\"gridcolor\":\"white\",\"linecolor\":\"white\",\"minorgridcolor\":\"white\",\"startlinecolor\":\"#2a3f5f\"},\"type\":\"carpet\"}],\"table\":[{\"cells\":{\"fill\":{\"color\":\"#EBF0F8\"},\"line\":{\"color\":\"white\"}},\"header\":{\"fill\":{\"color\":\"#C8D4E3\"},\"line\":{\"color\":\"white\"}},\"type\":\"table\"}],\"barpolar\":[{\"marker\":{\"line\":{\"color\":\"#E5ECF6\",\"width\":0.5},\"pattern\":{\"fillmode\":\"overlay\",\"size\":10,\"solidity\":0.2}},\"type\":\"barpolar\"}],\"pie\":[{\"automargin\":true,\"type\":\"pie\"}]},\"layout\":{\"autotypenumbers\":\"strict\",\"colorway\":[\"#636efa\",\"#EF553B\",\"#00cc96\",\"#ab63fa\",\"#FFA15A\",\"#19d3f3\",\"#FF6692\",\"#B6E880\",\"#FF97FF\",\"#FECB52\"],\"font\":{\"color\":\"#2a3f5f\"},\"hovermode\":\"closest\",\"hoverlabel\":{\"align\":\"left\"},\"paper_bgcolor\":\"white\",\"plot_bgcolor\":\"#E5ECF6\",\"polar\":{\"bgcolor\":\"#E5ECF6\",\"angularaxis\":{\"gridcolor\":\"white\",\"linecolor\":\"white\",\"ticks\":\"\"},\"radialaxis\":{\"gridcolor\":\"white\",\"linecolor\":\"white\",\"ticks\":\"\"}},\"ternary\":{\"bgcolor\":\"#E5ECF6\",\"aaxis\":{\"gridcolor\":\"white\",\"linecolor\":\"white\",\"ticks\":\"\"},\"baxis\":{\"gridcolor\":\"white\",\"linecolor\":\"white\",\"ticks\":\"\"},\"caxis\":{\"gridcolor\":\"white\",\"linecolor\":\"white\",\"ticks\":\"\"}},\"coloraxis\":{\"colorbar\":{\"outlinewidth\":0,\"ticks\":\"\"}},\"colorscale\":{\"sequential\":[[0.0,\"#0d0887\"],[0.1111111111111111,\"#46039f\"],[0.2222222222222222,\"#7201a8\"],[0.3333333333333333,\"#9c179e\"],[0.4444444444444444,\"#bd3786\"],[0.5555555555555556,\"#d8576b\"],[0.6666666666666666,\"#ed7953\"],[0.7777777777777778,\"#fb9f3a\"],[0.8888888888888888,\"#fdca26\"],[1.0,\"#f0f921\"]],\"sequentialminus\":[[0.0,\"#0d0887\"],[0.1111111111111111,\"#46039f\"],[0.2222222222222222,\"#7201a8\"],[0.3333333333333333,\"#9c179e\"],[0.4444444444444444,\"#bd3786\"],[0.5555555555555556,\"#d8576b\"],[0.6666666666666666,\"#ed7953\"],[0.7777777777777778,\"#fb9f3a\"],[0.8888888888888888,\"#fdca26\"],[1.0,\"#f0f921\"]],\"diverging\":[[0,\"#8e0152\"],[0.1,\"#c51b7d\"],[0.2,\"#de77ae\"],[0.3,\"#f1b6da\"],[0.4,\"#fde0ef\"],[0.5,\"#f7f7f7\"],[0.6,\"#e6f5d0\"],[0.7,\"#b8e186\"],[0.8,\"#7fbc41\"],[0.9,\"#4d9221\"],[1,\"#276419\"]]},\"xaxis\":{\"gridcolor\":\"white\",\"linecolor\":\"white\",\"ticks\":\"\",\"title\":{\"standoff\":15},\"zerolinecolor\":\"white\",\"automargin\":true,\"zerolinewidth\":2},\"yaxis\":{\"gridcolor\":\"white\",\"linecolor\":\"white\",\"ticks\":\"\",\"title\":{\"standoff\":15},\"zerolinecolor\":\"white\",\"automargin\":true,\"zerolinewidth\":2},\"scene\":{\"xaxis\":{\"backgroundcolor\":\"#E5ECF6\",\"gridcolor\":\"white\",\"linecolor\":\"white\",\"showbackground\":true,\"ticks\":\"\",\"zerolinecolor\":\"white\",\"gridwidth\":2},\"yaxis\":{\"backgroundcolor\":\"#E5ECF6\",\"gridcolor\":\"white\",\"linecolor\":\"white\",\"showbackground\":true,\"ticks\":\"\",\"zerolinecolor\":\"white\",\"gridwidth\":2},\"zaxis\":{\"backgroundcolor\":\"#E5ECF6\",\"gridcolor\":\"white\",\"linecolor\":\"white\",\"showbackground\":true,\"ticks\":\"\",\"zerolinecolor\":\"white\",\"gridwidth\":2}},\"shapedefaults\":{\"line\":{\"color\":\"#2a3f5f\"}},\"annotationdefaults\":{\"arrowcolor\":\"#2a3f5f\",\"arrowhead\":0,\"arrowwidth\":1},\"geo\":{\"bgcolor\":\"white\",\"landcolor\":\"#E5ECF6\",\"subunitcolor\":\"white\",\"showland\":true,\"showlakes\":true,\"lakecolor\":\"white\"},\"title\":{\"x\":0.05},\"mapbox\":{\"style\":\"light\"}}},\"coloraxis\":{\"colorbar\":{\"yanchor\":\"top\",\"y\":0.05,\"x\":1}}},                        {\"responsive\": true}                    ).then(function(){\n",
       "                            \n",
       "var gd = document.getElementById('fd19b1ca-0aab-42f7-840f-9e8bc9acfc7b');\n",
       "var x = new MutationObserver(function (mutations, observer) {{\n",
       "        var display = window.getComputedStyle(gd).display;\n",
       "        if (!display || display === 'none') {{\n",
       "            console.log([gd, 'removed!']);\n",
       "            Plotly.purge(gd);\n",
       "            observer.disconnect();\n",
       "        }}\n",
       "}});\n",
       "\n",
       "// Listen for the removal of the full notebook cells\n",
       "var notebookContainer = gd.closest('#notebook-container');\n",
       "if (notebookContainer) {{\n",
       "    x.observe(notebookContainer, {childList: true});\n",
       "}}\n",
       "\n",
       "// Listen for the clearing of the current output cell\n",
       "var outputEl = gd.closest('.output');\n",
       "if (outputEl) {{\n",
       "    x.observe(outputEl, {childList: true});\n",
       "}}\n",
       "\n",
       "                        })                };                });            </script>        </div>"
      ]
     },
     "metadata": {},
     "output_type": "display_data"
    },
    {
     "name": "stdout",
     "output_type": "stream",
     "text": [
      "{PDEntry : V1 F5 with energy = -47.9824, PDEntry : V1 F3 with energy = -39.1901, PDEntry : V1 F4 with energy = -43.7359, PDEntry : V1 with energy = -17.4268, PDEntry : F2 with energy = -6.9022, PDEntry : Ca1 F2 with energy = -17.3307, PDEntry : Ca1 with energy = -9.6682, PDEntry : Ca1.5 V2 F7 with energy = -108.1036}\n"
     ]
    }
   ],
   "source": [
    "from pymatgen.analysis.phase_diagram import Composition\n",
    "entries =[PDEntry(k,v) for k,v in input_data.items()]\n",
    "\n",
    "#include charged phase of peroveskite (VF3)\n",
    "VF3_met=PDEntry(Composition(\"VF3\"),-39.05147,name=\"VF3_c\")\n",
    "entries.append(VF3_met)\n",
    "\n",
    "#include charged orthorhombic phase (V2F7), lower energy than the trigonal\n",
    "V2F7_orth=PDEntry(Composition(\"V2F7\"),-82.83143,name=\"V2F7_O\")\n",
    "entries.append(V2F7_orth)\n",
    "\n",
    "phase_diagram_1 = PhaseDiagram(entries)\n",
    "plotter_1 = PDPlotter(phase_diagram_1, show_unstable=True, markersize=20)\n",
    "plotter_1.show() \n",
    "#plotter_1.write_image( stream = 'CaxV2F7', image_format = 'svg')\n",
    "print(phase_diagram_1.stable_entries)"
   ]
  },
  {
   "cell_type": "code",
   "execution_count": 28,
   "id": "480a3940",
   "metadata": {},
   "outputs": [
    {
     "data": {
      "text/plain": [
       "{PDEntry : V1 F4 with energy = -43.7359: 0.5555555555555558,\n",
       " PDEntry : V1 F3 with energy = -39.1901: 0.4444444444444442}"
      ]
     },
     "execution_count": 28,
     "metadata": {},
     "output_type": "execute_result"
    }
   ],
   "source": [
    "decomp_1= phase_diagram_1.get_decomposition(Composition(\"V2F7\"))\n",
    "decomp_1"
   ]
  },
  {
   "cell_type": "code",
   "execution_count": 29,
   "id": "badca343",
   "metadata": {},
   "outputs": [
    {
     "data": {
      "text/plain": [
       "{PDEntry : V1 F4 with energy = -43.7359: 0.4761904761904763,\n",
       " PDEntry : V1 F3 with energy = -39.1901: 0.3809523809523814,\n",
       " PDEntry : Ca1 with energy = -9.6682: 0.1428571428571429}"
      ]
     },
     "execution_count": 29,
     "metadata": {},
     "output_type": "execute_result"
    }
   ],
   "source": [
    "decomp_2= phase_diagram_1.get_decomposition(Composition(\"Ca1.5V2F7\"))\n",
    "decomp_2"
   ]
  },
  {
   "cell_type": "code",
   "execution_count": 58,
   "id": "d79bb27d",
   "metadata": {},
   "outputs": [
    {
     "name": "stdout",
     "output_type": "stream",
     "text": [
      "The energy above hull of V2F7 is 0.018290055555558737 eV/atom.\n"
     ]
    }
   ],
   "source": [
    "ehull_1 = phase_diagram_1.get_e_above_hull(PDEntry(  \"V2F7\",-82.76139))\n",
    "\n",
    "#Returns:- Stable entries should have energy above convex hull of 0. The energy is given per atom.\n",
    "\n",
    "print(\"The energy above hull of V2F7 is {0} eV/atom.\".format(ehull_1))\n",
    "    "
   ]
  },
  {
   "cell_type": "code",
   "execution_count": 59,
   "id": "5bd3376a",
   "metadata": {},
   "outputs": [],
   "source": [
    "#ehull_2 = phase_diagram_1.get_e_above_hull(PDEntry(\"CaCo2S3O12\",-178.321))\n",
    "#print(\"The energy above hull of Ca2Cr2(SiO4)3 is {0} eV/atom.\".format(ehull_2))"
   ]
  },
  {
   "cell_type": "code",
   "execution_count": 60,
   "id": "788bb288",
   "metadata": {},
   "outputs": [
    {
     "data": {
      "image/png": "[encoded data removed]",
      "text/plain": [
       "<Figure size 800x600 with 1 Axes>"
      ]
     },
     "metadata": {},
     "output_type": "display_data"
    },
    {
     "data": {
      "application/vnd.plotly.v1+json": {
       "config": {
        "plotlyServerURL": "https://plot.ly"
       },
       "data": [
        {
         "a": [
          0,
          0,
          null,
          0,
          0,
          null,
          0,
          0,
          null,
          1.4999999999999998,
          0,
          null,
          0,
          1.4999999999999998,
          null,
          0.9999999999999998,
          0,
          null,
          0,
          1.4999999999999998,
          null,
          1.4999999999999998,
          0,
          null,
          0,
          1,
          null,
          0,
          1.4999999999999998,
          null,
          0.9999999999999998,
          1.4999999999999998,
          null,
          0.9999999999999998,
          1,
          null,
          0,
          0,
          null,
          1.4999999999999998,
          1,
          null
         ],
         "b": [
          0.9999999999999998,
          1,
          null,
          1,
          0.9999999999999997,
          null,
          0.9999999999999997,
          0,
          null,
          2.0000000000000036,
          1,
          null,
          1,
          2.0000000000000036,
          null,
          0,
          0,
          null,
          0.9999999999999998,
          2.0000000000000036,
          null,
          2.0000000000000036,
          0,
          null,
          1,
          0,
          null,
          0.9999999999999997,
          2.0000000000000036,
          null,
          0,
          2.0000000000000036,
          null,
          0,
          0,
          null,
          0.9999999999999998,
          1,
          null,
          2.0000000000000036,
          0,
          null
         ],
         "c": [
          2.9999999999999982,
          4,
          null,
          4,
          4.999999999999998,
          null,
          4.999999999999998,
          2,
          null,
          7.0000000000000036,
          0,
          null,
          4,
          7.0000000000000036,
          null,
          2.0000000000000004,
          2,
          null,
          2.9999999999999982,
          7.0000000000000036,
          null,
          7.0000000000000036,
          2,
          null,
          0,
          0,
          null,
          4.999999999999998,
          7.0000000000000036,
          null,
          2.0000000000000004,
          7.0000000000000036,
          null,
          2.0000000000000004,
          0,
          null,
          2.9999999999999982,
          0,
          null,
          7.0000000000000036,
          0,
          null
         ],
         "hoverinfo": "none",
         "line": {
          "color": "black",
          "width": 1.5
         },
         "mode": "lines",
         "showlegend": false,
         "type": "scatterternary"
        },
        {
         "a": [
          1.4999999999999998,
          0.9999999999999998,
          0
         ],
         "b": [
          2.0000000000000036,
          0,
          0
         ],
         "c": [
          7.0000000000000036,
          2.0000000000000004,
          2
         ],
         "fill": "toself",
         "fillcolor": "#2E91E5",
         "hovertemplate": "<extra></extra>",
         "line": {
          "width": 0
         },
         "mode": "lines",
         "name": "Ca<sub>1.5</sub>V<sub>2</sub>F<sub>7</sub>—CaF<sub>2</sub>—F<sub>2</sub>",
         "opacity": 0.15,
         "showlegend": false,
         "type": "scatterternary"
        },
        {
         "a": [
          1,
          1.4999999999999998,
          0.9999999999999998
         ],
         "b": [
          0,
          2.0000000000000036,
          0
         ],
         "c": [
          0,
          7.0000000000000036,
          2.0000000000000004
         ],
         "fill": "toself",
         "fillcolor": "#E15F99",
         "hovertemplate": "<extra></extra>",
         "line": {
          "width": 0
         },
         "mode": "lines",
         "name": "Ca—Ca<sub>1.5</sub>V<sub>2</sub>F<sub>7</sub>—CaF<sub>2</sub>",
         "opacity": 0.15,
         "showlegend": false,
         "type": "scatterternary"
        },
        {
         "a": [
          1,
          1.4999999999999998,
          0
         ],
         "b": [
          0,
          2.0000000000000036,
          1
         ],
         "c": [
          0,
          7.0000000000000036,
          0
         ],
         "fill": "toself",
         "fillcolor": "#1CA71C",
         "hovertemplate": "<extra></extra>",
         "line": {
          "width": 0
         },
         "mode": "lines",
         "name": "Ca—Ca<sub>1.5</sub>V<sub>2</sub>F<sub>7</sub>—V",
         "opacity": 0.15,
         "showlegend": false,
         "type": "scatterternary"
        },
        {
         "a": [
          1.4999999999999998,
          0,
          0
         ],
         "b": [
          2.0000000000000036,
          1,
          0.9999999999999998
         ],
         "c": [
          7.0000000000000036,
          0,
          2.9999999999999982
         ],
         "fill": "toself",
         "fillcolor": "#FB0D0D",
         "hovertemplate": "<extra></extra>",
         "line": {
          "width": 0
         },
         "mode": "lines",
         "name": "Ca<sub>1.5</sub>V<sub>2</sub>F<sub>7</sub>—V—VF<sub>3</sub>",
         "opacity": 0.15,
         "showlegend": false,
         "type": "scatterternary"
        },
        {
         "a": [
          1.4999999999999998,
          0,
          0
         ],
         "b": [
          2.0000000000000036,
          0.9999999999999997,
          0
         ],
         "c": [
          7.0000000000000036,
          4.999999999999998,
          2
         ],
         "fill": "toself",
         "fillcolor": "#DA16FF",
         "hovertemplate": "<extra></extra>",
         "line": {
          "width": 0
         },
         "mode": "lines",
         "name": "Ca<sub>1.5</sub>V<sub>2</sub>F<sub>7</sub>—VF<sub>5</sub>—F<sub>2</sub>",
         "opacity": 0.15,
         "showlegend": false,
         "type": "scatterternary"
        },
        {
         "a": [
          1.4999999999999998,
          0,
          0
         ],
         "b": [
          2.0000000000000036,
          0.9999999999999998,
          1
         ],
         "c": [
          7.0000000000000036,
          2.9999999999999982,
          4
         ],
         "fill": "toself",
         "fillcolor": "#222A2A",
         "hovertemplate": "<extra></extra>",
         "line": {
          "width": 0
         },
         "mode": "lines",
         "name": "Ca<sub>1.5</sub>V<sub>2</sub>F<sub>7</sub>—VF<sub>3</sub>—VF<sub>4</sub>",
         "opacity": 0.15,
         "showlegend": false,
         "type": "scatterternary"
        },
        {
         "a": [
          1.4999999999999998,
          0,
          0
         ],
         "b": [
          2.0000000000000036,
          1,
          0.9999999999999997
         ],
         "c": [
          7.0000000000000036,
          4,
          4.999999999999998
         ],
         "fill": "toself",
         "fillcolor": "#B68100",
         "hovertemplate": "<extra></extra>",
         "line": {
          "width": 0
         },
         "mode": "lines",
         "name": "Ca<sub>1.5</sub>V<sub>2</sub>F<sub>7</sub>—VF<sub>4</sub>—VF<sub>5</sub>",
         "opacity": 0.15,
         "showlegend": false,
         "type": "scatterternary"
        },
        {
         "a": [
          0,
          0,
          0,
          0,
          1.4999999999999998,
          0,
          0.9999999999999998,
          1
         ],
         "b": [
          0.9999999999999998,
          1,
          0.9999999999999997,
          0,
          2.0000000000000036,
          1,
          0,
          0
         ],
         "c": [
          2.9999999999999982,
          4,
          4.999999999999998,
          2,
          7.0000000000000036,
          0,
          2.0000000000000004,
          0
         ],
         "cliponaxis": false,
         "hoverinfo": "text",
         "hoverlabel": {
          "font": {
           "size": 14
          }
         },
         "hovertext": [
          "VF<sub>3</sub> (no ID) <br> -2.853 eV/atom (Stable)",
          "VF<sub>4</sub> (no ID) <br> -2.501 eV/atom (Stable)",
          "VF<sub>5</sub> (no ID) <br> -2.217 eV/atom (Stable)",
          "F<sub>2</sub> (no ID) <br> 0.0 eV/atom (Stable)",
          "Ca<sub>1.5</sub>V<sub>2</sub>F<sub>7</sub> (no ID) <br> -3.294 eV/atom (Stable)",
          "V (no ID) <br> 0.0 eV/atom (Stable)",
          "CaF<sub>2</sub> (no ID) <br> -0.253 eV/atom (Stable)",
          "Ca (no ID) <br> 0.0 eV/atom (Stable)"
         ],
         "marker": {
          "color": "green",
          "line": {
           "color": "black",
           "width": 2
          },
          "size": 15,
          "symbol": "circle"
         },
         "mode": "markers",
         "name": "Stable",
         "showlegend": true,
         "type": "scatterternary"
        },
        {
         "a": [
          0,
          0,
          0,
          0.49999999999999983
         ],
         "b": [
          0.9999999999999998,
          2.0000000000000013,
          2.0000000000000013,
          1.0000000000000002
         ],
         "c": [
          2.9999999999999982,
          7.000000000000002,
          7.000000000000002,
          3.000000000000001
         ],
         "cliponaxis": false,
         "hoverinfo": "text",
         "hoverlabel": {
          "font": {
           "size": 14
          }
         },
         "hovertext": [
          "VF<sub>3</sub> (no ID) <br> -2.818 eV/atom (+0.035 eV/atom)",
          "V<sub>2</sub>F<sub>7</sub> (no ID) <br> -2.639 eV/atom (+0.018 eV/atom)",
          "V<sub>2</sub>F<sub>7</sub> (no ID) <br> -2.647 eV/atom (+0.011 eV/atom)",
          "Ca<sub>0.5</sub>V<sub>1</sub>F<sub>3</sub> (no ID) <br> -3.118 eV/atom (+0.007 eV/atom)"
         ],
         "marker": {
          "color": [
           0.035,
           0.018,
           0.011,
           0.007
          ],
          "colorbar": {
           "len": 0.5,
           "thickness": 0.02,
           "thicknessmode": "fraction",
           "title": {
            "text": "Energy Above Hull<br>(eV/atom)"
           },
           "x": 0,
           "xpad": 0,
           "y": 1,
           "yanchor": "top",
           "ypad": 0
          },
          "colorscale": [
           [
            0,
            "#fff5e3"
           ],
           [
            0.5,
            "#f24324"
           ],
           [
            1,
            "#c40000"
           ]
          ],
          "line": {
           "color": "black",
           "width": 1
          },
          "opacity": 0.8,
          "size": 7,
          "symbol": "diamond"
         },
         "mode": "markers",
         "name": "Above Hull",
         "showlegend": true,
         "type": "scatterternary"
        }
       ],
       "layout": {
        "autosize": true,
        "coloraxis": {
         "colorbar": {
          "x": 1,
          "y": 0.05,
          "yanchor": "top"
         }
        },
        "margin": {
         "b": 40,
         "l": 20,
         "r": 20,
         "t": 40
        },
        "paper_bgcolor": "rgba(0,0,0,0)",
        "plot_bgcolor": "rgba(0,0,0,0)",
        "showlegend": true,
        "template": {
         "data": {
          "bar": [
           {
            "error_x": {
             "color": "#2a3f5f"
            },
            "error_y": {
             "color": "#2a3f5f"
            },
            "marker": {
             "line": {
              "color": "#E5ECF6",
              "width": 0.5
             },
             "pattern": {
              "fillmode": "overlay",
              "size": 10,
              "solidity": 0.2
             }
            },
            "type": "bar"
           }
          ],
          "barpolar": [
           {
            "marker": {
             "line": {
              "color": "#E5ECF6",
              "width": 0.5
             },
             "pattern": {
              "fillmode": "overlay",
              "size": 10,
              "solidity": 0.2
             }
            },
            "type": "barpolar"
           }
          ],
          "carpet": [
           {
            "aaxis": {
             "endlinecolor": "#2a3f5f",
             "gridcolor": "white",
             "linecolor": "white",
             "minorgridcolor": "white",
             "startlinecolor": "#2a3f5f"
            },
            "baxis": {
             "endlinecolor": "#2a3f5f",
             "gridcolor": "white",
             "linecolor": "white",
             "minorgridcolor": "white",
             "startlinecolor": "#2a3f5f"
            },
            "type": "carpet"
           }
          ],
          "choropleth": [
           {
            "colorbar": {
             "outlinewidth": 0,
             "ticks": ""
            },
            "type": "choropleth"
           }
          ],
          "contour": [
           {
            "colorbar": {
             "outlinewidth": 0,
             "ticks": ""
            },
            "colorscale": [
             [
              0,
              "#0d0887"
             ],
             [
              0.1111111111111111,
              "#46039f"
             ],
             [
              0.2222222222222222,
              "#7201a8"
             ],
             [
              0.3333333333333333,
              "#9c179e"
             ],
             [
              0.4444444444444444,
              "#bd3786"
             ],
             [
              0.5555555555555556,
              "#d8576b"
             ],
             [
              0.6666666666666666,
              "#ed7953"
             ],
             [
              0.7777777777777778,
              "#fb9f3a"
             ],
             [
              0.8888888888888888,
              "#fdca26"
             ],
             [
              1,
              "#f0f921"
             ]
            ],
            "type": "contour"
           }
          ],
          "contourcarpet": [
           {
            "colorbar": {
             "outlinewidth": 0,
             "ticks": ""
            },
            "type": "contourcarpet"
           }
          ],
          "heatmap": [
           {
            "colorbar": {
             "outlinewidth": 0,
             "ticks": ""
            },
            "colorscale": [
             [
              0,
              "#0d0887"
             ],
             [
              0.1111111111111111,
              "#46039f"
             ],
             [
              0.2222222222222222,
              "#7201a8"
             ],
             [
              0.3333333333333333,
              "#9c179e"
             ],
             [
              0.4444444444444444,
              "#bd3786"
             ],
             [
              0.5555555555555556,
              "#d8576b"
             ],
             [
              0.6666666666666666,
              "#ed7953"
             ],
             [
              0.7777777777777778,
              "#fb9f3a"
             ],
             [
              0.8888888888888888,
              "#fdca26"
             ],
             [
              1,
              "#f0f921"
             ]
            ],
            "type": "heatmap"
           }
          ],
          "heatmapgl": [
           {
            "colorbar": {
             "outlinewidth": 0,
             "ticks": ""
            },
            "colorscale": [
             [
              0,
              "#0d0887"
             ],
             [
              0.1111111111111111,
              "#46039f"
             ],
             [
              0.2222222222222222,
              "#7201a8"
             ],
             [
              0.3333333333333333,
              "#9c179e"
             ],
             [
              0.4444444444444444,
              "#bd3786"
             ],
             [
              0.5555555555555556,
              "#d8576b"
             ],
             [
              0.6666666666666666,
              "#ed7953"
             ],
             [
              0.7777777777777778,
              "#fb9f3a"
             ],
             [
              0.8888888888888888,
              "#fdca26"
             ],
             [
              1,
              "#f0f921"
             ]
            ],
            "type": "heatmapgl"
           }
          ],
          "histogram": [
           {
            "marker": {
             "pattern": {
              "fillmode": "overlay",
              "size": 10,
              "solidity": 0.2
             }
            },
            "type": "histogram"
           }
          ],
          "histogram2d": [
           {
            "colorbar": {
             "outlinewidth": 0,
             "ticks": ""
            },
            "colorscale": [
             [
              0,
              "#0d0887"
             ],
             [
              0.1111111111111111,
              "#46039f"
             ],
             [
              0.2222222222222222,
              "#7201a8"
             ],
             [
              0.3333333333333333,
              "#9c179e"
             ],
             [
              0.4444444444444444,
              "#bd3786"
             ],
             [
              0.5555555555555556,
              "#d8576b"
             ],
             [
              0.6666666666666666,
              "#ed7953"
             ],
             [
              0.7777777777777778,
              "#fb9f3a"
             ],
             [
              0.8888888888888888,
              "#fdca26"
             ],
             [
              1,
              "#f0f921"
             ]
            ],
            "type": "histogram2d"
           }
          ],
          "histogram2dcontour": [
           {
            "colorbar": {
             "outlinewidth": 0,
             "ticks": ""
            },
            "colorscale": [
             [
              0,
              "#0d0887"
             ],
             [
              0.1111111111111111,
              "#46039f"
             ],
             [
              0.2222222222222222,
              "#7201a8"
             ],
             [
              0.3333333333333333,
              "#9c179e"
             ],
             [
              0.4444444444444444,
              "#bd3786"
             ],
             [
              0.5555555555555556,
              "#d8576b"
             ],
             [
              0.6666666666666666,
              "#ed7953"
             ],
             [
              0.7777777777777778,
              "#fb9f3a"
             ],
             [
              0.8888888888888888,
              "#fdca26"
             ],
             [
              1,
              "#f0f921"
             ]
            ],
            "type": "histogram2dcontour"
           }
          ],
          "mesh3d": [
           {
            "colorbar": {
             "outlinewidth": 0,
             "ticks": ""
            },
            "type": "mesh3d"
           }
          ],
          "parcoords": [
           {
            "line": {
             "colorbar": {
              "outlinewidth": 0,
              "ticks": ""
             }
            },
            "type": "parcoords"
           }
          ],
          "pie": [
           {
            "automargin": true,
            "type": "pie"
           }
          ],
          "scatter": [
           {
            "fillpattern": {
             "fillmode": "overlay",
             "size": 10,
             "solidity": 0.2
            },
            "type": "scatter"
           }
          ],
          "scatter3d": [
           {
            "line": {
             "colorbar": {
              "outlinewidth": 0,
              "ticks": ""
             }
            },
            "marker": {
             "colorbar": {
              "outlinewidth": 0,
              "ticks": ""
             }
            },
            "type": "scatter3d"
           }
          ],
          "scattercarpet": [
           {
            "marker": {
             "colorbar": {
              "outlinewidth": 0,
              "ticks": ""
             }
            },
            "type": "scattercarpet"
           }
          ],
          "scattergeo": [
           {
            "marker": {
             "colorbar": {
              "outlinewidth": 0,
              "ticks": ""
             }
            },
            "type": "scattergeo"
           }
          ],
          "scattergl": [
           {
            "marker": {
             "colorbar": {
              "outlinewidth": 0,
              "ticks": ""
             }
            },
            "type": "scattergl"
           }
          ],
          "scattermapbox": [
           {
            "marker": {
             "colorbar": {
              "outlinewidth": 0,
              "ticks": ""
             }
            },
            "type": "scattermapbox"
           }
          ],
          "scatterpolar": [
           {
            "marker": {
             "colorbar": {
              "outlinewidth": 0,
              "ticks": ""
             }
            },
            "type": "scatterpolar"
           }
          ],
          "scatterpolargl": [
           {
            "marker": {
             "colorbar": {
              "outlinewidth": 0,
              "ticks": ""
             }
            },
            "type": "scatterpolargl"
           }
          ],
          "scatterternary": [
           {
            "marker": {
             "colorbar": {
              "outlinewidth": 0,
              "ticks": ""
             }
            },
            "type": "scatterternary"
           }
          ],
          "surface": [
           {
            "colorbar": {
             "outlinewidth": 0,
             "ticks": ""
            },
            "colorscale": [
             [
              0,
              "#0d0887"
             ],
             [
              0.1111111111111111,
              "#46039f"
             ],
             [
              0.2222222222222222,
              "#7201a8"
             ],
             [
              0.3333333333333333,
              "#9c179e"
             ],
             [
              0.4444444444444444,
              "#bd3786"
             ],
             [
              0.5555555555555556,
              "#d8576b"
             ],
             [
              0.6666666666666666,
              "#ed7953"
             ],
             [
              0.7777777777777778,
              "#fb9f3a"
             ],
             [
              0.8888888888888888,
              "#fdca26"
             ],
             [
              1,
              "#f0f921"
             ]
            ],
            "type": "surface"
           }
          ],
          "table": [
           {
            "cells": {
             "fill": {
              "color": "#EBF0F8"
             },
             "line": {
              "color": "white"
             }
            },
            "header": {
             "fill": {
              "color": "#C8D4E3"
             },
             "line": {
              "color": "white"
             }
            },
            "type": "table"
           }
          ]
         },
         "layout": {
          "annotationdefaults": {
           "arrowcolor": "#2a3f5f",
           "arrowhead": 0,
           "arrowwidth": 1
          },
          "autotypenumbers": "strict",
          "coloraxis": {
           "colorbar": {
            "outlinewidth": 0,
            "ticks": ""
           }
          },
          "colorscale": {
           "diverging": [
            [
             0,
             "#8e0152"
            ],
            [
             0.1,
             "#c51b7d"
            ],
            [
             0.2,
             "#de77ae"
            ],
            [
             0.3,
             "#f1b6da"
            ],
            [
             0.4,
             "#fde0ef"
            ],
            [
             0.5,
             "#f7f7f7"
            ],
            [
             0.6,
             "#e6f5d0"
            ],
            [
             0.7,
             "#b8e186"
            ],
            [
             0.8,
             "#7fbc41"
            ],
            [
             0.9,
             "#4d9221"
            ],
            [
             1,
             "#276419"
            ]
           ],
           "sequential": [
            [
             0,
             "#0d0887"
            ],
            [
             0.1111111111111111,
             "#46039f"
            ],
            [
             0.2222222222222222,
             "#7201a8"
            ],
            [
             0.3333333333333333,
             "#9c179e"
            ],
            [
             0.4444444444444444,
             "#bd3786"
            ],
            [
             0.5555555555555556,
             "#d8576b"
            ],
            [
             0.6666666666666666,
             "#ed7953"
            ],
            [
             0.7777777777777778,
             "#fb9f3a"
            ],
            [
             0.8888888888888888,
             "#fdca26"
            ],
            [
             1,
             "#f0f921"
            ]
           ],
           "sequentialminus": [
            [
             0,
             "#0d0887"
            ],
            [
             0.1111111111111111,
             "#46039f"
            ],
            [
             0.2222222222222222,
             "#7201a8"
            ],
            [
             0.3333333333333333,
             "#9c179e"
            ],
            [
             0.4444444444444444,
             "#bd3786"
            ],
            [
             0.5555555555555556,
             "#d8576b"
            ],
            [
             0.6666666666666666,
             "#ed7953"
            ],
            [
             0.7777777777777778,
             "#fb9f3a"
            ],
            [
             0.8888888888888888,
             "#fdca26"
            ],
            [
             1,
             "#f0f921"
            ]
           ]
          },
          "colorway": [
           "#636efa",
           "#EF553B",
           "#00cc96",
           "#ab63fa",
           "#FFA15A",
           "#19d3f3",
           "#FF6692",
           "#B6E880",
           "#FF97FF",
           "#FECB52"
          ],
          "font": {
           "color": "#2a3f5f"
          },
          "geo": {
           "bgcolor": "white",
           "lakecolor": "white",
           "landcolor": "#E5ECF6",
           "showlakes": true,
           "showland": true,
           "subunitcolor": "white"
          },
          "hoverlabel": {
           "align": "left"
          },
          "hovermode": "closest",
          "mapbox": {
           "style": "light"
          },
          "paper_bgcolor": "white",
          "plot_bgcolor": "#E5ECF6",
          "polar": {
           "angularaxis": {
            "gridcolor": "white",
            "linecolor": "white",
            "ticks": ""
           },
           "bgcolor": "#E5ECF6",
           "radialaxis": {
            "gridcolor": "white",
            "linecolor": "white",
            "ticks": ""
           }
          },
          "scene": {
           "xaxis": {
            "backgroundcolor": "#E5ECF6",
            "gridcolor": "white",
            "gridwidth": 2,
            "linecolor": "white",
            "showbackground": true,
            "ticks": "",
            "zerolinecolor": "white"
           },
           "yaxis": {
            "backgroundcolor": "#E5ECF6",
            "gridcolor": "white",
            "gridwidth": 2,
            "linecolor": "white",
            "showbackground": true,
            "ticks": "",
            "zerolinecolor": "white"
           },
           "zaxis": {
            "backgroundcolor": "#E5ECF6",
            "gridcolor": "white",
            "gridwidth": 2,
            "linecolor": "white",
            "showbackground": true,
            "ticks": "",
            "zerolinecolor": "white"
           }
          },
          "shapedefaults": {
           "line": {
            "color": "#2a3f5f"
           }
          },
          "ternary": {
           "aaxis": {
            "gridcolor": "white",
            "linecolor": "white",
            "ticks": ""
           },
           "baxis": {
            "gridcolor": "white",
            "linecolor": "white",
            "ticks": ""
           },
           "bgcolor": "#E5ECF6",
           "caxis": {
            "gridcolor": "white",
            "linecolor": "white",
            "ticks": ""
           }
          },
          "title": {
           "x": 0.05
          },
          "xaxis": {
           "automargin": true,
           "gridcolor": "white",
           "linecolor": "white",
           "ticks": "",
           "title": {
            "standoff": 15
           },
           "zerolinecolor": "white",
           "zerolinewidth": 2
          },
          "yaxis": {
           "automargin": true,
           "gridcolor": "white",
           "linecolor": "white",
           "ticks": "",
           "title": {
            "standoff": 15
           },
           "zerolinecolor": "white",
           "zerolinewidth": 2
          }
         }
        },
        "ternary": {
         "aaxis": {
          "layer": "below traces",
          "showgrid": true,
          "showticklabels": true,
          "tickfont": {
           "color": "rgba(0,0,0,0)",
           "size": 7
          },
          "title": {
           "font": {
            "size": 24
           },
           "text": "Ca"
          }
         },
         "baxis": {
          "layer": "below traces",
          "min": 0,
          "showgrid": true,
          "showticklabels": true,
          "tickfont": {
           "color": "rgba(0,0,0,0)",
           "size": 7
          },
          "title": {
           "font": {
            "size": 24
           },
           "text": "V"
          }
         },
         "caxis": {
          "layer": "below traces",
          "min": 0,
          "showgrid": true,
          "showticklabels": true,
          "tickfont": {
           "color": "rgba(0,0,0,0)",
           "size": 7
          },
          "title": {
           "font": {
            "size": 24
           },
           "text": "F<sub>2</sub>"
          }
         },
         "sum": 1
        }
       }
      },
      "text/html": [
       "<div>                            <div id=\"2f3d95fa-9b0b-416e-b74b-05bf01e46af7\" class=\"plotly-graph-div\" style=\"height:525px; width:100%;\"></div>            <script type=\"text/javascript\">                require([\"plotly\"], function(Plotly) {                    window.PLOTLYENV=window.PLOTLYENV || {};                                    if (document.getElementById(\"2f3d95fa-9b0b-416e-b74b-05bf01e46af7\")) {                    Plotly.newPlot(                        \"2f3d95fa-9b0b-416e-b74b-05bf01e46af7\",                        [{\"a\":[0,0,null,0,0,null,0,0,null,1.4999999999999998,0,null,0,1.4999999999999998,null,0.9999999999999998,0,null,0,1.4999999999999998,null,1.4999999999999998,0,null,0,1.0,null,0,1.4999999999999998,null,0.9999999999999998,1.4999999999999998,null,0.9999999999999998,1.0,null,0,0,null,1.4999999999999998,1.0,null],\"b\":[0.9999999999999998,1.0,null,1.0,0.9999999999999997,null,0.9999999999999997,0,null,2.0000000000000036,1.0,null,1.0,2.0000000000000036,null,0,0,null,0.9999999999999998,2.0000000000000036,null,2.0000000000000036,0,null,1.0,0,null,0.9999999999999997,2.0000000000000036,null,0,2.0000000000000036,null,0,0,null,0.9999999999999998,1.0,null,2.0000000000000036,0,null],\"c\":[2.9999999999999982,4.0,null,4.0,4.999999999999998,null,4.999999999999998,2.0,null,7.0000000000000036,0,null,4.0,7.0000000000000036,null,2.0000000000000004,2.0,null,2.9999999999999982,7.0000000000000036,null,7.0000000000000036,2.0,null,0,0,null,4.999999999999998,7.0000000000000036,null,2.0000000000000004,7.0000000000000036,null,2.0000000000000004,0,null,2.9999999999999982,0,null,7.0000000000000036,0,null],\"hoverinfo\":\"none\",\"line\":{\"color\":\"black\",\"width\":1.5},\"mode\":\"lines\",\"showlegend\":false,\"type\":\"scatterternary\"},{\"a\":[1.4999999999999998,0.9999999999999998,0],\"b\":[2.0000000000000036,0,0],\"c\":[7.0000000000000036,2.0000000000000004,2.0],\"fill\":\"toself\",\"fillcolor\":\"#2E91E5\",\"hovertemplate\":\"<extra></extra>\",\"line\":{\"width\":0},\"mode\":\"lines\",\"name\":\"Ca<sub>1.5</sub>V<sub>2</sub>F<sub>7</sub>\\u2014CaF<sub>2</sub>\\u2014F<sub>2</sub>\",\"opacity\":0.15,\"showlegend\":false,\"type\":\"scatterternary\"},{\"a\":[1.0,1.4999999999999998,0.9999999999999998],\"b\":[0,2.0000000000000036,0],\"c\":[0,7.0000000000000036,2.0000000000000004],\"fill\":\"toself\",\"fillcolor\":\"#E15F99\",\"hovertemplate\":\"<extra></extra>\",\"line\":{\"width\":0},\"mode\":\"lines\",\"name\":\"Ca\\u2014Ca<sub>1.5</sub>V<sub>2</sub>F<sub>7</sub>\\u2014CaF<sub>2</sub>\",\"opacity\":0.15,\"showlegend\":false,\"type\":\"scatterternary\"},{\"a\":[1.0,1.4999999999999998,0],\"b\":[0,2.0000000000000036,1.0],\"c\":[0,7.0000000000000036,0],\"fill\":\"toself\",\"fillcolor\":\"#1CA71C\",\"hovertemplate\":\"<extra></extra>\",\"line\":{\"width\":0},\"mode\":\"lines\",\"name\":\"Ca\\u2014Ca<sub>1.5</sub>V<sub>2</sub>F<sub>7</sub>\\u2014V\",\"opacity\":0.15,\"showlegend\":false,\"type\":\"scatterternary\"},{\"a\":[1.4999999999999998,0,0],\"b\":[2.0000000000000036,1.0,0.9999999999999998],\"c\":[7.0000000000000036,0,2.9999999999999982],\"fill\":\"toself\",\"fillcolor\":\"#FB0D0D\",\"hovertemplate\":\"<extra></extra>\",\"line\":{\"width\":0},\"mode\":\"lines\",\"name\":\"Ca<sub>1.5</sub>V<sub>2</sub>F<sub>7</sub>\\u2014V\\u2014VF<sub>3</sub>\",\"opacity\":0.15,\"showlegend\":false,\"type\":\"scatterternary\"},{\"a\":[1.4999999999999998,0,0],\"b\":[2.0000000000000036,0.9999999999999997,0],\"c\":[7.0000000000000036,4.999999999999998,2.0],\"fill\":\"toself\",\"fillcolor\":\"#DA16FF\",\"hovertemplate\":\"<extra></extra>\",\"line\":{\"width\":0},\"mode\":\"lines\",\"name\":\"Ca<sub>1.5</sub>V<sub>2</sub>F<sub>7</sub>\\u2014VF<sub>5</sub>\\u2014F<sub>2</sub>\",\"opacity\":0.15,\"showlegend\":false,\"type\":\"scatterternary\"},{\"a\":[1.4999999999999998,0,0],\"b\":[2.0000000000000036,0.9999999999999998,1.0],\"c\":[7.0000000000000036,2.9999999999999982,4.0],\"fill\":\"toself\",\"fillcolor\":\"#222A2A\",\"hovertemplate\":\"<extra></extra>\",\"line\":{\"width\":0},\"mode\":\"lines\",\"name\":\"Ca<sub>1.5</sub>V<sub>2</sub>F<sub>7</sub>\\u2014VF<sub>3</sub>\\u2014VF<sub>4</sub>\",\"opacity\":0.15,\"showlegend\":false,\"type\":\"scatterternary\"},{\"a\":[1.4999999999999998,0,0],\"b\":[2.0000000000000036,1.0,0.9999999999999997],\"c\":[7.0000000000000036,4.0,4.999999999999998],\"fill\":\"toself\",\"fillcolor\":\"#B68100\",\"hovertemplate\":\"<extra></extra>\",\"line\":{\"width\":0},\"mode\":\"lines\",\"name\":\"Ca<sub>1.5</sub>V<sub>2</sub>F<sub>7</sub>\\u2014VF<sub>4</sub>\\u2014VF<sub>5</sub>\",\"opacity\":0.15,\"showlegend\":false,\"type\":\"scatterternary\"},{\"a\":[0,0,0,0,1.4999999999999998,0,0.9999999999999998,1.0],\"b\":[0.9999999999999998,1.0,0.9999999999999997,0,2.0000000000000036,1.0,0,0],\"c\":[2.9999999999999982,4.0,4.999999999999998,2.0,7.0000000000000036,0,2.0000000000000004,0],\"cliponaxis\":false,\"hoverinfo\":\"text\",\"hoverlabel\":{\"font\":{\"size\":14}},\"hovertext\":[\"VF<sub>3</sub> (no ID) <br> -2.853 eV/atom (Stable)\",\"VF<sub>4</sub> (no ID) <br> -2.501 eV/atom (Stable)\",\"VF<sub>5</sub> (no ID) <br> -2.217 eV/atom (Stable)\",\"F<sub>2</sub> (no ID) <br> 0.0 eV/atom (Stable)\",\"Ca<sub>1.5</sub>V<sub>2</sub>F<sub>7</sub> (no ID) <br> -3.294 eV/atom (Stable)\",\"V (no ID) <br> 0.0 eV/atom (Stable)\",\"CaF<sub>2</sub> (no ID) <br> -0.253 eV/atom (Stable)\",\"Ca (no ID) <br> 0.0 eV/atom (Stable)\"],\"marker\":{\"color\":\"green\",\"line\":{\"color\":\"black\",\"width\":2.0},\"size\":15,\"symbol\":\"circle\"},\"mode\":\"markers\",\"name\":\"Stable\",\"showlegend\":true,\"type\":\"scatterternary\"},{\"a\":[0,0,0,0.49999999999999983],\"b\":[0.9999999999999998,2.0000000000000013,2.0000000000000013,1.0000000000000002],\"c\":[2.9999999999999982,7.000000000000002,7.000000000000002,3.000000000000001],\"cliponaxis\":false,\"hoverinfo\":\"text\",\"hoverlabel\":{\"font\":{\"size\":14}},\"hovertext\":[\"VF<sub>3</sub> (no ID) <br> -2.818 eV/atom (+0.035 eV/atom)\",\"V<sub>2</sub>F<sub>7</sub> (no ID) <br> -2.639 eV/atom (+0.018 eV/atom)\",\"V<sub>2</sub>F<sub>7</sub> (no ID) <br> -2.647 eV/atom (+0.011 eV/atom)\",\"Ca<sub>0.5</sub>V<sub>1</sub>F<sub>3</sub> (no ID) <br> -3.118 eV/atom (+0.007 eV/atom)\"],\"marker\":{\"color\":[0.035,0.018,0.011,0.007],\"colorbar\":{\"len\":0.5,\"thickness\":0.02,\"thicknessmode\":\"fraction\",\"title\":{\"text\":\"Energy Above Hull<br>(eV/atom)\"},\"x\":0,\"xpad\":0,\"y\":1,\"yanchor\":\"top\",\"ypad\":0},\"colorscale\":[[0.0,\"#fff5e3\"],[0.5,\"#f24324\"],[1.0,\"#c40000\"]],\"line\":{\"color\":\"black\",\"width\":1},\"opacity\":0.8,\"size\":7,\"symbol\":\"diamond\"},\"mode\":\"markers\",\"name\":\"Above Hull\",\"showlegend\":true,\"type\":\"scatterternary\"}],                        {\"autosize\":true,\"margin\":{\"b\":40,\"l\":20,\"r\":20,\"t\":40},\"paper_bgcolor\":\"rgba(0,0,0,0)\",\"plot_bgcolor\":\"rgba(0,0,0,0)\",\"showlegend\":true,\"ternary\":{\"aaxis\":{\"layer\":\"below traces\",\"showgrid\":true,\"showticklabels\":true,\"tickfont\":{\"color\":\"rgba(0,0,0,0)\",\"size\":7},\"title\":{\"font\":{\"size\":24},\"text\":\"Ca\"}},\"baxis\":{\"layer\":\"below traces\",\"min\":0,\"showgrid\":true,\"showticklabels\":true,\"tickfont\":{\"color\":\"rgba(0,0,0,0)\",\"size\":7},\"title\":{\"font\":{\"size\":24},\"text\":\"V\"}},\"caxis\":{\"layer\":\"below traces\",\"min\":0,\"showgrid\":true,\"showticklabels\":true,\"tickfont\":{\"color\":\"rgba(0,0,0,0)\",\"size\":7},\"title\":{\"font\":{\"size\":24},\"text\":\"F<sub>2</sub>\"}},\"sum\":1},\"template\":{\"data\":{\"histogram2dcontour\":[{\"type\":\"histogram2dcontour\",\"colorbar\":{\"outlinewidth\":0,\"ticks\":\"\"},\"colorscale\":[[0.0,\"#0d0887\"],[0.1111111111111111,\"#46039f\"],[0.2222222222222222,\"#7201a8\"],[0.3333333333333333,\"#9c179e\"],[0.4444444444444444,\"#bd3786\"],[0.5555555555555556,\"#d8576b\"],[0.6666666666666666,\"#ed7953\"],[0.7777777777777778,\"#fb9f3a\"],[0.8888888888888888,\"#fdca26\"],[1.0,\"#f0f921\"]]}],\"choropleth\":[{\"type\":\"choropleth\",\"colorbar\":{\"outlinewidth\":0,\"ticks\":\"\"}}],\"histogram2d\":[{\"type\":\"histogram2d\",\"colorbar\":{\"outlinewidth\":0,\"ticks\":\"\"},\"colorscale\":[[0.0,\"#0d0887\"],[0.1111111111111111,\"#46039f\"],[0.2222222222222222,\"#7201a8\"],[0.3333333333333333,\"#9c179e\"],[0.4444444444444444,\"#bd3786\"],[0.5555555555555556,\"#d8576b\"],[0.6666666666666666,\"#ed7953\"],[0.7777777777777778,\"#fb9f3a\"],[0.8888888888888888,\"#fdca26\"],[1.0,\"#f0f921\"]]}],\"heatmap\":[{\"type\":\"heatmap\",\"colorbar\":{\"outlinewidth\":0,\"ticks\":\"\"},\"colorscale\":[[0.0,\"#0d0887\"],[0.1111111111111111,\"#46039f\"],[0.2222222222222222,\"#7201a8\"],[0.3333333333333333,\"#9c179e\"],[0.4444444444444444,\"#bd3786\"],[0.5555555555555556,\"#d8576b\"],[0.6666666666666666,\"#ed7953\"],[0.7777777777777778,\"#fb9f3a\"],[0.8888888888888888,\"#fdca26\"],[1.0,\"#f0f921\"]]}],\"heatmapgl\":[{\"type\":\"heatmapgl\",\"colorbar\":{\"outlinewidth\":0,\"ticks\":\"\"},\"colorscale\":[[0.0,\"#0d0887\"],[0.1111111111111111,\"#46039f\"],[0.2222222222222222,\"#7201a8\"],[0.3333333333333333,\"#9c179e\"],[0.4444444444444444,\"#bd3786\"],[0.5555555555555556,\"#d8576b\"],[0.6666666666666666,\"#ed7953\"],[0.7777777777777778,\"#fb9f3a\"],[0.8888888888888888,\"#fdca26\"],[1.0,\"#f0f921\"]]}],\"contourcarpet\":[{\"type\":\"contourcarpet\",\"colorbar\":{\"outlinewidth\":0,\"ticks\":\"\"}}],\"contour\":[{\"type\":\"contour\",\"colorbar\":{\"outlinewidth\":0,\"ticks\":\"\"},\"colorscale\":[[0.0,\"#0d0887\"],[0.1111111111111111,\"#46039f\"],[0.2222222222222222,\"#7201a8\"],[0.3333333333333333,\"#9c179e\"],[0.4444444444444444,\"#bd3786\"],[0.5555555555555556,\"#d8576b\"],[0.6666666666666666,\"#ed7953\"],[0.7777777777777778,\"#fb9f3a\"],[0.8888888888888888,\"#fdca26\"],[1.0,\"#f0f921\"]]}],\"surface\":[{\"type\":\"surface\",\"colorbar\":{\"outlinewidth\":0,\"ticks\":\"\"},\"colorscale\":[[0.0,\"#0d0887\"],[0.1111111111111111,\"#46039f\"],[0.2222222222222222,\"#7201a8\"],[0.3333333333333333,\"#9c179e\"],[0.4444444444444444,\"#bd3786\"],[0.5555555555555556,\"#d8576b\"],[0.6666666666666666,\"#ed7953\"],[0.7777777777777778,\"#fb9f3a\"],[0.8888888888888888,\"#fdca26\"],[1.0,\"#f0f921\"]]}],\"mesh3d\":[{\"type\":\"mesh3d\",\"colorbar\":{\"outlinewidth\":0,\"ticks\":\"\"}}],\"scatter\":[{\"fillpattern\":{\"fillmode\":\"overlay\",\"size\":10,\"solidity\":0.2},\"type\":\"scatter\"}],\"parcoords\":[{\"type\":\"parcoords\",\"line\":{\"colorbar\":{\"outlinewidth\":0,\"ticks\":\"\"}}}],\"scatterpolargl\":[{\"type\":\"scatterpolargl\",\"marker\":{\"colorbar\":{\"outlinewidth\":0,\"ticks\":\"\"}}}],\"bar\":[{\"error_x\":{\"color\":\"#2a3f5f\"},\"error_y\":{\"color\":\"#2a3f5f\"},\"marker\":{\"line\":{\"color\":\"#E5ECF6\",\"width\":0.5},\"pattern\":{\"fillmode\":\"overlay\",\"size\":10,\"solidity\":0.2}},\"type\":\"bar\"}],\"scattergeo\":[{\"type\":\"scattergeo\",\"marker\":{\"colorbar\":{\"outlinewidth\":0,\"ticks\":\"\"}}}],\"scatterpolar\":[{\"type\":\"scatterpolar\",\"marker\":{\"colorbar\":{\"outlinewidth\":0,\"ticks\":\"\"}}}],\"histogram\":[{\"marker\":{\"pattern\":{\"fillmode\":\"overlay\",\"size\":10,\"solidity\":0.2}},\"type\":\"histogram\"}],\"scattergl\":[{\"type\":\"scattergl\",\"marker\":{\"colorbar\":{\"outlinewidth\":0,\"ticks\":\"\"}}}],\"scatter3d\":[{\"type\":\"scatter3d\",\"line\":{\"colorbar\":{\"outlinewidth\":0,\"ticks\":\"\"}},\"marker\":{\"colorbar\":{\"outlinewidth\":0,\"ticks\":\"\"}}}],\"scattermapbox\":[{\"type\":\"scattermapbox\",\"marker\":{\"colorbar\":{\"outlinewidth\":0,\"ticks\":\"\"}}}],\"scatterternary\":[{\"type\":\"scatterternary\",\"marker\":{\"colorbar\":{\"outlinewidth\":0,\"ticks\":\"\"}}}],\"scattercarpet\":[{\"type\":\"scattercarpet\",\"marker\":{\"colorbar\":{\"outlinewidth\":0,\"ticks\":\"\"}}}],\"carpet\":[{\"aaxis\":{\"endlinecolor\":\"#2a3f5f\",\"gridcolor\":\"white\",\"linecolor\":\"white\",\"minorgridcolor\":\"white\",\"startlinecolor\":\"#2a3f5f\"},\"baxis\":{\"endlinecolor\":\"#2a3f5f\",\"gridcolor\":\"white\",\"linecolor\":\"white\",\"minorgridcolor\":\"white\",\"startlinecolor\":\"#2a3f5f\"},\"type\":\"carpet\"}],\"table\":[{\"cells\":{\"fill\":{\"color\":\"#EBF0F8\"},\"line\":{\"color\":\"white\"}},\"header\":{\"fill\":{\"color\":\"#C8D4E3\"},\"line\":{\"color\":\"white\"}},\"type\":\"table\"}],\"barpolar\":[{\"marker\":{\"line\":{\"color\":\"#E5ECF6\",\"width\":0.5},\"pattern\":{\"fillmode\":\"overlay\",\"size\":10,\"solidity\":0.2}},\"type\":\"barpolar\"}],\"pie\":[{\"automargin\":true,\"type\":\"pie\"}]},\"layout\":{\"autotypenumbers\":\"strict\",\"colorway\":[\"#636efa\",\"#EF553B\",\"#00cc96\",\"#ab63fa\",\"#FFA15A\",\"#19d3f3\",\"#FF6692\",\"#B6E880\",\"#FF97FF\",\"#FECB52\"],\"font\":{\"color\":\"#2a3f5f\"},\"hovermode\":\"closest\",\"hoverlabel\":{\"align\":\"left\"},\"paper_bgcolor\":\"white\",\"plot_bgcolor\":\"#E5ECF6\",\"polar\":{\"bgcolor\":\"#E5ECF6\",\"angularaxis\":{\"gridcolor\":\"white\",\"linecolor\":\"white\",\"ticks\":\"\"},\"radialaxis\":{\"gridcolor\":\"white\",\"linecolor\":\"white\",\"ticks\":\"\"}},\"ternary\":{\"bgcolor\":\"#E5ECF6\",\"aaxis\":{\"gridcolor\":\"white\",\"linecolor\":\"white\",\"ticks\":\"\"},\"baxis\":{\"gridcolor\":\"white\",\"linecolor\":\"white\",\"ticks\":\"\"},\"caxis\":{\"gridcolor\":\"white\",\"linecolor\":\"white\",\"ticks\":\"\"}},\"coloraxis\":{\"colorbar\":{\"outlinewidth\":0,\"ticks\":\"\"}},\"colorscale\":{\"sequential\":[[0.0,\"#0d0887\"],[0.1111111111111111,\"#46039f\"],[0.2222222222222222,\"#7201a8\"],[0.3333333333333333,\"#9c179e\"],[0.4444444444444444,\"#bd3786\"],[0.5555555555555556,\"#d8576b\"],[0.6666666666666666,\"#ed7953\"],[0.7777777777777778,\"#fb9f3a\"],[0.8888888888888888,\"#fdca26\"],[1.0,\"#f0f921\"]],\"sequentialminus\":[[0.0,\"#0d0887\"],[0.1111111111111111,\"#46039f\"],[0.2222222222222222,\"#7201a8\"],[0.3333333333333333,\"#9c179e\"],[0.4444444444444444,\"#bd3786\"],[0.5555555555555556,\"#d8576b\"],[0.6666666666666666,\"#ed7953\"],[0.7777777777777778,\"#fb9f3a\"],[0.8888888888888888,\"#fdca26\"],[1.0,\"#f0f921\"]],\"diverging\":[[0,\"#8e0152\"],[0.1,\"#c51b7d\"],[0.2,\"#de77ae\"],[0.3,\"#f1b6da\"],[0.4,\"#fde0ef\"],[0.5,\"#f7f7f7\"],[0.6,\"#e6f5d0\"],[0.7,\"#b8e186\"],[0.8,\"#7fbc41\"],[0.9,\"#4d9221\"],[1,\"#276419\"]]},\"xaxis\":{\"gridcolor\":\"white\",\"linecolor\":\"white\",\"ticks\":\"\",\"title\":{\"standoff\":15},\"zerolinecolor\":\"white\",\"automargin\":true,\"zerolinewidth\":2},\"yaxis\":{\"gridcolor\":\"white\",\"linecolor\":\"white\",\"ticks\":\"\",\"title\":{\"standoff\":15},\"zerolinecolor\":\"white\",\"automargin\":true,\"zerolinewidth\":2},\"scene\":{\"xaxis\":{\"backgroundcolor\":\"#E5ECF6\",\"gridcolor\":\"white\",\"linecolor\":\"white\",\"showbackground\":true,\"ticks\":\"\",\"zerolinecolor\":\"white\",\"gridwidth\":2},\"yaxis\":{\"backgroundcolor\":\"#E5ECF6\",\"gridcolor\":\"white\",\"linecolor\":\"white\",\"showbackground\":true,\"ticks\":\"\",\"zerolinecolor\":\"white\",\"gridwidth\":2},\"zaxis\":{\"backgroundcolor\":\"#E5ECF6\",\"gridcolor\":\"white\",\"linecolor\":\"white\",\"showbackground\":true,\"ticks\":\"\",\"zerolinecolor\":\"white\",\"gridwidth\":2}},\"shapedefaults\":{\"line\":{\"color\":\"#2a3f5f\"}},\"annotationdefaults\":{\"arrowcolor\":\"#2a3f5f\",\"arrowhead\":0,\"arrowwidth\":1},\"geo\":{\"bgcolor\":\"white\",\"landcolor\":\"#E5ECF6\",\"subunitcolor\":\"white\",\"showland\":true,\"showlakes\":true,\"lakecolor\":\"white\"},\"title\":{\"x\":0.05},\"mapbox\":{\"style\":\"light\"}}},\"coloraxis\":{\"colorbar\":{\"yanchor\":\"top\",\"y\":0.05,\"x\":1}}},                        {\"responsive\": true}                    ).then(function(){\n",
       "                            \n",
       "var gd = document.getElementById('2f3d95fa-9b0b-416e-b74b-05bf01e46af7');\n",
       "var x = new MutationObserver(function (mutations, observer) {{\n",
       "        var display = window.getComputedStyle(gd).display;\n",
       "        if (!display || display === 'none') {{\n",
       "            console.log([gd, 'removed!']);\n",
       "            Plotly.purge(gd);\n",
       "            observer.disconnect();\n",
       "        }}\n",
       "}});\n",
       "\n",
       "// Listen for the removal of the full notebook cells\n",
       "var notebookContainer = gd.closest('#notebook-container');\n",
       "if (notebookContainer) {{\n",
       "    x.observe(notebookContainer, {childList: true});\n",
       "}}\n",
       "\n",
       "// Listen for the clearing of the current output cell\n",
       "var outputEl = gd.closest('.output');\n",
       "if (outputEl) {{\n",
       "    x.observe(outputEl, {childList: true});\n",
       "}}\n",
       "\n",
       "                        })                };                });            </script>        </div>"
      ]
     },
     "metadata": {},
     "output_type": "display_data"
    }
   ],
   "source": [
    "phase_diagram_2 = CompoundPhaseDiagram(entries,[Composition(\"Ca\"),\n",
    "                                                Composition(\"V\"),\n",
    "                                                Composition(\"F\")])\n",
    "\n",
    "compound_plotter_2 = PDPlotter(phase_diagram_2, show_unstable=True, backend = \"matplotlib\",  markersize=20)\n",
    "z = compound_plotter_2.get_plot(label_unstable=False, label_stable=True)\n",
    "#z.savefig('CaxTi2F7.pdf')\n",
    "z.show()   \n",
    "\n",
    "compound_plotter_2 = PDPlotter(phase_diagram_2, show_unstable = 0.2, markerize=20)\n",
    "y = compound_plotter_2.get_plot(phase_diagram_2, label_unstable=True)\n",
    "y.show()\n",
    "\n",
    "\n"
   ]
  },
  {
   "cell_type": "code",
   "execution_count": 9,
   "id": "dfc17f6e",
   "metadata": {},
   "outputs": [
    {
     "data": {
      "image/png": "[encoded data removed]",
      "text/plain": [
       "<Figure size 576x432 with 1 Axes>"
      ]
     },
     "metadata": {},
     "output_type": "display_data"
    },
    {
     "data": {
      "application/vnd.plotly.v1+json": {
       "config": {
        "plotlyServerURL": "https://plot.ly"
       },
       "data": [
        {
         "hoverinfo": "none",
         "line": {
          "color": "rgba(0,0,0,1.0)",
          "width": 7
         },
         "mode": "lines",
         "showlegend": false,
         "type": "scatter3d",
         "x": [
          0.5773502691896257,
          0.5773502691896254,
          null,
          0.5773502691896257,
          0,
          null,
          0.5773502691896254,
          0,
          null,
          0.5773502691896257,
          0.8660254037844386,
          null,
          0.5773502691896254,
          0,
          null,
          0,
          0,
          null,
          0.5773502691896254,
          0.8660254037844386,
          null
         ],
         "y": [
          0.6666666666666667,
          0.33333333333333315,
          null,
          0.6666666666666667,
          1,
          null,
          0.33333333333333315,
          0,
          null,
          0.6666666666666667,
          0.5,
          null,
          0.33333333333333315,
          1,
          null,
          1,
          0,
          null,
          0.33333333333333315,
          0.5,
          null
         ],
         "z": [
          -0.49099999999999716,
          -0.5745843333333304,
          null,
          -0.49099999999999716,
          0,
          null,
          -0.5745843333333304,
          0,
          null,
          -0.49099999999999716,
          0,
          null,
          -0.5745843333333304,
          0,
          null,
          0,
          0,
          null,
          -0.5745843333333304,
          0,
          null
         ]
        },
        {
         "hoverinfo": "none",
         "line": {
          "color": "rgba (0, 0, 0, 0.4)",
          "dash": "solid",
          "width": 1
         },
         "mode": "lines",
         "showlegend": false,
         "type": "scatter3d",
         "x": [
          0.8660254037844386,
          0,
          null,
          0.8660254037844386,
          0,
          null,
          0.8660254037844386,
          0,
          null,
          0.8660254037844386,
          0,
          null,
          0,
          0,
          null,
          0,
          0,
          null,
          0.8660254037844386,
          0.8660254037844386,
          null,
          0,
          0,
          null,
          0,
          0,
          null
         ],
         "y": [
          0.5,
          1,
          null,
          0.5,
          1,
          null,
          0.5,
          0,
          null,
          0.5,
          0,
          null,
          1,
          0,
          null,
          1,
          0,
          null,
          0.5,
          0.5,
          null,
          1,
          1,
          null,
          0,
          0,
          null
         ],
         "z": [
          0,
          0,
          null,
          -0.5745843333333304,
          -0.5745843333333304,
          null,
          0,
          0,
          null,
          -0.5745843333333304,
          -0.5745843333333304,
          null,
          0,
          0,
          null,
          -0.5745843333333304,
          -0.5745843333333304,
          null,
          0,
          -0.5745843333333304,
          null,
          0,
          -0.5745843333333304,
          null,
          0,
          -0.5745843333333304,
          null
         ]
        },
        {
         "colorbar": {
          "len": 0.75,
          "title": {
           "text": "Formation energy<br>(eV/atom)"
          },
          "x": 0.9
         },
         "colorscale": [
          [
           0,
           "#0c8c00"
          ],
          [
           0.5,
           "#d8ffd4"
          ],
          [
           1,
           "#ffffff"
          ]
         ],
         "flatshading": true,
         "hoverinfo": "none",
         "i": [
          4,
          4,
          3
         ],
         "intensity": [
          -0.49099999999999716,
          -0.5745843333333304,
          -0.49163922222220513,
          0,
          0,
          0
         ],
         "j": [
          5,
          0,
          0
         ],
         "k": [
          1,
          1,
          1
         ],
         "lighting": {
          "ambient": 1,
          "diffuse": 0
         },
         "name": "Convex Hull (shading)",
         "opacity": 0.8,
         "showlegend": true,
         "type": "mesh3d",
         "x": [
          0.5773502691896257,
          0.5773502691896254,
          0.5773502691896251,
          0.8660254037844386,
          0,
          0
         ],
         "y": [
          0.6666666666666667,
          0.33333333333333315,
          0.5555555555555549,
          0.5,
          1,
          0
         ],
         "z": [
          -0.49099999999999716,
          -0.5745843333333304,
          -0.49163922222220513,
          0,
          0,
          0
         ]
        },
        {
         "hoverinfo": "skip",
         "mode": "text",
         "name": "Labels (stable)",
         "opacity": 1,
         "showlegend": true,
         "text": [
          "CoSO<sub>4</sub>",
          "CaSO<sub>4</sub>"
         ],
         "textposition": [
          "middle center",
          "middle center"
         ],
         "type": "scatter3d",
         "visible": true,
         "x": [
          0.5673502691896257,
          0.5673502691896254
         ],
         "y": [
          0.6766666666666667,
          0.32333333333333314
         ],
         "z": [
          -0.4335415666666641,
          -0.5171258999999974
         ]
        },
        {
         "hoverinfo": "text",
         "hoverlabel": {
          "font": {
           "size": 14
          }
         },
         "hovertext": [
          "CaCo<sub>2</sub>(SO<sub>4</sub>)<sub>3</sub> (None) <br> -0.492 eV/atom (+0.027 eV/atom)",
          "Ca<sub>2</sub>CoO<sub>3</sub> (None) <br> 0.115 eV/atom (+0.115 eV/atom)"
         ],
         "marker": {
          "color": [
           0.027,
           0.115
          ],
          "colorbar": {
           "len": 0.75,
           "title": {
            "text": "Energy Above Hull<br>(eV/atom)"
           },
           "x": 0.05
          },
          "colorscale": [
           [
            0,
            "#fad393"
           ],
           [
            0.5,
            "#ff813d"
           ],
           [
            1,
            "#ff0000"
           ]
          ],
          "size": 6,
          "symbol": "diamond"
         },
         "mode": "markers",
         "name": "Above Hull",
         "showlegend": true,
         "type": "scatter3d",
         "x": [
          0.5773502691896251,
          0
         ],
         "y": [
          0.5555555555555549,
          0.3333333333333333
         ],
         "z": [
          -0.492,
          0.115
         ]
        },
        {
         "error_z": {
          "array": [
           0,
           0,
           0,
           0,
           0
          ],
          "color": "darkgray",
          "thickness": 5,
          "type": "data",
          "width": 10
         },
         "hoverinfo": "text",
         "hoverlabel": {
          "font": {
           "size": 14
          }
         },
         "hovertext": [
          "CoSO<sub>4</sub> (None) <br> -0.491 eV/atom",
          "CaSO<sub>4</sub> (None) <br> -0.575 eV/atom",
          "CoO (None) <br> 0.0 eV/atom",
          "CaO (None) <br> 0.0 eV/atom",
          "SO<sub>3</sub> (None) <br> 0.0 eV/atom"
         ],
         "marker": {
          "color": "black",
          "line": {
           "color": "black",
           "width": 3
          },
          "opacity": 0.8,
          "size": 12
         },
         "mode": "markers",
         "name": "Stable",
         "showlegend": true,
         "type": "scatter3d",
         "x": [
          0.5773502691896257,
          0.5773502691896254,
          0,
          0,
          0.8660254037844386
         ],
         "y": [
          0.6666666666666667,
          0.33333333333333315,
          1,
          0,
          0.5
         ],
         "z": [
          -0.491,
          -0.575,
          0,
          0,
          0
         ]
        }
       ],
       "layout": {
        "autosize": true,
        "height": 700,
        "hovermode": "closest",
        "legend": {
         "orientation": "h",
         "traceorder": "reversed",
         "x": 0.5,
         "xanchor": "center",
         "y": 0,
         "yanchor": "top"
        },
        "margin": {
         "b": 10,
         "l": 0,
         "pad": 0,
         "r": 0,
         "t": 0
        },
        "paper_bgcolor": "rgba(0,0,0,0)",
        "plot_bgcolor": "rgba(0,0,0,0)",
        "scene": {
         "annotations": [
          {
           "align": "center",
           "font": {
            "color": "#000000",
            "size": 24
           },
           "opacity": 1,
           "showarrow": false,
           "text": "CoO",
           "x": 0,
           "xanchor": "right",
           "xshift": -10,
           "y": 1,
           "yanchor": "auto",
           "yshift": -10,
           "z": -0.5171258999999974
          },
          {
           "align": "center",
           "font": {
            "color": "#000000",
            "size": 24
           },
           "opacity": 1,
           "showarrow": false,
           "text": "CaO",
           "x": 0,
           "xanchor": "right",
           "xshift": -10,
           "y": 0,
           "yanchor": "auto",
           "yshift": -10,
           "z": -0.5171258999999974
          },
          {
           "align": "center",
           "font": {
            "color": "#000000",
            "size": 24
           },
           "opacity": 1,
           "showarrow": false,
           "text": "SO<sub>3</sub>",
           "x": 0.8660254037844386,
           "xanchor": "right",
           "xshift": -10,
           "y": 0.5,
           "yanchor": "auto",
           "yshift": -10,
           "z": -0.5171258999999974
          },
          {
           "opacity": 0,
           "text": "",
           "x": 1,
           "y": 1,
           "z": 0
          }
         ],
         "aspectratio": {
          "x": 1.7,
          "y": 1.7,
          "z": 1.2
         },
         "camera": {
          "center": {
           "x": -0.1,
           "y": 0,
           "z": -0.15
          },
          "eye": {
           "x": -0.1,
           "y": 0,
           "z": 2.5
          },
          "projection": {
           "type": "orthographic"
          }
         },
         "xaxis": {
          "autorange": true,
          "showaxeslabels": false,
          "showgrid": false,
          "showline": false,
          "showspikes": false,
          "showticklabels": false,
          "ticks": "",
          "visible": false,
          "zeroline": false
         },
         "yaxis": {
          "autorange": true,
          "showaxeslabels": false,
          "showgrid": false,
          "showline": false,
          "showspikes": false,
          "showticklabels": false,
          "ticks": "",
          "visible": false,
          "zeroline": false
         },
         "zaxis": {
          "autorange": true,
          "showaxeslabels": false,
          "showgrid": false,
          "showline": false,
          "showspikes": false,
          "showticklabels": false,
          "ticks": "",
          "visible": false,
          "zeroline": false
         }
        },
        "showlegend": true,
        "template": {
         "data": {
          "bar": [
           {
            "error_x": {
             "color": "#2a3f5f"
            },
            "error_y": {
             "color": "#2a3f5f"
            },
            "marker": {
             "line": {
              "color": "#E5ECF6",
              "width": 0.5
             },
             "pattern": {
              "fillmode": "overlay",
              "size": 10,
              "solidity": 0.2
             }
            },
            "type": "bar"
           }
          ],
          "barpolar": [
           {
            "marker": {
             "line": {
              "color": "#E5ECF6",
              "width": 0.5
             },
             "pattern": {
              "fillmode": "overlay",
              "size": 10,
              "solidity": 0.2
             }
            },
            "type": "barpolar"
           }
          ],
          "carpet": [
           {
            "aaxis": {
             "endlinecolor": "#2a3f5f",
             "gridcolor": "white",
             "linecolor": "white",
             "minorgridcolor": "white",
             "startlinecolor": "#2a3f5f"
            },
            "baxis": {
             "endlinecolor": "#2a3f5f",
             "gridcolor": "white",
             "linecolor": "white",
             "minorgridcolor": "white",
             "startlinecolor": "#2a3f5f"
            },
            "type": "carpet"
           }
          ],
          "choropleth": [
           {
            "colorbar": {
             "outlinewidth": 0,
             "ticks": ""
            },
            "type": "choropleth"
           }
          ],
          "contour": [
           {
            "colorbar": {
             "outlinewidth": 0,
             "ticks": ""
            },
            "colorscale": [
             [
              0,
              "#0d0887"
             ],
             [
              0.1111111111111111,
              "#46039f"
             ],
             [
              0.2222222222222222,
              "#7201a8"
             ],
             [
              0.3333333333333333,
              "#9c179e"
             ],
             [
              0.4444444444444444,
              "#bd3786"
             ],
             [
              0.5555555555555556,
              "#d8576b"
             ],
             [
              0.6666666666666666,
              "#ed7953"
             ],
             [
              0.7777777777777778,
              "#fb9f3a"
             ],
             [
              0.8888888888888888,
              "#fdca26"
             ],
             [
              1,
              "#f0f921"
             ]
            ],
            "type": "contour"
           }
          ],
          "contourcarpet": [
           {
            "colorbar": {
             "outlinewidth": 0,
             "ticks": ""
            },
            "type": "contourcarpet"
           }
          ],
          "heatmap": [
           {
            "colorbar": {
             "outlinewidth": 0,
             "ticks": ""
            },
            "colorscale": [
             [
              0,
              "#0d0887"
             ],
             [
              0.1111111111111111,
              "#46039f"
             ],
             [
              0.2222222222222222,
              "#7201a8"
             ],
             [
              0.3333333333333333,
              "#9c179e"
             ],
             [
              0.4444444444444444,
              "#bd3786"
             ],
             [
              0.5555555555555556,
              "#d8576b"
             ],
             [
              0.6666666666666666,
              "#ed7953"
             ],
             [
              0.7777777777777778,
              "#fb9f3a"
             ],
             [
              0.8888888888888888,
              "#fdca26"
             ],
             [
              1,
              "#f0f921"
             ]
            ],
            "type": "heatmap"
           }
          ],
          "heatmapgl": [
           {
            "colorbar": {
             "outlinewidth": 0,
             "ticks": ""
            },
            "colorscale": [
             [
              0,
              "#0d0887"
             ],
             [
              0.1111111111111111,
              "#46039f"
             ],
             [
              0.2222222222222222,
              "#7201a8"
             ],
             [
              0.3333333333333333,
              "#9c179e"
             ],
             [
              0.4444444444444444,
              "#bd3786"
             ],
             [
              0.5555555555555556,
              "#d8576b"
             ],
             [
              0.6666666666666666,
              "#ed7953"
             ],
             [
              0.7777777777777778,
              "#fb9f3a"
             ],
             [
              0.8888888888888888,
              "#fdca26"
             ],
             [
              1,
              "#f0f921"
             ]
            ],
            "type": "heatmapgl"
           }
          ],
          "histogram": [
           {
            "marker": {
             "pattern": {
              "fillmode": "overlay",
              "size": 10,
              "solidity": 0.2
             }
            },
            "type": "histogram"
           }
          ],
          "histogram2d": [
           {
            "colorbar": {
             "outlinewidth": 0,
             "ticks": ""
            },
            "colorscale": [
             [
              0,
              "#0d0887"
             ],
             [
              0.1111111111111111,
              "#46039f"
             ],
             [
              0.2222222222222222,
              "#7201a8"
             ],
             [
              0.3333333333333333,
              "#9c179e"
             ],
             [
              0.4444444444444444,
              "#bd3786"
             ],
             [
              0.5555555555555556,
              "#d8576b"
             ],
             [
              0.6666666666666666,
              "#ed7953"
             ],
             [
              0.7777777777777778,
              "#fb9f3a"
             ],
             [
              0.8888888888888888,
              "#fdca26"
             ],
             [
              1,
              "#f0f921"
             ]
            ],
            "type": "histogram2d"
           }
          ],
          "histogram2dcontour": [
           {
            "colorbar": {
             "outlinewidth": 0,
             "ticks": ""
            },
            "colorscale": [
             [
              0,
              "#0d0887"
             ],
             [
              0.1111111111111111,
              "#46039f"
             ],
             [
              0.2222222222222222,
              "#7201a8"
             ],
             [
              0.3333333333333333,
              "#9c179e"
             ],
             [
              0.4444444444444444,
              "#bd3786"
             ],
             [
              0.5555555555555556,
              "#d8576b"
             ],
             [
              0.6666666666666666,
              "#ed7953"
             ],
             [
              0.7777777777777778,
              "#fb9f3a"
             ],
             [
              0.8888888888888888,
              "#fdca26"
             ],
             [
              1,
              "#f0f921"
             ]
            ],
            "type": "histogram2dcontour"
           }
          ],
          "mesh3d": [
           {
            "colorbar": {
             "outlinewidth": 0,
             "ticks": ""
            },
            "type": "mesh3d"
           }
          ],
          "parcoords": [
           {
            "line": {
             "colorbar": {
              "outlinewidth": 0,
              "ticks": ""
             }
            },
            "type": "parcoords"
           }
          ],
          "pie": [
           {
            "automargin": true,
            "type": "pie"
           }
          ],
          "scatter": [
           {
            "marker": {
             "colorbar": {
              "outlinewidth": 0,
              "ticks": ""
             }
            },
            "type": "scatter"
           }
          ],
          "scatter3d": [
           {
            "line": {
             "colorbar": {
              "outlinewidth": 0,
              "ticks": ""
             }
            },
            "marker": {
             "colorbar": {
              "outlinewidth": 0,
              "ticks": ""
             }
            },
            "type": "scatter3d"
           }
          ],
          "scattercarpet": [
           {
            "marker": {
             "colorbar": {
              "outlinewidth": 0,
              "ticks": ""
             }
            },
            "type": "scattercarpet"
           }
          ],
          "scattergeo": [
           {
            "marker": {
             "colorbar": {
              "outlinewidth": 0,
              "ticks": ""
             }
            },
            "type": "scattergeo"
           }
          ],
          "scattergl": [
           {
            "marker": {
             "colorbar": {
              "outlinewidth": 0,
              "ticks": ""
             }
            },
            "type": "scattergl"
           }
          ],
          "scattermapbox": [
           {
            "marker": {
             "colorbar": {
              "outlinewidth": 0,
              "ticks": ""
             }
            },
            "type": "scattermapbox"
           }
          ],
          "scatterpolar": [
           {
            "marker": {
             "colorbar": {
              "outlinewidth": 0,
              "ticks": ""
             }
            },
            "type": "scatterpolar"
           }
          ],
          "scatterpolargl": [
           {
            "marker": {
             "colorbar": {
              "outlinewidth": 0,
              "ticks": ""
             }
            },
            "type": "scatterpolargl"
           }
          ],
          "scatterternary": [
           {
            "marker": {
             "colorbar": {
              "outlinewidth": 0,
              "ticks": ""
             }
            },
            "type": "scatterternary"
           }
          ],
          "surface": [
           {
            "colorbar": {
             "outlinewidth": 0,
             "ticks": ""
            },
            "colorscale": [
             [
              0,
              "#0d0887"
             ],
             [
              0.1111111111111111,
              "#46039f"
             ],
             [
              0.2222222222222222,
              "#7201a8"
             ],
             [
              0.3333333333333333,
              "#9c179e"
             ],
             [
              0.4444444444444444,
              "#bd3786"
             ],
             [
              0.5555555555555556,
              "#d8576b"
             ],
             [
              0.6666666666666666,
              "#ed7953"
             ],
             [
              0.7777777777777778,
              "#fb9f3a"
             ],
             [
              0.8888888888888888,
              "#fdca26"
             ],
             [
              1,
              "#f0f921"
             ]
            ],
            "type": "surface"
           }
          ],
          "table": [
           {
            "cells": {
             "fill": {
              "color": "#EBF0F8"
             },
             "line": {
              "color": "white"
             }
            },
            "header": {
             "fill": {
              "color": "#C8D4E3"
             },
             "line": {
              "color": "white"
             }
            },
            "type": "table"
           }
          ]
         },
         "layout": {
          "annotationdefaults": {
           "arrowcolor": "#2a3f5f",
           "arrowhead": 0,
           "arrowwidth": 1
          },
          "autotypenumbers": "strict",
          "coloraxis": {
           "colorbar": {
            "outlinewidth": 0,
            "ticks": ""
           }
          },
          "colorscale": {
           "diverging": [
            [
             0,
             "#8e0152"
            ],
            [
             0.1,
             "#c51b7d"
            ],
            [
             0.2,
             "#de77ae"
            ],
            [
             0.3,
             "#f1b6da"
            ],
            [
             0.4,
             "#fde0ef"
            ],
            [
             0.5,
             "#f7f7f7"
            ],
            [
             0.6,
             "#e6f5d0"
            ],
            [
             0.7,
             "#b8e186"
            ],
            [
             0.8,
             "#7fbc41"
            ],
            [
             0.9,
             "#4d9221"
            ],
            [
             1,
             "#276419"
            ]
           ],
           "sequential": [
            [
             0,
             "#0d0887"
            ],
            [
             0.1111111111111111,
             "#46039f"
            ],
            [
             0.2222222222222222,
             "#7201a8"
            ],
            [
             0.3333333333333333,
             "#9c179e"
            ],
            [
             0.4444444444444444,
             "#bd3786"
            ],
            [
             0.5555555555555556,
             "#d8576b"
            ],
            [
             0.6666666666666666,
             "#ed7953"
            ],
            [
             0.7777777777777778,
             "#fb9f3a"
            ],
            [
             0.8888888888888888,
             "#fdca26"
            ],
            [
             1,
             "#f0f921"
            ]
           ],
           "sequentialminus": [
            [
             0,
             "#0d0887"
            ],
            [
             0.1111111111111111,
             "#46039f"
            ],
            [
             0.2222222222222222,
             "#7201a8"
            ],
            [
             0.3333333333333333,
             "#9c179e"
            ],
            [
             0.4444444444444444,
             "#bd3786"
            ],
            [
             0.5555555555555556,
             "#d8576b"
            ],
            [
             0.6666666666666666,
             "#ed7953"
            ],
            [
             0.7777777777777778,
             "#fb9f3a"
            ],
            [
             0.8888888888888888,
             "#fdca26"
            ],
            [
             1,
             "#f0f921"
            ]
           ]
          },
          "colorway": [
           "#636efa",
           "#EF553B",
           "#00cc96",
           "#ab63fa",
           "#FFA15A",
           "#19d3f3",
           "#FF6692",
           "#B6E880",
           "#FF97FF",
           "#FECB52"
          ],
          "font": {
           "color": "#2a3f5f"
          },
          "geo": {
           "bgcolor": "white",
           "lakecolor": "white",
           "landcolor": "#E5ECF6",
           "showlakes": true,
           "showland": true,
           "subunitcolor": "white"
          },
          "hoverlabel": {
           "align": "left"
          },
          "hovermode": "closest",
          "mapbox": {
           "style": "light"
          },
          "paper_bgcolor": "white",
          "plot_bgcolor": "#E5ECF6",
          "polar": {
           "angularaxis": {
            "gridcolor": "white",
            "linecolor": "white",
            "ticks": ""
           },
           "bgcolor": "#E5ECF6",
           "radialaxis": {
            "gridcolor": "white",
            "linecolor": "white",
            "ticks": ""
           }
          },
          "scene": {
           "xaxis": {
            "backgroundcolor": "#E5ECF6",
            "gridcolor": "white",
            "gridwidth": 2,
            "linecolor": "white",
            "showbackground": true,
            "ticks": "",
            "zerolinecolor": "white"
           },
           "yaxis": {
            "backgroundcolor": "#E5ECF6",
            "gridcolor": "white",
            "gridwidth": 2,
            "linecolor": "white",
            "showbackground": true,
            "ticks": "",
            "zerolinecolor": "white"
           },
           "zaxis": {
            "backgroundcolor": "#E5ECF6",
            "gridcolor": "white",
            "gridwidth": 2,
            "linecolor": "white",
            "showbackground": true,
            "ticks": "",
            "zerolinecolor": "white"
           }
          },
          "shapedefaults": {
           "line": {
            "color": "#2a3f5f"
           }
          },
          "ternary": {
           "aaxis": {
            "gridcolor": "white",
            "linecolor": "white",
            "ticks": ""
           },
           "baxis": {
            "gridcolor": "white",
            "linecolor": "white",
            "ticks": ""
           },
           "bgcolor": "#E5ECF6",
           "caxis": {
            "gridcolor": "white",
            "linecolor": "white",
            "ticks": ""
           }
          },
          "title": {
           "x": 0.05
          },
          "xaxis": {
           "automargin": true,
           "gridcolor": "white",
           "linecolor": "white",
           "ticks": "",
           "title": {
            "standoff": 15
           },
           "zerolinecolor": "white",
           "zerolinewidth": 2
          },
          "yaxis": {
           "automargin": true,
           "gridcolor": "white",
           "linecolor": "white",
           "ticks": "",
           "title": {
            "standoff": 15
           },
           "zerolinecolor": "white",
           "zerolinewidth": 2
          }
         }
        }
       }
      },
      "text/html": [
       "<div>                            <div id=\"cbb1ca5f-4028-483e-b0a7-15812932fd6b\" class=\"plotly-graph-div\" style=\"height:700px; width:100%;\"></div>            <script type=\"text/javascript\">                require([\"plotly\"], function(Plotly) {                    window.PLOTLYENV=window.PLOTLYENV || {};                                    if (document.getElementById(\"cbb1ca5f-4028-483e-b0a7-15812932fd6b\")) {                    Plotly.newPlot(                        \"cbb1ca5f-4028-483e-b0a7-15812932fd6b\",                        [{\"hoverinfo\":\"none\",\"line\":{\"color\":\"rgba(0,0,0,1.0)\",\"width\":7.0},\"mode\":\"lines\",\"showlegend\":false,\"x\":[0.5773502691896257,0.5773502691896254,null,0.5773502691896257,0.0,null,0.5773502691896254,0.0,null,0.5773502691896257,0.8660254037844386,null,0.5773502691896254,0.0,null,0.0,0.0,null,0.5773502691896254,0.8660254037844386,null],\"y\":[0.6666666666666667,0.33333333333333315,null,0.6666666666666667,1.0,null,0.33333333333333315,0.0,null,0.6666666666666667,0.5,null,0.33333333333333315,1.0,null,1.0,0.0,null,0.33333333333333315,0.5,null],\"z\":[-0.49099999999999716,-0.5745843333333304,null,-0.49099999999999716,0.0,null,-0.5745843333333304,0.0,null,-0.49099999999999716,0.0,null,-0.5745843333333304,0.0,null,0.0,0.0,null,-0.5745843333333304,0.0,null],\"type\":\"scatter3d\"},{\"hoverinfo\":\"none\",\"line\":{\"color\":\"rgba (0, 0, 0, 0.4)\",\"dash\":\"solid\",\"width\":1.0},\"mode\":\"lines\",\"showlegend\":false,\"x\":[0.8660254037844386,0.0,null,0.8660254037844386,0.0,null,0.8660254037844386,0.0,null,0.8660254037844386,0.0,null,0.0,0.0,null,0.0,0.0,null,0.8660254037844386,0.8660254037844386,null,0.0,0.0,null,0.0,0.0,null],\"y\":[0.5,1.0,null,0.5,1.0,null,0.5,0.0,null,0.5,0.0,null,1.0,0.0,null,1.0,0.0,null,0.5,0.5,null,1.0,1.0,null,0.0,0.0,null],\"z\":[0,0,null,-0.5745843333333304,-0.5745843333333304,null,0,0,null,-0.5745843333333304,-0.5745843333333304,null,0,0,null,-0.5745843333333304,-0.5745843333333304,null,0,-0.5745843333333304,null,0,-0.5745843333333304,null,0,-0.5745843333333304,null],\"type\":\"scatter3d\"},{\"colorbar\":{\"len\":0.75,\"title\":{\"text\":\"Formation energy<br>(eV/atom)\"},\"x\":0.9},\"colorscale\":[[0.0,\"#0c8c00\"],[0.5,\"#d8ffd4\"],[1.0,\"#ffffff\"]],\"flatshading\":true,\"hoverinfo\":\"none\",\"i\":[4,4,3],\"intensity\":[-0.49099999999999716,-0.5745843333333304,-0.49163922222220513,0.0,0.0,0.0],\"j\":[5,0,0],\"k\":[1,1,1],\"lighting\":{\"ambient\":1.0,\"diffuse\":0.0},\"name\":\"Convex Hull (shading)\",\"opacity\":0.8,\"showlegend\":true,\"x\":[0.5773502691896257,0.5773502691896254,0.5773502691896251,0.8660254037844386,0.0,0.0],\"y\":[0.6666666666666667,0.33333333333333315,0.5555555555555549,0.5,1.0,0.0],\"z\":[-0.49099999999999716,-0.5745843333333304,-0.49163922222220513,0.0,0.0,0.0],\"type\":\"mesh3d\"},{\"hoverinfo\":\"skip\",\"mode\":\"text\",\"name\":\"Labels (stable)\",\"opacity\":1.0,\"showlegend\":true,\"text\":[\"CoSO<sub>4</sub>\",\"CaSO<sub>4</sub>\"],\"textposition\":[\"middle center\",\"middle center\"],\"visible\":true,\"x\":[0.5673502691896257,0.5673502691896254],\"y\":[0.6766666666666667,0.32333333333333314],\"z\":[-0.4335415666666641,-0.5171258999999974],\"type\":\"scatter3d\"},{\"hoverinfo\":\"text\",\"hoverlabel\":{\"font\":{\"size\":14}},\"hovertext\":[\"CaCo<sub>2</sub>(SO<sub>4</sub>)<sub>3</sub> (None) <br> -0.492 eV/atom (+0.027 eV/atom)\",\"Ca<sub>2</sub>CoO<sub>3</sub> (None) <br> 0.115 eV/atom (+0.115 eV/atom)\"],\"marker\":{\"color\":[0.027,0.115],\"colorbar\":{\"len\":0.75,\"title\":{\"text\":\"Energy Above Hull<br>(eV/atom)\"},\"x\":0.05},\"colorscale\":[[0.0,\"#fad393\"],[0.5,\"#ff813d\"],[1.0,\"#ff0000\"]],\"size\":6,\"symbol\":\"diamond\"},\"mode\":\"markers\",\"name\":\"Above Hull\",\"showlegend\":true,\"x\":[0.5773502691896251,0.0],\"y\":[0.5555555555555549,0.3333333333333333],\"z\":[-0.492,0.115],\"type\":\"scatter3d\"},{\"error_z\":{\"array\":[0,0,0,0,0],\"color\":\"darkgray\",\"thickness\":5,\"type\":\"data\",\"width\":10},\"hoverinfo\":\"text\",\"hoverlabel\":{\"font\":{\"size\":14}},\"hovertext\":[\"CoSO<sub>4</sub> (None) <br> -0.491 eV/atom\",\"CaSO<sub>4</sub> (None) <br> -0.575 eV/atom\",\"CoO (None) <br> 0.0 eV/atom\",\"CaO (None) <br> 0.0 eV/atom\",\"SO<sub>3</sub> (None) <br> 0.0 eV/atom\"],\"marker\":{\"color\":\"black\",\"line\":{\"color\":\"black\",\"width\":3},\"opacity\":0.8,\"size\":12},\"mode\":\"markers\",\"name\":\"Stable\",\"showlegend\":true,\"x\":[0.5773502691896257,0.5773502691896254,0.0,0.0,0.8660254037844386],\"y\":[0.6666666666666667,0.33333333333333315,1.0,0.0,0.5],\"z\":[-0.491,-0.575,0.0,0.0,0.0],\"type\":\"scatter3d\"}],                        {\"autosize\":true,\"height\":700,\"hovermode\":\"closest\",\"legend\":{\"orientation\":\"h\",\"traceorder\":\"reversed\",\"x\":0.5,\"xanchor\":\"center\",\"y\":0.0,\"yanchor\":\"top\"},\"margin\":{\"b\":10,\"l\":0,\"pad\":0,\"r\":0,\"t\":0},\"paper_bgcolor\":\"rgba(0,0,0,0)\",\"plot_bgcolor\":\"rgba(0,0,0,0)\",\"scene\":{\"annotations\":[{\"align\":\"center\",\"font\":{\"color\":\"#000000\",\"size\":24.0},\"opacity\":1.0,\"showarrow\":false,\"text\":\"CoO\",\"x\":0.0,\"xanchor\":\"right\",\"xshift\":-10,\"y\":1.0,\"yanchor\":\"auto\",\"yshift\":-10,\"z\":-0.5171258999999974},{\"align\":\"center\",\"font\":{\"color\":\"#000000\",\"size\":24.0},\"opacity\":1.0,\"showarrow\":false,\"text\":\"CaO\",\"x\":0.0,\"xanchor\":\"right\",\"xshift\":-10,\"y\":0.0,\"yanchor\":\"auto\",\"yshift\":-10,\"z\":-0.5171258999999974},{\"align\":\"center\",\"font\":{\"color\":\"#000000\",\"size\":24.0},\"opacity\":1.0,\"showarrow\":false,\"text\":\"SO<sub>3</sub>\",\"x\":0.8660254037844386,\"xanchor\":\"right\",\"xshift\":-10,\"y\":0.5,\"yanchor\":\"auto\",\"yshift\":-10,\"z\":-0.5171258999999974},{\"opacity\":0,\"text\":\"\",\"x\":1,\"y\":1,\"z\":0}],\"xaxis\":{\"autorange\":true,\"showaxeslabels\":false,\"showgrid\":false,\"showline\":false,\"showspikes\":false,\"showticklabels\":false,\"ticks\":\"\",\"visible\":false,\"zeroline\":false},\"yaxis\":{\"autorange\":true,\"showaxeslabels\":false,\"showgrid\":false,\"showline\":false,\"showspikes\":false,\"showticklabels\":false,\"ticks\":\"\",\"visible\":false,\"zeroline\":false},\"zaxis\":{\"autorange\":true,\"showaxeslabels\":false,\"showgrid\":false,\"showline\":false,\"showspikes\":false,\"showticklabels\":false,\"ticks\":\"\",\"visible\":false,\"zeroline\":false},\"camera\":{\"center\":{\"x\":-0.1,\"y\":0,\"z\":-0.15},\"eye\":{\"x\":-0.1,\"y\":0,\"z\":2.5},\"projection\":{\"type\":\"orthographic\"}},\"aspectratio\":{\"x\":1.7,\"y\":1.7,\"z\":1.2}},\"showlegend\":true,\"template\":{\"data\":{\"bar\":[{\"error_x\":{\"color\":\"#2a3f5f\"},\"error_y\":{\"color\":\"#2a3f5f\"},\"marker\":{\"line\":{\"color\":\"#E5ECF6\",\"width\":0.5},\"pattern\":{\"fillmode\":\"overlay\",\"size\":10,\"solidity\":0.2}},\"type\":\"bar\"}],\"barpolar\":[{\"marker\":{\"line\":{\"color\":\"#E5ECF6\",\"width\":0.5},\"pattern\":{\"fillmode\":\"overlay\",\"size\":10,\"solidity\":0.2}},\"type\":\"barpolar\"}],\"carpet\":[{\"aaxis\":{\"endlinecolor\":\"#2a3f5f\",\"gridcolor\":\"white\",\"linecolor\":\"white\",\"minorgridcolor\":\"white\",\"startlinecolor\":\"#2a3f5f\"},\"baxis\":{\"endlinecolor\":\"#2a3f5f\",\"gridcolor\":\"white\",\"linecolor\":\"white\",\"minorgridcolor\":\"white\",\"startlinecolor\":\"#2a3f5f\"},\"type\":\"carpet\"}],\"choropleth\":[{\"colorbar\":{\"outlinewidth\":0,\"ticks\":\"\"},\"type\":\"choropleth\"}],\"contour\":[{\"colorbar\":{\"outlinewidth\":0,\"ticks\":\"\"},\"colorscale\":[[0.0,\"#0d0887\"],[0.1111111111111111,\"#46039f\"],[0.2222222222222222,\"#7201a8\"],[0.3333333333333333,\"#9c179e\"],[0.4444444444444444,\"#bd3786\"],[0.5555555555555556,\"#d8576b\"],[0.6666666666666666,\"#ed7953\"],[0.7777777777777778,\"#fb9f3a\"],[0.8888888888888888,\"#fdca26\"],[1.0,\"#f0f921\"]],\"type\":\"contour\"}],\"contourcarpet\":[{\"colorbar\":{\"outlinewidth\":0,\"ticks\":\"\"},\"type\":\"contourcarpet\"}],\"heatmap\":[{\"colorbar\":{\"outlinewidth\":0,\"ticks\":\"\"},\"colorscale\":[[0.0,\"#0d0887\"],[0.1111111111111111,\"#46039f\"],[0.2222222222222222,\"#7201a8\"],[0.3333333333333333,\"#9c179e\"],[0.4444444444444444,\"#bd3786\"],[0.5555555555555556,\"#d8576b\"],[0.6666666666666666,\"#ed7953\"],[0.7777777777777778,\"#fb9f3a\"],[0.8888888888888888,\"#fdca26\"],[1.0,\"#f0f921\"]],\"type\":\"heatmap\"}],\"heatmapgl\":[{\"colorbar\":{\"outlinewidth\":0,\"ticks\":\"\"},\"colorscale\":[[0.0,\"#0d0887\"],[0.1111111111111111,\"#46039f\"],[0.2222222222222222,\"#7201a8\"],[0.3333333333333333,\"#9c179e\"],[0.4444444444444444,\"#bd3786\"],[0.5555555555555556,\"#d8576b\"],[0.6666666666666666,\"#ed7953\"],[0.7777777777777778,\"#fb9f3a\"],[0.8888888888888888,\"#fdca26\"],[1.0,\"#f0f921\"]],\"type\":\"heatmapgl\"}],\"histogram\":[{\"marker\":{\"pattern\":{\"fillmode\":\"overlay\",\"size\":10,\"solidity\":0.2}},\"type\":\"histogram\"}],\"histogram2d\":[{\"colorbar\":{\"outlinewidth\":0,\"ticks\":\"\"},\"colorscale\":[[0.0,\"#0d0887\"],[0.1111111111111111,\"#46039f\"],[0.2222222222222222,\"#7201a8\"],[0.3333333333333333,\"#9c179e\"],[0.4444444444444444,\"#bd3786\"],[0.5555555555555556,\"#d8576b\"],[0.6666666666666666,\"#ed7953\"],[0.7777777777777778,\"#fb9f3a\"],[0.8888888888888888,\"#fdca26\"],[1.0,\"#f0f921\"]],\"type\":\"histogram2d\"}],\"histogram2dcontour\":[{\"colorbar\":{\"outlinewidth\":0,\"ticks\":\"\"},\"colorscale\":[[0.0,\"#0d0887\"],[0.1111111111111111,\"#46039f\"],[0.2222222222222222,\"#7201a8\"],[0.3333333333333333,\"#9c179e\"],[0.4444444444444444,\"#bd3786\"],[0.5555555555555556,\"#d8576b\"],[0.6666666666666666,\"#ed7953\"],[0.7777777777777778,\"#fb9f3a\"],[0.8888888888888888,\"#fdca26\"],[1.0,\"#f0f921\"]],\"type\":\"histogram2dcontour\"}],\"mesh3d\":[{\"colorbar\":{\"outlinewidth\":0,\"ticks\":\"\"},\"type\":\"mesh3d\"}],\"parcoords\":[{\"line\":{\"colorbar\":{\"outlinewidth\":0,\"ticks\":\"\"}},\"type\":\"parcoords\"}],\"pie\":[{\"automargin\":true,\"type\":\"pie\"}],\"scatter\":[{\"marker\":{\"colorbar\":{\"outlinewidth\":0,\"ticks\":\"\"}},\"type\":\"scatter\"}],\"scatter3d\":[{\"line\":{\"colorbar\":{\"outlinewidth\":0,\"ticks\":\"\"}},\"marker\":{\"colorbar\":{\"outlinewidth\":0,\"ticks\":\"\"}},\"type\":\"scatter3d\"}],\"scattercarpet\":[{\"marker\":{\"colorbar\":{\"outlinewidth\":0,\"ticks\":\"\"}},\"type\":\"scattercarpet\"}],\"scattergeo\":[{\"marker\":{\"colorbar\":{\"outlinewidth\":0,\"ticks\":\"\"}},\"type\":\"scattergeo\"}],\"scattergl\":[{\"marker\":{\"colorbar\":{\"outlinewidth\":0,\"ticks\":\"\"}},\"type\":\"scattergl\"}],\"scattermapbox\":[{\"marker\":{\"colorbar\":{\"outlinewidth\":0,\"ticks\":\"\"}},\"type\":\"scattermapbox\"}],\"scatterpolar\":[{\"marker\":{\"colorbar\":{\"outlinewidth\":0,\"ticks\":\"\"}},\"type\":\"scatterpolar\"}],\"scatterpolargl\":[{\"marker\":{\"colorbar\":{\"outlinewidth\":0,\"ticks\":\"\"}},\"type\":\"scatterpolargl\"}],\"scatterternary\":[{\"marker\":{\"colorbar\":{\"outlinewidth\":0,\"ticks\":\"\"}},\"type\":\"scatterternary\"}],\"surface\":[{\"colorbar\":{\"outlinewidth\":0,\"ticks\":\"\"},\"colorscale\":[[0.0,\"#0d0887\"],[0.1111111111111111,\"#46039f\"],[0.2222222222222222,\"#7201a8\"],[0.3333333333333333,\"#9c179e\"],[0.4444444444444444,\"#bd3786\"],[0.5555555555555556,\"#d8576b\"],[0.6666666666666666,\"#ed7953\"],[0.7777777777777778,\"#fb9f3a\"],[0.8888888888888888,\"#fdca26\"],[1.0,\"#f0f921\"]],\"type\":\"surface\"}],\"table\":[{\"cells\":{\"fill\":{\"color\":\"#EBF0F8\"},\"line\":{\"color\":\"white\"}},\"header\":{\"fill\":{\"color\":\"#C8D4E3\"},\"line\":{\"color\":\"white\"}},\"type\":\"table\"}]},\"layout\":{\"annotationdefaults\":{\"arrowcolor\":\"#2a3f5f\",\"arrowhead\":0,\"arrowwidth\":1},\"autotypenumbers\":\"strict\",\"coloraxis\":{\"colorbar\":{\"outlinewidth\":0,\"ticks\":\"\"}},\"colorscale\":{\"diverging\":[[0,\"#8e0152\"],[0.1,\"#c51b7d\"],[0.2,\"#de77ae\"],[0.3,\"#f1b6da\"],[0.4,\"#fde0ef\"],[0.5,\"#f7f7f7\"],[0.6,\"#e6f5d0\"],[0.7,\"#b8e186\"],[0.8,\"#7fbc41\"],[0.9,\"#4d9221\"],[1,\"#276419\"]],\"sequential\":[[0.0,\"#0d0887\"],[0.1111111111111111,\"#46039f\"],[0.2222222222222222,\"#7201a8\"],[0.3333333333333333,\"#9c179e\"],[0.4444444444444444,\"#bd3786\"],[0.5555555555555556,\"#d8576b\"],[0.6666666666666666,\"#ed7953\"],[0.7777777777777778,\"#fb9f3a\"],[0.8888888888888888,\"#fdca26\"],[1.0,\"#f0f921\"]],\"sequentialminus\":[[0.0,\"#0d0887\"],[0.1111111111111111,\"#46039f\"],[0.2222222222222222,\"#7201a8\"],[0.3333333333333333,\"#9c179e\"],[0.4444444444444444,\"#bd3786\"],[0.5555555555555556,\"#d8576b\"],[0.6666666666666666,\"#ed7953\"],[0.7777777777777778,\"#fb9f3a\"],[0.8888888888888888,\"#fdca26\"],[1.0,\"#f0f921\"]]},\"colorway\":[\"#636efa\",\"#EF553B\",\"#00cc96\",\"#ab63fa\",\"#FFA15A\",\"#19d3f3\",\"#FF6692\",\"#B6E880\",\"#FF97FF\",\"#FECB52\"],\"font\":{\"color\":\"#2a3f5f\"},\"geo\":{\"bgcolor\":\"white\",\"lakecolor\":\"white\",\"landcolor\":\"#E5ECF6\",\"showlakes\":true,\"showland\":true,\"subunitcolor\":\"white\"},\"hoverlabel\":{\"align\":\"left\"},\"hovermode\":\"closest\",\"mapbox\":{\"style\":\"light\"},\"paper_bgcolor\":\"white\",\"plot_bgcolor\":\"#E5ECF6\",\"polar\":{\"angularaxis\":{\"gridcolor\":\"white\",\"linecolor\":\"white\",\"ticks\":\"\"},\"bgcolor\":\"#E5ECF6\",\"radialaxis\":{\"gridcolor\":\"white\",\"linecolor\":\"white\",\"ticks\":\"\"}},\"scene\":{\"xaxis\":{\"backgroundcolor\":\"#E5ECF6\",\"gridcolor\":\"white\",\"gridwidth\":2,\"linecolor\":\"white\",\"showbackground\":true,\"ticks\":\"\",\"zerolinecolor\":\"white\"},\"yaxis\":{\"backgroundcolor\":\"#E5ECF6\",\"gridcolor\":\"white\",\"gridwidth\":2,\"linecolor\":\"white\",\"showbackground\":true,\"ticks\":\"\",\"zerolinecolor\":\"white\"},\"zaxis\":{\"backgroundcolor\":\"#E5ECF6\",\"gridcolor\":\"white\",\"gridwidth\":2,\"linecolor\":\"white\",\"showbackground\":true,\"ticks\":\"\",\"zerolinecolor\":\"white\"}},\"shapedefaults\":{\"line\":{\"color\":\"#2a3f5f\"}},\"ternary\":{\"aaxis\":{\"gridcolor\":\"white\",\"linecolor\":\"white\",\"ticks\":\"\"},\"baxis\":{\"gridcolor\":\"white\",\"linecolor\":\"white\",\"ticks\":\"\"},\"bgcolor\":\"#E5ECF6\",\"caxis\":{\"gridcolor\":\"white\",\"linecolor\":\"white\",\"ticks\":\"\"}},\"title\":{\"x\":0.05},\"xaxis\":{\"automargin\":true,\"gridcolor\":\"white\",\"linecolor\":\"white\",\"ticks\":\"\",\"title\":{\"standoff\":15},\"zerolinecolor\":\"white\",\"zerolinewidth\":2},\"yaxis\":{\"automargin\":true,\"gridcolor\":\"white\",\"linecolor\":\"white\",\"ticks\":\"\",\"title\":{\"standoff\":15},\"zerolinecolor\":\"white\",\"zerolinewidth\":2}}}},                        {\"responsive\": true}                    ).then(function(){\n",
       "                            \n",
       "var gd = document.getElementById('cbb1ca5f-4028-483e-b0a7-15812932fd6b');\n",
       "var x = new MutationObserver(function (mutations, observer) {{\n",
       "        var display = window.getComputedStyle(gd).display;\n",
       "        if (!display || display === 'none') {{\n",
       "            console.log([gd, 'removed!']);\n",
       "            Plotly.purge(gd);\n",
       "            observer.disconnect();\n",
       "        }}\n",
       "}});\n",
       "\n",
       "// Listen for the removal of the full notebook cells\n",
       "var notebookContainer = gd.closest('#notebook-container');\n",
       "if (notebookContainer) {{\n",
       "    x.observe(notebookContainer, {childList: true});\n",
       "}}\n",
       "\n",
       "// Listen for the clearing of the current output cell\n",
       "var outputEl = gd.closest('.output');\n",
       "if (outputEl) {{\n",
       "    x.observe(outputEl, {childList: true});\n",
       "}}\n",
       "\n",
       "                        })                };                });            </script>        </div>"
      ]
     },
     "metadata": {},
     "output_type": "display_data"
    }
   ],
   "source": [
    "phase_diagram_2 = CompoundPhaseDiagram(entries,[Composition(\"CaO\"),\n",
    "                                                Composition(\"CoO\"),\n",
    "                                                Composition(\"SO3\")])\n",
    "\n",
    "compound_plotter_2 = PDPlotter(phase_diagram_2, show_unstable=True, backend = \"matplotlib\",  markersize=20)\n",
    "z = compound_plotter_2.get_plot(label_unstable=False, label_stable=False)\n",
    "#z.savefig('40-CaCo2S3O12.pdf')\n",
    "z.show()   \n",
    "\n",
    "compound_plotter_2 = PDPlotter(phase_diagram_2, show_unstable = 0.2, markerize=20)\n",
    "y = compound_plotter_2.get_plot(phase_diagram_2, label_unstable=True)\n",
    "y.show()\n",
    "\n"
   ]
  },
  {
   "cell_type": "code",
   "execution_count": 10,
   "id": "2c9188fc",
   "metadata": {},
   "outputs": [
    {
     "data": {
      "application/vnd.plotly.v1+json": {
       "config": {
        "plotlyServerURL": "https://plot.ly"
       },
       "data": [
        {
         "hoverinfo": "none",
         "line": {
          "color": "rgba(0,0,0,1.0)",
          "width": 7
         },
         "mode": "lines",
         "showlegend": false,
         "type": "scatter3d",
         "x": [
          0.4330127018922194,
          0.5773502691896256,
          null,
          0,
          0.5773502691896256,
          null,
          0.4330127018922194,
          0,
          null,
          0.649519052838329,
          0.8660254037844386,
          null,
          0,
          0,
          null,
          0.5773502691896256,
          0,
          null,
          0.649519052838329,
          0.5773502691896256,
          null,
          0.4330127018922194,
          0,
          null,
          0.5773502691896256,
          0.8660254037844386,
          null,
          0,
          0,
          null,
          0.649519052838329,
          0,
          null,
          0.4330127018922194,
          0.8660254037844386,
          null
         ],
         "y": [
          0.25000000000000006,
          0.5000000000000001,
          null,
          0.5000000000000002,
          0.5000000000000001,
          null,
          0.25000000000000006,
          0,
          null,
          0.625,
          0.5,
          null,
          0.5000000000000002,
          0,
          null,
          0.5000000000000001,
          1,
          null,
          0.625,
          0.5000000000000001,
          null,
          0.25000000000000006,
          0.5000000000000002,
          null,
          0.5000000000000001,
          0.5,
          null,
          0.5000000000000002,
          1,
          null,
          0.625,
          1,
          null,
          0.25000000000000006,
          0.5,
          null
         ],
         "z": [
          -3.2661219999999984,
          -2.4657666666666627,
          null,
          -2.425844999999997,
          -2.4657666666666627,
          null,
          -3.2661219999999984,
          0,
          null,
          -1.2037125000000022,
          0,
          null,
          -2.425844999999997,
          0,
          null,
          -2.4657666666666627,
          0,
          null,
          -1.2037125000000022,
          -2.4657666666666627,
          null,
          -3.2661219999999984,
          -2.425844999999997,
          null,
          -2.4657666666666627,
          0,
          null,
          -2.425844999999997,
          0,
          null,
          -1.2037125000000022,
          0,
          null,
          -3.2661219999999984,
          0,
          null
         ]
        },
        {
         "hoverinfo": "none",
         "line": {
          "color": "rgba (0, 0, 0, 0.4)",
          "dash": "solid",
          "width": 1
         },
         "mode": "lines",
         "showlegend": false,
         "type": "scatter3d",
         "x": [
          0.8660254037844386,
          0,
          null,
          0.8660254037844386,
          0,
          null,
          0.8660254037844386,
          0,
          null,
          0.8660254037844386,
          0,
          null,
          0,
          0,
          null,
          0,
          0,
          null,
          0.8660254037844386,
          0.8660254037844386,
          null,
          0,
          0,
          null,
          0,
          0,
          null
         ],
         "y": [
          0.5,
          1,
          null,
          0.5,
          1,
          null,
          0.5,
          0,
          null,
          0.5,
          0,
          null,
          1,
          0,
          null,
          1,
          0,
          null,
          0.5,
          0.5,
          null,
          1,
          1,
          null,
          0,
          0,
          null
         ],
         "z": [
          0,
          0,
          null,
          -3.2661219999999984,
          -3.2661219999999984,
          null,
          0,
          0,
          null,
          -3.2661219999999984,
          -3.2661219999999984,
          null,
          0,
          0,
          null,
          -3.2661219999999984,
          -3.2661219999999984,
          null,
          0,
          -3.2661219999999984,
          null,
          0,
          -3.2661219999999984,
          null,
          0,
          -3.2661219999999984,
          null
         ]
        },
        {
         "colorbar": {
          "len": 0.75,
          "title": {
           "text": "Formation energy<br>(eV/atom)"
          },
          "x": 0.9
         },
         "colorscale": [
          [
           0,
           "#0c8c00"
          ],
          [
           0.5,
           "#d8ffd4"
          ],
          [
           1,
           "#ffffff"
          ]
         ],
         "flatshading": true,
         "hoverinfo": "none",
         "i": [
          5,
          7,
          4,
          4,
          4,
          4
         ],
         "intensity": [
          -1.018966666666665,
          -1.2037125000000022,
          -3.2661219999999984,
          -2.425844999999997,
          -2.4657666666666627,
          0,
          0,
          0
         ],
         "j": [
          4,
          3,
          3,
          3,
          1,
          1
         ],
         "k": [
          2,
          2,
          2,
          6,
          6,
          5
         ],
         "lighting": {
          "ambient": 1,
          "diffuse": 0
         },
         "name": "Convex Hull (shading)",
         "opacity": 0.8,
         "showlegend": true,
         "type": "mesh3d",
         "x": [
          0.5773502691896258,
          0.649519052838329,
          0.4330127018922194,
          0,
          0.5773502691896256,
          0.8660254037844386,
          0,
          0
         ],
         "y": [
          0.6666666666666666,
          0.625,
          0.25000000000000006,
          0.5000000000000002,
          0.5000000000000001,
          0.5,
          1,
          0
         ],
         "z": [
          -1.018966666666665,
          -1.2037125000000022,
          -3.2661219999999984,
          -2.425844999999997,
          -2.4657666666666627,
          0,
          0,
          0
         ]
        },
        {
         "hoverinfo": "skip",
         "mode": "text",
         "name": "Labels (stable)",
         "opacity": 1,
         "showlegend": true,
         "text": [
          "CaO",
          "CaSO<sub>4</sub>",
          "CaS",
          "SO<sub>3</sub>"
         ],
         "textposition": [
          "middle center",
          "middle center",
          "middle center",
          "middle center"
         ],
         "type": "scatter3d",
         "visible": true,
         "x": [
          0.4230127018922194,
          0.5673502691896256,
          0.01,
          0.639519052838329
         ],
         "y": [
          0.24000000000000005,
          0.5100000000000001,
          0.5100000000000002,
          0.635
         ],
         "z": [
          -2.9395097999999984,
          -2.1391544666666626,
          -2.099232799999997,
          -0.8771003000000024
         ]
        },
        {
         "hoverinfo": "text",
         "hoverlabel": {
          "font": {
           "size": 14
          }
         },
         "hovertext": [
          "SO<sub>2</sub> (None) <br> -1.019 eV/atom (+0.051 eV/atom)"
         ],
         "marker": {
          "color": [
           0.051
          ],
          "colorbar": {
           "len": 0.75,
           "title": {
            "text": "Energy Above Hull<br>(eV/atom)"
           },
           "x": 0.05
          },
          "colorscale": [
           [
            0,
            "#fad393"
           ],
           [
            0.5,
            "#ff813d"
           ],
           [
            1,
            "#ff0000"
           ]
          ],
          "size": 6,
          "symbol": "diamond"
         },
         "mode": "markers",
         "name": "Above Hull",
         "showlegend": true,
         "type": "scatter3d",
         "x": [
          0.5773502691896258
         ],
         "y": [
          0.6666666666666666
         ],
         "z": [
          -1.019
         ]
        },
        {
         "error_z": {
          "array": [
           0,
           0,
           0,
           0,
           0,
           0,
           0
          ],
          "color": "darkgray",
          "thickness": 5,
          "type": "data",
          "width": 10
         },
         "hoverinfo": "text",
         "hoverlabel": {
          "font": {
           "size": 14
          }
         },
         "hovertext": [
          "CaO (None) <br> -3.266 eV/atom",
          "CaSO<sub>4</sub> (None) <br> -2.466 eV/atom",
          "CaS (None) <br> -2.426 eV/atom",
          "Ca (None) <br> 0.0 eV/atom",
          "SO<sub>3</sub> (None) <br> -1.204 eV/atom",
          "O<sub>2</sub> (None) <br> 0.0 eV/atom",
          "S (None) <br> 0.0 eV/atom"
         ],
         "marker": {
          "color": "black",
          "line": {
           "color": "black",
           "width": 3
          },
          "opacity": 0.8,
          "size": 12
         },
         "mode": "markers",
         "name": "Stable",
         "showlegend": true,
         "type": "scatter3d",
         "x": [
          0.4330127018922194,
          0.5773502691896256,
          0,
          0,
          0.649519052838329,
          0.8660254037844386,
          0
         ],
         "y": [
          0.25000000000000006,
          0.5000000000000001,
          0.5000000000000002,
          0,
          0.625,
          0.5,
          1
         ],
         "z": [
          -3.266,
          -2.466,
          -2.426,
          0,
          -1.204,
          0,
          0
         ]
        }
       ],
       "layout": {
        "autosize": true,
        "height": 700,
        "hovermode": "closest",
        "legend": {
         "orientation": "h",
         "traceorder": "reversed",
         "x": 0.5,
         "xanchor": "center",
         "y": 0,
         "yanchor": "top"
        },
        "margin": {
         "b": 10,
         "l": 0,
         "pad": 0,
         "r": 0,
         "t": 0
        },
        "paper_bgcolor": "rgba(0,0,0,0)",
        "plot_bgcolor": "rgba(0,0,0,0)",
        "scene": {
         "annotations": [
          {
           "align": "center",
           "font": {
            "color": "#000000",
            "size": 24
           },
           "opacity": 1,
           "showarrow": false,
           "text": "Ca",
           "x": 0,
           "xanchor": "right",
           "xshift": -10,
           "y": 0,
           "yanchor": "auto",
           "yshift": -10,
           "z": -2.939509799999999
          },
          {
           "align": "center",
           "font": {
            "color": "#000000",
            "size": 24
           },
           "opacity": 1,
           "showarrow": false,
           "text": "O<sub>2</sub>",
           "x": 0.8660254037844386,
           "xanchor": "right",
           "xshift": -10,
           "y": 0.5,
           "yanchor": "auto",
           "yshift": -10,
           "z": -2.939509799999999
          },
          {
           "align": "center",
           "font": {
            "color": "#000000",
            "size": 24
           },
           "opacity": 1,
           "showarrow": false,
           "text": "S",
           "x": 0,
           "xanchor": "right",
           "xshift": -10,
           "y": 1,
           "yanchor": "auto",
           "yshift": -10,
           "z": -2.939509799999999
          },
          {
           "opacity": 0,
           "text": "",
           "x": 1,
           "y": 1,
           "z": 0
          }
         ],
         "aspectratio": {
          "x": 1.7,
          "y": 1.7,
          "z": 1.2
         },
         "camera": {
          "center": {
           "x": -0.1,
           "y": 0,
           "z": -0.15
          },
          "eye": {
           "x": -0.1,
           "y": 0,
           "z": 2.5
          },
          "projection": {
           "type": "orthographic"
          }
         },
         "xaxis": {
          "autorange": true,
          "showaxeslabels": false,
          "showgrid": false,
          "showline": false,
          "showspikes": false,
          "showticklabels": false,
          "ticks": "",
          "visible": false,
          "zeroline": false
         },
         "yaxis": {
          "autorange": true,
          "showaxeslabels": false,
          "showgrid": false,
          "showline": false,
          "showspikes": false,
          "showticklabels": false,
          "ticks": "",
          "visible": false,
          "zeroline": false
         },
         "zaxis": {
          "autorange": true,
          "showaxeslabels": false,
          "showgrid": false,
          "showline": false,
          "showspikes": false,
          "showticklabels": false,
          "ticks": "",
          "visible": false,
          "zeroline": false
         }
        },
        "showlegend": true,
        "template": {
         "data": {
          "bar": [
           {
            "error_x": {
             "color": "#2a3f5f"
            },
            "error_y": {
             "color": "#2a3f5f"
            },
            "marker": {
             "line": {
              "color": "#E5ECF6",
              "width": 0.5
             },
             "pattern": {
              "fillmode": "overlay",
              "size": 10,
              "solidity": 0.2
             }
            },
            "type": "bar"
           }
          ],
          "barpolar": [
           {
            "marker": {
             "line": {
              "color": "#E5ECF6",
              "width": 0.5
             },
             "pattern": {
              "fillmode": "overlay",
              "size": 10,
              "solidity": 0.2
             }
            },
            "type": "barpolar"
           }
          ],
          "carpet": [
           {
            "aaxis": {
             "endlinecolor": "#2a3f5f",
             "gridcolor": "white",
             "linecolor": "white",
             "minorgridcolor": "white",
             "startlinecolor": "#2a3f5f"
            },
            "baxis": {
             "endlinecolor": "#2a3f5f",
             "gridcolor": "white",
             "linecolor": "white",
             "minorgridcolor": "white",
             "startlinecolor": "#2a3f5f"
            },
            "type": "carpet"
           }
          ],
          "choropleth": [
           {
            "colorbar": {
             "outlinewidth": 0,
             "ticks": ""
            },
            "type": "choropleth"
           }
          ],
          "contour": [
           {
            "colorbar": {
             "outlinewidth": 0,
             "ticks": ""
            },
            "colorscale": [
             [
              0,
              "#0d0887"
             ],
             [
              0.1111111111111111,
              "#46039f"
             ],
             [
              0.2222222222222222,
              "#7201a8"
             ],
             [
              0.3333333333333333,
              "#9c179e"
             ],
             [
              0.4444444444444444,
              "#bd3786"
             ],
             [
              0.5555555555555556,
              "#d8576b"
             ],
             [
              0.6666666666666666,
              "#ed7953"
             ],
             [
              0.7777777777777778,
              "#fb9f3a"
             ],
             [
              0.8888888888888888,
              "#fdca26"
             ],
             [
              1,
              "#f0f921"
             ]
            ],
            "type": "contour"
           }
          ],
          "contourcarpet": [
           {
            "colorbar": {
             "outlinewidth": 0,
             "ticks": ""
            },
            "type": "contourcarpet"
           }
          ],
          "heatmap": [
           {
            "colorbar": {
             "outlinewidth": 0,
             "ticks": ""
            },
            "colorscale": [
             [
              0,
              "#0d0887"
             ],
             [
              0.1111111111111111,
              "#46039f"
             ],
             [
              0.2222222222222222,
              "#7201a8"
             ],
             [
              0.3333333333333333,
              "#9c179e"
             ],
             [
              0.4444444444444444,
              "#bd3786"
             ],
             [
              0.5555555555555556,
              "#d8576b"
             ],
             [
              0.6666666666666666,
              "#ed7953"
             ],
             [
              0.7777777777777778,
              "#fb9f3a"
             ],
             [
              0.8888888888888888,
              "#fdca26"
             ],
             [
              1,
              "#f0f921"
             ]
            ],
            "type": "heatmap"
           }
          ],
          "heatmapgl": [
           {
            "colorbar": {
             "outlinewidth": 0,
             "ticks": ""
            },
            "colorscale": [
             [
              0,
              "#0d0887"
             ],
             [
              0.1111111111111111,
              "#46039f"
             ],
             [
              0.2222222222222222,
              "#7201a8"
             ],
             [
              0.3333333333333333,
              "#9c179e"
             ],
             [
              0.4444444444444444,
              "#bd3786"
             ],
             [
              0.5555555555555556,
              "#d8576b"
             ],
             [
              0.6666666666666666,
              "#ed7953"
             ],
             [
              0.7777777777777778,
              "#fb9f3a"
             ],
             [
              0.8888888888888888,
              "#fdca26"
             ],
             [
              1,
              "#f0f921"
             ]
            ],
            "type": "heatmapgl"
           }
          ],
          "histogram": [
           {
            "marker": {
             "pattern": {
              "fillmode": "overlay",
              "size": 10,
              "solidity": 0.2
             }
            },
            "type": "histogram"
           }
          ],
          "histogram2d": [
           {
            "colorbar": {
             "outlinewidth": 0,
             "ticks": ""
            },
            "colorscale": [
             [
              0,
              "#0d0887"
             ],
             [
              0.1111111111111111,
              "#46039f"
             ],
             [
              0.2222222222222222,
              "#7201a8"
             ],
             [
              0.3333333333333333,
              "#9c179e"
             ],
             [
              0.4444444444444444,
              "#bd3786"
             ],
             [
              0.5555555555555556,
              "#d8576b"
             ],
             [
              0.6666666666666666,
              "#ed7953"
             ],
             [
              0.7777777777777778,
              "#fb9f3a"
             ],
             [
              0.8888888888888888,
              "#fdca26"
             ],
             [
              1,
              "#f0f921"
             ]
            ],
            "type": "histogram2d"
           }
          ],
          "histogram2dcontour": [
           {
            "colorbar": {
             "outlinewidth": 0,
             "ticks": ""
            },
            "colorscale": [
             [
              0,
              "#0d0887"
             ],
             [
              0.1111111111111111,
              "#46039f"
             ],
             [
              0.2222222222222222,
              "#7201a8"
             ],
             [
              0.3333333333333333,
              "#9c179e"
             ],
             [
              0.4444444444444444,
              "#bd3786"
             ],
             [
              0.5555555555555556,
              "#d8576b"
             ],
             [
              0.6666666666666666,
              "#ed7953"
             ],
             [
              0.7777777777777778,
              "#fb9f3a"
             ],
             [
              0.8888888888888888,
              "#fdca26"
             ],
             [
              1,
              "#f0f921"
             ]
            ],
            "type": "histogram2dcontour"
           }
          ],
          "mesh3d": [
           {
            "colorbar": {
             "outlinewidth": 0,
             "ticks": ""
            },
            "type": "mesh3d"
           }
          ],
          "parcoords": [
           {
            "line": {
             "colorbar": {
              "outlinewidth": 0,
              "ticks": ""
             }
            },
            "type": "parcoords"
           }
          ],
          "pie": [
           {
            "automargin": true,
            "type": "pie"
           }
          ],
          "scatter": [
           {
            "marker": {
             "colorbar": {
              "outlinewidth": 0,
              "ticks": ""
             }
            },
            "type": "scatter"
           }
          ],
          "scatter3d": [
           {
            "line": {
             "colorbar": {
              "outlinewidth": 0,
              "ticks": ""
             }
            },
            "marker": {
             "colorbar": {
              "outlinewidth": 0,
              "ticks": ""
             }
            },
            "type": "scatter3d"
           }
          ],
          "scattercarpet": [
           {
            "marker": {
             "colorbar": {
              "outlinewidth": 0,
              "ticks": ""
             }
            },
            "type": "scattercarpet"
           }
          ],
          "scattergeo": [
           {
            "marker": {
             "colorbar": {
              "outlinewidth": 0,
              "ticks": ""
             }
            },
            "type": "scattergeo"
           }
          ],
          "scattergl": [
           {
            "marker": {
             "colorbar": {
              "outlinewidth": 0,
              "ticks": ""
             }
            },
            "type": "scattergl"
           }
          ],
          "scattermapbox": [
           {
            "marker": {
             "colorbar": {
              "outlinewidth": 0,
              "ticks": ""
             }
            },
            "type": "scattermapbox"
           }
          ],
          "scatterpolar": [
           {
            "marker": {
             "colorbar": {
              "outlinewidth": 0,
              "ticks": ""
             }
            },
            "type": "scatterpolar"
           }
          ],
          "scatterpolargl": [
           {
            "marker": {
             "colorbar": {
              "outlinewidth": 0,
              "ticks": ""
             }
            },
            "type": "scatterpolargl"
           }
          ],
          "scatterternary": [
           {
            "marker": {
             "colorbar": {
              "outlinewidth": 0,
              "ticks": ""
             }
            },
            "type": "scatterternary"
           }
          ],
          "surface": [
           {
            "colorbar": {
             "outlinewidth": 0,
             "ticks": ""
            },
            "colorscale": [
             [
              0,
              "#0d0887"
             ],
             [
              0.1111111111111111,
              "#46039f"
             ],
             [
              0.2222222222222222,
              "#7201a8"
             ],
             [
              0.3333333333333333,
              "#9c179e"
             ],
             [
              0.4444444444444444,
              "#bd3786"
             ],
             [
              0.5555555555555556,
              "#d8576b"
             ],
             [
              0.6666666666666666,
              "#ed7953"
             ],
             [
              0.7777777777777778,
              "#fb9f3a"
             ],
             [
              0.8888888888888888,
              "#fdca26"
             ],
             [
              1,
              "#f0f921"
             ]
            ],
            "type": "surface"
           }
          ],
          "table": [
           {
            "cells": {
             "fill": {
              "color": "#EBF0F8"
             },
             "line": {
              "color": "white"
             }
            },
            "header": {
             "fill": {
              "color": "#C8D4E3"
             },
             "line": {
              "color": "white"
             }
            },
            "type": "table"
           }
          ]
         },
         "layout": {
          "annotationdefaults": {
           "arrowcolor": "#2a3f5f",
           "arrowhead": 0,
           "arrowwidth": 1
          },
          "autotypenumbers": "strict",
          "coloraxis": {
           "colorbar": {
            "outlinewidth": 0,
            "ticks": ""
           }
          },
          "colorscale": {
           "diverging": [
            [
             0,
             "#8e0152"
            ],
            [
             0.1,
             "#c51b7d"
            ],
            [
             0.2,
             "#de77ae"
            ],
            [
             0.3,
             "#f1b6da"
            ],
            [
             0.4,
             "#fde0ef"
            ],
            [
             0.5,
             "#f7f7f7"
            ],
            [
             0.6,
             "#e6f5d0"
            ],
            [
             0.7,
             "#b8e186"
            ],
            [
             0.8,
             "#7fbc41"
            ],
            [
             0.9,
             "#4d9221"
            ],
            [
             1,
             "#276419"
            ]
           ],
           "sequential": [
            [
             0,
             "#0d0887"
            ],
            [
             0.1111111111111111,
             "#46039f"
            ],
            [
             0.2222222222222222,
             "#7201a8"
            ],
            [
             0.3333333333333333,
             "#9c179e"
            ],
            [
             0.4444444444444444,
             "#bd3786"
            ],
            [
             0.5555555555555556,
             "#d8576b"
            ],
            [
             0.6666666666666666,
             "#ed7953"
            ],
            [
             0.7777777777777778,
             "#fb9f3a"
            ],
            [
             0.8888888888888888,
             "#fdca26"
            ],
            [
             1,
             "#f0f921"
            ]
           ],
           "sequentialminus": [
            [
             0,
             "#0d0887"
            ],
            [
             0.1111111111111111,
             "#46039f"
            ],
            [
             0.2222222222222222,
             "#7201a8"
            ],
            [
             0.3333333333333333,
             "#9c179e"
            ],
            [
             0.4444444444444444,
             "#bd3786"
            ],
            [
             0.5555555555555556,
             "#d8576b"
            ],
            [
             0.6666666666666666,
             "#ed7953"
            ],
            [
             0.7777777777777778,
             "#fb9f3a"
            ],
            [
             0.8888888888888888,
             "#fdca26"
            ],
            [
             1,
             "#f0f921"
            ]
           ]
          },
          "colorway": [
           "#636efa",
           "#EF553B",
           "#00cc96",
           "#ab63fa",
           "#FFA15A",
           "#19d3f3",
           "#FF6692",
           "#B6E880",
           "#FF97FF",
           "#FECB52"
          ],
          "font": {
           "color": "#2a3f5f"
          },
          "geo": {
           "bgcolor": "white",
           "lakecolor": "white",
           "landcolor": "#E5ECF6",
           "showlakes": true,
           "showland": true,
           "subunitcolor": "white"
          },
          "hoverlabel": {
           "align": "left"
          },
          "hovermode": "closest",
          "mapbox": {
           "style": "light"
          },
          "paper_bgcolor": "white",
          "plot_bgcolor": "#E5ECF6",
          "polar": {
           "angularaxis": {
            "gridcolor": "white",
            "linecolor": "white",
            "ticks": ""
           },
           "bgcolor": "#E5ECF6",
           "radialaxis": {
            "gridcolor": "white",
            "linecolor": "white",
            "ticks": ""
           }
          },
          "scene": {
           "xaxis": {
            "backgroundcolor": "#E5ECF6",
            "gridcolor": "white",
            "gridwidth": 2,
            "linecolor": "white",
            "showbackground": true,
            "ticks": "",
            "zerolinecolor": "white"
           },
           "yaxis": {
            "backgroundcolor": "#E5ECF6",
            "gridcolor": "white",
            "gridwidth": 2,
            "linecolor": "white",
            "showbackground": true,
            "ticks": "",
            "zerolinecolor": "white"
           },
           "zaxis": {
            "backgroundcolor": "#E5ECF6",
            "gridcolor": "white",
            "gridwidth": 2,
            "linecolor": "white",
            "showbackground": true,
            "ticks": "",
            "zerolinecolor": "white"
           }
          },
          "shapedefaults": {
           "line": {
            "color": "#2a3f5f"
           }
          },
          "ternary": {
           "aaxis": {
            "gridcolor": "white",
            "linecolor": "white",
            "ticks": ""
           },
           "baxis": {
            "gridcolor": "white",
            "linecolor": "white",
            "ticks": ""
           },
           "bgcolor": "#E5ECF6",
           "caxis": {
            "gridcolor": "white",
            "linecolor": "white",
            "ticks": ""
           }
          },
          "title": {
           "x": 0.05
          },
          "xaxis": {
           "automargin": true,
           "gridcolor": "white",
           "linecolor": "white",
           "ticks": "",
           "title": {
            "standoff": 15
           },
           "zerolinecolor": "white",
           "zerolinewidth": 2
          },
          "yaxis": {
           "automargin": true,
           "gridcolor": "white",
           "linecolor": "white",
           "ticks": "",
           "title": {
            "standoff": 15
           },
           "zerolinecolor": "white",
           "zerolinewidth": 2
          }
         }
        }
       }
      },
      "text/html": [
       "<div>                            <div id=\"a1bc9288-4e94-48ae-9133-f5f46340f1ac\" class=\"plotly-graph-div\" style=\"height:700px; width:100%;\"></div>            <script type=\"text/javascript\">                require([\"plotly\"], function(Plotly) {                    window.PLOTLYENV=window.PLOTLYENV || {};                                    if (document.getElementById(\"a1bc9288-4e94-48ae-9133-f5f46340f1ac\")) {                    Plotly.newPlot(                        \"a1bc9288-4e94-48ae-9133-f5f46340f1ac\",                        [{\"hoverinfo\":\"none\",\"line\":{\"color\":\"rgba(0,0,0,1.0)\",\"width\":7.0},\"mode\":\"lines\",\"showlegend\":false,\"x\":[0.4330127018922194,0.5773502691896256,null,0.0,0.5773502691896256,null,0.4330127018922194,0.0,null,0.649519052838329,0.8660254037844386,null,0.0,0.0,null,0.5773502691896256,0.0,null,0.649519052838329,0.5773502691896256,null,0.4330127018922194,0.0,null,0.5773502691896256,0.8660254037844386,null,0.0,0.0,null,0.649519052838329,0.0,null,0.4330127018922194,0.8660254037844386,null],\"y\":[0.25000000000000006,0.5000000000000001,null,0.5000000000000002,0.5000000000000001,null,0.25000000000000006,0.0,null,0.625,0.5,null,0.5000000000000002,0.0,null,0.5000000000000001,1.0,null,0.625,0.5000000000000001,null,0.25000000000000006,0.5000000000000002,null,0.5000000000000001,0.5,null,0.5000000000000002,1.0,null,0.625,1.0,null,0.25000000000000006,0.5,null],\"z\":[-3.2661219999999984,-2.4657666666666627,null,-2.425844999999997,-2.4657666666666627,null,-3.2661219999999984,0.0,null,-1.2037125000000022,0.0,null,-2.425844999999997,0.0,null,-2.4657666666666627,0.0,null,-1.2037125000000022,-2.4657666666666627,null,-3.2661219999999984,-2.425844999999997,null,-2.4657666666666627,0.0,null,-2.425844999999997,0.0,null,-1.2037125000000022,0.0,null,-3.2661219999999984,0.0,null],\"type\":\"scatter3d\"},{\"hoverinfo\":\"none\",\"line\":{\"color\":\"rgba (0, 0, 0, 0.4)\",\"dash\":\"solid\",\"width\":1.0},\"mode\":\"lines\",\"showlegend\":false,\"x\":[0.8660254037844386,0.0,null,0.8660254037844386,0.0,null,0.8660254037844386,0.0,null,0.8660254037844386,0.0,null,0.0,0.0,null,0.0,0.0,null,0.8660254037844386,0.8660254037844386,null,0.0,0.0,null,0.0,0.0,null],\"y\":[0.5,1.0,null,0.5,1.0,null,0.5,0.0,null,0.5,0.0,null,1.0,0.0,null,1.0,0.0,null,0.5,0.5,null,1.0,1.0,null,0.0,0.0,null],\"z\":[0,0,null,-3.2661219999999984,-3.2661219999999984,null,0,0,null,-3.2661219999999984,-3.2661219999999984,null,0,0,null,-3.2661219999999984,-3.2661219999999984,null,0,-3.2661219999999984,null,0,-3.2661219999999984,null,0,-3.2661219999999984,null],\"type\":\"scatter3d\"},{\"colorbar\":{\"len\":0.75,\"title\":{\"text\":\"Formation energy<br>(eV/atom)\"},\"x\":0.9},\"colorscale\":[[0.0,\"#0c8c00\"],[0.5,\"#d8ffd4\"],[1.0,\"#ffffff\"]],\"flatshading\":true,\"hoverinfo\":\"none\",\"i\":[5,7,4,4,4,4],\"intensity\":[-1.018966666666665,-1.2037125000000022,-3.2661219999999984,-2.425844999999997,-2.4657666666666627,0.0,0.0,0.0],\"j\":[4,3,3,3,1,1],\"k\":[2,2,2,6,6,5],\"lighting\":{\"ambient\":1.0,\"diffuse\":0.0},\"name\":\"Convex Hull (shading)\",\"opacity\":0.8,\"showlegend\":true,\"x\":[0.5773502691896258,0.649519052838329,0.4330127018922194,0.0,0.5773502691896256,0.8660254037844386,0.0,0.0],\"y\":[0.6666666666666666,0.625,0.25000000000000006,0.5000000000000002,0.5000000000000001,0.5,1.0,0.0],\"z\":[-1.018966666666665,-1.2037125000000022,-3.2661219999999984,-2.425844999999997,-2.4657666666666627,0.0,0.0,0.0],\"type\":\"mesh3d\"},{\"hoverinfo\":\"skip\",\"mode\":\"text\",\"name\":\"Labels (stable)\",\"opacity\":1.0,\"showlegend\":true,\"text\":[\"CaO\",\"CaSO<sub>4</sub>\",\"CaS\",\"SO<sub>3</sub>\"],\"textposition\":[\"middle center\",\"middle center\",\"middle center\",\"middle center\"],\"visible\":true,\"x\":[0.4230127018922194,0.5673502691896256,0.01,0.639519052838329],\"y\":[0.24000000000000005,0.5100000000000001,0.5100000000000002,0.635],\"z\":[-2.9395097999999984,-2.1391544666666626,-2.099232799999997,-0.8771003000000024],\"type\":\"scatter3d\"},{\"hoverinfo\":\"text\",\"hoverlabel\":{\"font\":{\"size\":14}},\"hovertext\":[\"SO<sub>2</sub> (None) <br> -1.019 eV/atom (+0.051 eV/atom)\"],\"marker\":{\"color\":[0.051],\"colorbar\":{\"len\":0.75,\"title\":{\"text\":\"Energy Above Hull<br>(eV/atom)\"},\"x\":0.05},\"colorscale\":[[0.0,\"#fad393\"],[0.5,\"#ff813d\"],[1.0,\"#ff0000\"]],\"size\":6,\"symbol\":\"diamond\"},\"mode\":\"markers\",\"name\":\"Above Hull\",\"showlegend\":true,\"x\":[0.5773502691896258],\"y\":[0.6666666666666666],\"z\":[-1.019],\"type\":\"scatter3d\"},{\"error_z\":{\"array\":[0,0,0,0,0,0,0],\"color\":\"darkgray\",\"thickness\":5,\"type\":\"data\",\"width\":10},\"hoverinfo\":\"text\",\"hoverlabel\":{\"font\":{\"size\":14}},\"hovertext\":[\"CaO (None) <br> -3.266 eV/atom\",\"CaSO<sub>4</sub> (None) <br> -2.466 eV/atom\",\"CaS (None) <br> -2.426 eV/atom\",\"Ca (None) <br> 0.0 eV/atom\",\"SO<sub>3</sub> (None) <br> -1.204 eV/atom\",\"O<sub>2</sub> (None) <br> 0.0 eV/atom\",\"S (None) <br> 0.0 eV/atom\"],\"marker\":{\"color\":\"black\",\"line\":{\"color\":\"black\",\"width\":3},\"opacity\":0.8,\"size\":12},\"mode\":\"markers\",\"name\":\"Stable\",\"showlegend\":true,\"x\":[0.4330127018922194,0.5773502691896256,0.0,0.0,0.649519052838329,0.8660254037844386,0.0],\"y\":[0.25000000000000006,0.5000000000000001,0.5000000000000002,0.0,0.625,0.5,1.0],\"z\":[-3.266,-2.466,-2.426,0.0,-1.204,0.0,0.0],\"type\":\"scatter3d\"}],                        {\"autosize\":true,\"height\":700,\"hovermode\":\"closest\",\"legend\":{\"orientation\":\"h\",\"traceorder\":\"reversed\",\"x\":0.5,\"xanchor\":\"center\",\"y\":0.0,\"yanchor\":\"top\"},\"margin\":{\"b\":10,\"l\":0,\"pad\":0,\"r\":0,\"t\":0},\"paper_bgcolor\":\"rgba(0,0,0,0)\",\"plot_bgcolor\":\"rgba(0,0,0,0)\",\"scene\":{\"annotations\":[{\"align\":\"center\",\"font\":{\"color\":\"#000000\",\"size\":24.0},\"opacity\":1.0,\"showarrow\":false,\"text\":\"Ca\",\"x\":0.0,\"xanchor\":\"right\",\"xshift\":-10,\"y\":0.0,\"yanchor\":\"auto\",\"yshift\":-10,\"z\":-2.939509799999999},{\"align\":\"center\",\"font\":{\"color\":\"#000000\",\"size\":24.0},\"opacity\":1.0,\"showarrow\":false,\"text\":\"O<sub>2</sub>\",\"x\":0.8660254037844386,\"xanchor\":\"right\",\"xshift\":-10,\"y\":0.5,\"yanchor\":\"auto\",\"yshift\":-10,\"z\":-2.939509799999999},{\"align\":\"center\",\"font\":{\"color\":\"#000000\",\"size\":24.0},\"opacity\":1.0,\"showarrow\":false,\"text\":\"S\",\"x\":0.0,\"xanchor\":\"right\",\"xshift\":-10,\"y\":1.0,\"yanchor\":\"auto\",\"yshift\":-10,\"z\":-2.939509799999999},{\"opacity\":0,\"text\":\"\",\"x\":1,\"y\":1,\"z\":0}],\"xaxis\":{\"autorange\":true,\"showaxeslabels\":false,\"showgrid\":false,\"showline\":false,\"showspikes\":false,\"showticklabels\":false,\"ticks\":\"\",\"visible\":false,\"zeroline\":false},\"yaxis\":{\"autorange\":true,\"showaxeslabels\":false,\"showgrid\":false,\"showline\":false,\"showspikes\":false,\"showticklabels\":false,\"ticks\":\"\",\"visible\":false,\"zeroline\":false},\"zaxis\":{\"autorange\":true,\"showaxeslabels\":false,\"showgrid\":false,\"showline\":false,\"showspikes\":false,\"showticklabels\":false,\"ticks\":\"\",\"visible\":false,\"zeroline\":false},\"camera\":{\"center\":{\"x\":-0.1,\"y\":0,\"z\":-0.15},\"eye\":{\"x\":-0.1,\"y\":0,\"z\":2.5},\"projection\":{\"type\":\"orthographic\"}},\"aspectratio\":{\"x\":1.7,\"y\":1.7,\"z\":1.2}},\"showlegend\":true,\"template\":{\"data\":{\"bar\":[{\"error_x\":{\"color\":\"#2a3f5f\"},\"error_y\":{\"color\":\"#2a3f5f\"},\"marker\":{\"line\":{\"color\":\"#E5ECF6\",\"width\":0.5},\"pattern\":{\"fillmode\":\"overlay\",\"size\":10,\"solidity\":0.2}},\"type\":\"bar\"}],\"barpolar\":[{\"marker\":{\"line\":{\"color\":\"#E5ECF6\",\"width\":0.5},\"pattern\":{\"fillmode\":\"overlay\",\"size\":10,\"solidity\":0.2}},\"type\":\"barpolar\"}],\"carpet\":[{\"aaxis\":{\"endlinecolor\":\"#2a3f5f\",\"gridcolor\":\"white\",\"linecolor\":\"white\",\"minorgridcolor\":\"white\",\"startlinecolor\":\"#2a3f5f\"},\"baxis\":{\"endlinecolor\":\"#2a3f5f\",\"gridcolor\":\"white\",\"linecolor\":\"white\",\"minorgridcolor\":\"white\",\"startlinecolor\":\"#2a3f5f\"},\"type\":\"carpet\"}],\"choropleth\":[{\"colorbar\":{\"outlinewidth\":0,\"ticks\":\"\"},\"type\":\"choropleth\"}],\"contour\":[{\"colorbar\":{\"outlinewidth\":0,\"ticks\":\"\"},\"colorscale\":[[0.0,\"#0d0887\"],[0.1111111111111111,\"#46039f\"],[0.2222222222222222,\"#7201a8\"],[0.3333333333333333,\"#9c179e\"],[0.4444444444444444,\"#bd3786\"],[0.5555555555555556,\"#d8576b\"],[0.6666666666666666,\"#ed7953\"],[0.7777777777777778,\"#fb9f3a\"],[0.8888888888888888,\"#fdca26\"],[1.0,\"#f0f921\"]],\"type\":\"contour\"}],\"contourcarpet\":[{\"colorbar\":{\"outlinewidth\":0,\"ticks\":\"\"},\"type\":\"contourcarpet\"}],\"heatmap\":[{\"colorbar\":{\"outlinewidth\":0,\"ticks\":\"\"},\"colorscale\":[[0.0,\"#0d0887\"],[0.1111111111111111,\"#46039f\"],[0.2222222222222222,\"#7201a8\"],[0.3333333333333333,\"#9c179e\"],[0.4444444444444444,\"#bd3786\"],[0.5555555555555556,\"#d8576b\"],[0.6666666666666666,\"#ed7953\"],[0.7777777777777778,\"#fb9f3a\"],[0.8888888888888888,\"#fdca26\"],[1.0,\"#f0f921\"]],\"type\":\"heatmap\"}],\"heatmapgl\":[{\"colorbar\":{\"outlinewidth\":0,\"ticks\":\"\"},\"colorscale\":[[0.0,\"#0d0887\"],[0.1111111111111111,\"#46039f\"],[0.2222222222222222,\"#7201a8\"],[0.3333333333333333,\"#9c179e\"],[0.4444444444444444,\"#bd3786\"],[0.5555555555555556,\"#d8576b\"],[0.6666666666666666,\"#ed7953\"],[0.7777777777777778,\"#fb9f3a\"],[0.8888888888888888,\"#fdca26\"],[1.0,\"#f0f921\"]],\"type\":\"heatmapgl\"}],\"histogram\":[{\"marker\":{\"pattern\":{\"fillmode\":\"overlay\",\"size\":10,\"solidity\":0.2}},\"type\":\"histogram\"}],\"histogram2d\":[{\"colorbar\":{\"outlinewidth\":0,\"ticks\":\"\"},\"colorscale\":[[0.0,\"#0d0887\"],[0.1111111111111111,\"#46039f\"],[0.2222222222222222,\"#7201a8\"],[0.3333333333333333,\"#9c179e\"],[0.4444444444444444,\"#bd3786\"],[0.5555555555555556,\"#d8576b\"],[0.6666666666666666,\"#ed7953\"],[0.7777777777777778,\"#fb9f3a\"],[0.8888888888888888,\"#fdca26\"],[1.0,\"#f0f921\"]],\"type\":\"histogram2d\"}],\"histogram2dcontour\":[{\"colorbar\":{\"outlinewidth\":0,\"ticks\":\"\"},\"colorscale\":[[0.0,\"#0d0887\"],[0.1111111111111111,\"#46039f\"],[0.2222222222222222,\"#7201a8\"],[0.3333333333333333,\"#9c179e\"],[0.4444444444444444,\"#bd3786\"],[0.5555555555555556,\"#d8576b\"],[0.6666666666666666,\"#ed7953\"],[0.7777777777777778,\"#fb9f3a\"],[0.8888888888888888,\"#fdca26\"],[1.0,\"#f0f921\"]],\"type\":\"histogram2dcontour\"}],\"mesh3d\":[{\"colorbar\":{\"outlinewidth\":0,\"ticks\":\"\"},\"type\":\"mesh3d\"}],\"parcoords\":[{\"line\":{\"colorbar\":{\"outlinewidth\":0,\"ticks\":\"\"}},\"type\":\"parcoords\"}],\"pie\":[{\"automargin\":true,\"type\":\"pie\"}],\"scatter\":[{\"marker\":{\"colorbar\":{\"outlinewidth\":0,\"ticks\":\"\"}},\"type\":\"scatter\"}],\"scatter3d\":[{\"line\":{\"colorbar\":{\"outlinewidth\":0,\"ticks\":\"\"}},\"marker\":{\"colorbar\":{\"outlinewidth\":0,\"ticks\":\"\"}},\"type\":\"scatter3d\"}],\"scattercarpet\":[{\"marker\":{\"colorbar\":{\"outlinewidth\":0,\"ticks\":\"\"}},\"type\":\"scattercarpet\"}],\"scattergeo\":[{\"marker\":{\"colorbar\":{\"outlinewidth\":0,\"ticks\":\"\"}},\"type\":\"scattergeo\"}],\"scattergl\":[{\"marker\":{\"colorbar\":{\"outlinewidth\":0,\"ticks\":\"\"}},\"type\":\"scattergl\"}],\"scattermapbox\":[{\"marker\":{\"colorbar\":{\"outlinewidth\":0,\"ticks\":\"\"}},\"type\":\"scattermapbox\"}],\"scatterpolar\":[{\"marker\":{\"colorbar\":{\"outlinewidth\":0,\"ticks\":\"\"}},\"type\":\"scatterpolar\"}],\"scatterpolargl\":[{\"marker\":{\"colorbar\":{\"outlinewidth\":0,\"ticks\":\"\"}},\"type\":\"scatterpolargl\"}],\"scatterternary\":[{\"marker\":{\"colorbar\":{\"outlinewidth\":0,\"ticks\":\"\"}},\"type\":\"scatterternary\"}],\"surface\":[{\"colorbar\":{\"outlinewidth\":0,\"ticks\":\"\"},\"colorscale\":[[0.0,\"#0d0887\"],[0.1111111111111111,\"#46039f\"],[0.2222222222222222,\"#7201a8\"],[0.3333333333333333,\"#9c179e\"],[0.4444444444444444,\"#bd3786\"],[0.5555555555555556,\"#d8576b\"],[0.6666666666666666,\"#ed7953\"],[0.7777777777777778,\"#fb9f3a\"],[0.8888888888888888,\"#fdca26\"],[1.0,\"#f0f921\"]],\"type\":\"surface\"}],\"table\":[{\"cells\":{\"fill\":{\"color\":\"#EBF0F8\"},\"line\":{\"color\":\"white\"}},\"header\":{\"fill\":{\"color\":\"#C8D4E3\"},\"line\":{\"color\":\"white\"}},\"type\":\"table\"}]},\"layout\":{\"annotationdefaults\":{\"arrowcolor\":\"#2a3f5f\",\"arrowhead\":0,\"arrowwidth\":1},\"autotypenumbers\":\"strict\",\"coloraxis\":{\"colorbar\":{\"outlinewidth\":0,\"ticks\":\"\"}},\"colorscale\":{\"diverging\":[[0,\"#8e0152\"],[0.1,\"#c51b7d\"],[0.2,\"#de77ae\"],[0.3,\"#f1b6da\"],[0.4,\"#fde0ef\"],[0.5,\"#f7f7f7\"],[0.6,\"#e6f5d0\"],[0.7,\"#b8e186\"],[0.8,\"#7fbc41\"],[0.9,\"#4d9221\"],[1,\"#276419\"]],\"sequential\":[[0.0,\"#0d0887\"],[0.1111111111111111,\"#46039f\"],[0.2222222222222222,\"#7201a8\"],[0.3333333333333333,\"#9c179e\"],[0.4444444444444444,\"#bd3786\"],[0.5555555555555556,\"#d8576b\"],[0.6666666666666666,\"#ed7953\"],[0.7777777777777778,\"#fb9f3a\"],[0.8888888888888888,\"#fdca26\"],[1.0,\"#f0f921\"]],\"sequentialminus\":[[0.0,\"#0d0887\"],[0.1111111111111111,\"#46039f\"],[0.2222222222222222,\"#7201a8\"],[0.3333333333333333,\"#9c179e\"],[0.4444444444444444,\"#bd3786\"],[0.5555555555555556,\"#d8576b\"],[0.6666666666666666,\"#ed7953\"],[0.7777777777777778,\"#fb9f3a\"],[0.8888888888888888,\"#fdca26\"],[1.0,\"#f0f921\"]]},\"colorway\":[\"#636efa\",\"#EF553B\",\"#00cc96\",\"#ab63fa\",\"#FFA15A\",\"#19d3f3\",\"#FF6692\",\"#B6E880\",\"#FF97FF\",\"#FECB52\"],\"font\":{\"color\":\"#2a3f5f\"},\"geo\":{\"bgcolor\":\"white\",\"lakecolor\":\"white\",\"landcolor\":\"#E5ECF6\",\"showlakes\":true,\"showland\":true,\"subunitcolor\":\"white\"},\"hoverlabel\":{\"align\":\"left\"},\"hovermode\":\"closest\",\"mapbox\":{\"style\":\"light\"},\"paper_bgcolor\":\"white\",\"plot_bgcolor\":\"#E5ECF6\",\"polar\":{\"angularaxis\":{\"gridcolor\":\"white\",\"linecolor\":\"white\",\"ticks\":\"\"},\"bgcolor\":\"#E5ECF6\",\"radialaxis\":{\"gridcolor\":\"white\",\"linecolor\":\"white\",\"ticks\":\"\"}},\"scene\":{\"xaxis\":{\"backgroundcolor\":\"#E5ECF6\",\"gridcolor\":\"white\",\"gridwidth\":2,\"linecolor\":\"white\",\"showbackground\":true,\"ticks\":\"\",\"zerolinecolor\":\"white\"},\"yaxis\":{\"backgroundcolor\":\"#E5ECF6\",\"gridcolor\":\"white\",\"gridwidth\":2,\"linecolor\":\"white\",\"showbackground\":true,\"ticks\":\"\",\"zerolinecolor\":\"white\"},\"zaxis\":{\"backgroundcolor\":\"#E5ECF6\",\"gridcolor\":\"white\",\"gridwidth\":2,\"linecolor\":\"white\",\"showbackground\":true,\"ticks\":\"\",\"zerolinecolor\":\"white\"}},\"shapedefaults\":{\"line\":{\"color\":\"#2a3f5f\"}},\"ternary\":{\"aaxis\":{\"gridcolor\":\"white\",\"linecolor\":\"white\",\"ticks\":\"\"},\"baxis\":{\"gridcolor\":\"white\",\"linecolor\":\"white\",\"ticks\":\"\"},\"bgcolor\":\"#E5ECF6\",\"caxis\":{\"gridcolor\":\"white\",\"linecolor\":\"white\",\"ticks\":\"\"}},\"title\":{\"x\":0.05},\"xaxis\":{\"automargin\":true,\"gridcolor\":\"white\",\"linecolor\":\"white\",\"ticks\":\"\",\"title\":{\"standoff\":15},\"zerolinecolor\":\"white\",\"zerolinewidth\":2},\"yaxis\":{\"automargin\":true,\"gridcolor\":\"white\",\"linecolor\":\"white\",\"ticks\":\"\",\"title\":{\"standoff\":15},\"zerolinecolor\":\"white\",\"zerolinewidth\":2}}}},                        {\"responsive\": true}                    ).then(function(){\n",
       "                            \n",
       "var gd = document.getElementById('a1bc9288-4e94-48ae-9133-f5f46340f1ac');\n",
       "var x = new MutationObserver(function (mutations, observer) {{\n",
       "        var display = window.getComputedStyle(gd).display;\n",
       "        if (!display || display === 'none') {{\n",
       "            console.log([gd, 'removed!']);\n",
       "            Plotly.purge(gd);\n",
       "            observer.disconnect();\n",
       "        }}\n",
       "}});\n",
       "\n",
       "// Listen for the removal of the full notebook cells\n",
       "var notebookContainer = gd.closest('#notebook-container');\n",
       "if (notebookContainer) {{\n",
       "    x.observe(notebookContainer, {childList: true});\n",
       "}}\n",
       "\n",
       "// Listen for the clearing of the current output cell\n",
       "var outputEl = gd.closest('.output');\n",
       "if (outputEl) {{\n",
       "    x.observe(outputEl, {childList: true});\n",
       "}}\n",
       "\n",
       "                        })                };                });            </script>        </div>"
      ]
     },
     "metadata": {},
     "output_type": "display_data"
    }
   ],
   "source": [
    "phase_diagram_3 = CompoundPhaseDiagram(entries,[Composition(\"Ca\"),\n",
    "                                                Composition(\"S\"),\n",
    "                                                Composition(\"O2\")])\n",
    "#CompoundPhaseDiagram:-Generates phase diagrams from compounds as terminations instead of elements\n",
    "\n",
    "\n",
    "#get_plot and show:- Draw the phase diagram using Plotly (or Matplotlib) and show it.\n",
    "\n",
    "compound_plotter_3 = PDPlotter(phase_diagram_3, show_unstable=True, markerize=20)\n",
    "z = compound_plotter_3.get_plot(phase_diagram_3, label_unstable=True)\n",
    "z.show()"
   ]
  },
  {
   "cell_type": "code",
   "execution_count": 11,
   "id": "fa6352e9",
   "metadata": {},
   "outputs": [
    {
     "data": {
      "application/vnd.plotly.v1+json": {
       "config": {
        "plotlyServerURL": "https://plot.ly"
       },
       "data": [
        {
         "hoverinfo": "none",
         "line": {
          "color": "rgba(0,0,0,1.0)",
          "width": 7
         },
         "mode": "lines",
         "showlegend": false,
         "type": "scatter3d",
         "x": [
          0,
          0,
          null,
          0.649519052838329,
          0,
          null,
          0,
          0,
          null,
          0.5773502691896256,
          0.8660254037844386,
          null,
          0.649519052838329,
          0.5773502691896256,
          null,
          0.649519052838329,
          0.8660254037844386,
          null,
          0.5773502691896256,
          0.49487165930539356,
          null,
          0.49487165930539356,
          0,
          null,
          0,
          0,
          null,
          0.49487165930539356,
          0,
          null,
          0.5773502691896256,
          0,
          null,
          0.5773502691896256,
          0,
          null,
          0.5773502691896256,
          0,
          null,
          0,
          0,
          null,
          0.5773502691896256,
          0,
          null,
          0.49487165930539356,
          0.8660254037844386,
          null
         ],
         "y": [
          0.6666666666666669,
          1,
          null,
          0.625,
          1,
          null,
          0.5714285714285714,
          0.47058823529411764,
          null,
          0.5000000000000001,
          0.5,
          null,
          0.625,
          0.5000000000000001,
          null,
          0.625,
          0.5,
          null,
          0.5000000000000001,
          0.28571428571428575,
          null,
          0.28571428571428575,
          0.47058823529411764,
          null,
          0.47058823529411764,
          0,
          null,
          0.28571428571428575,
          0,
          null,
          0.5000000000000001,
          0.47058823529411764,
          null,
          0.5000000000000001,
          0.6666666666666669,
          null,
          0.5000000000000001,
          0.5714285714285714,
          null,
          0.6666666666666669,
          0.5714285714285714,
          null,
          0.5000000000000001,
          1,
          null,
          0.28571428571428575,
          0.5,
          null
         ],
         "z": [
          -0.5516666666666671,
          0,
          null,
          -1.2037125000000022,
          0,
          null,
          -0.6431428571428587,
          -0.6931764705882402,
          null,
          -1.74263333333333,
          0,
          null,
          -1.2037125000000022,
          -1.74263333333333,
          null,
          -1.2037125000000022,
          0,
          null,
          -1.74263333333333,
          -1.5686857142857147,
          null,
          -1.5686857142857147,
          -0.6931764705882402,
          null,
          -0.6931764705882402,
          0,
          null,
          -1.5686857142857147,
          0,
          null,
          -1.74263333333333,
          -0.6931764705882402,
          null,
          -1.74263333333333,
          -0.5516666666666671,
          null,
          -1.74263333333333,
          -0.6431428571428587,
          null,
          -0.5516666666666671,
          -0.6431428571428587,
          null,
          -1.74263333333333,
          0,
          null,
          -1.5686857142857147,
          0,
          null
         ]
        },
        {
         "hoverinfo": "none",
         "line": {
          "color": "rgba (0, 0, 0, 0.4)",
          "dash": "solid",
          "width": 1
         },
         "mode": "lines",
         "showlegend": false,
         "type": "scatter3d",
         "x": [
          0.8660254037844386,
          0,
          null,
          0.8660254037844386,
          0,
          null,
          0.8660254037844386,
          0,
          null,
          0.8660254037844386,
          0,
          null,
          0,
          0,
          null,
          0,
          0,
          null,
          0.8660254037844386,
          0.8660254037844386,
          null,
          0,
          0,
          null,
          0,
          0,
          null
         ],
         "y": [
          0.5,
          1,
          null,
          0.5,
          1,
          null,
          0.5,
          0,
          null,
          0.5,
          0,
          null,
          1,
          0,
          null,
          1,
          0,
          null,
          0.5,
          0.5,
          null,
          1,
          1,
          null,
          0,
          0,
          null
         ],
         "z": [
          0,
          0,
          null,
          -1.74263333333333,
          -1.74263333333333,
          null,
          0,
          0,
          null,
          -1.74263333333333,
          -1.74263333333333,
          null,
          0,
          0,
          null,
          -1.74263333333333,
          -1.74263333333333,
          null,
          0,
          -1.74263333333333,
          null,
          0,
          -1.74263333333333,
          null,
          0,
          -1.74263333333333,
          null
         ]
        },
        {
         "colorbar": {
          "len": 0.75,
          "title": {
           "text": "Formation energy<br>(eV/atom)"
          },
          "x": 0.9
         },
         "colorscale": [
          [
           0,
           "#0c8c00"
          ],
          [
           0.5,
           "#d8ffd4"
          ],
          [
           1,
           "#ffffff"
          ]
         ],
         "flatshading": true,
         "hoverinfo": "none",
         "i": [
          5,
          5,
          5,
          10,
          5,
          5,
          5,
          6
         ],
         "intensity": [
          -1.018966666666665,
          -1.2037125000000022,
          -1.3474749999999993,
          -0.8433000000000019,
          -0.6039999999999992,
          -1.74263333333333,
          -0.5516666666666671,
          -1.4496117647058833,
          -1.5686857142857147,
          -0.6431428571428587,
          -0.6931764705882402,
          0,
          0,
          0
         ],
         "j": [
          1,
          1,
          8,
          8,
          8,
          6,
          9,
          9
         ],
         "k": [
          12,
          11,
          10,
          13,
          11,
          12,
          10,
          5
         ],
         "lighting": {
          "ambient": 1,
          "diffuse": 0
         },
         "name": "Convex Hull (shading)",
         "opacity": 0.8,
         "showlegend": true,
         "type": "mesh3d",
         "x": [
          0.5773502691896258,
          0.649519052838329,
          0.4330127018922194,
          0.5773502691896258,
          0,
          0.5773502691896256,
          0,
          0.611312049730192,
          0.49487165930539356,
          0,
          0,
          0.8660254037844386,
          0,
          0
         ],
         "y": [
          0.6666666666666666,
          0.625,
          0.25000000000000006,
          0.33333333333333337,
          0.5000000000000002,
          0.5000000000000001,
          0.6666666666666669,
          0.5294117647058822,
          0.28571428571428575,
          0.5714285714285714,
          0.47058823529411764,
          0.5,
          1,
          0
         ],
         "z": [
          -1.018966666666665,
          -1.2037125000000022,
          -1.3474749999999993,
          -0.8433000000000019,
          -0.6039999999999992,
          -1.74263333333333,
          -0.5516666666666671,
          -1.4496117647058833,
          -1.5686857142857147,
          -0.6431428571428587,
          -0.6931764705882402,
          0,
          0,
          0
         ]
        },
        {
         "hoverinfo": "skip",
         "mode": "text",
         "name": "Labels (stable)",
         "opacity": 1,
         "showlegend": true,
         "text": [
          "CoS<sub>2</sub>",
          "SO<sub>3</sub>",
          "Co<sub>3</sub>S<sub>4</sub>",
          "Co<sub>9</sub>S<sub>8</sub>",
          "CoSO<sub>4</sub>",
          "Co<sub>3</sub>O<sub>4</sub>"
         ],
         "textposition": [
          "middle center",
          "middle center",
          "middle center",
          "middle center",
          "middle center",
          "middle center"
         ],
         "type": "scatter3d",
         "visible": true,
         "x": [
          0.01,
          0.639519052838329,
          0.01,
          0.01,
          0.5673502691896256,
          0.48487165930539355
         ],
         "y": [
          0.6766666666666669,
          0.635,
          0.5814285714285714,
          0.46058823529411763,
          0.5100000000000001,
          0.27571428571428575
         ],
         "z": [
          -0.3774033333333341,
          -1.0294491666666692,
          -0.4688795238095257,
          -0.5189131372549072,
          -1.568369999999997,
          -1.3944223809523817
         ]
        },
        {
         "hoverinfo": "text",
         "hoverlabel": {
          "font": {
           "size": 14
          }
         },
         "hovertext": [
          "SO<sub>2</sub> (None) <br> -1.019 eV/atom (+0.051 eV/atom)",
          "CoO (None) <br> -1.347 eV/atom (+0.025 eV/atom)",
          "CoO<sub>2</sub> (None) <br> -0.843 eV/atom (+0.377 eV/atom)",
          "CoS (None) <br> -0.604 eV/atom (+0.075 eV/atom)",
          "Co<sub>2</sub>(SO<sub>4</sub>)<sub>3</sub> (None) <br> -1.45 eV/atom (+0.064 eV/atom)"
         ],
         "marker": {
          "color": [
           0.051,
           0.025,
           0.377,
           0.075,
           0.064
          ],
          "colorbar": {
           "len": 0.75,
           "title": {
            "text": "Energy Above Hull<br>(eV/atom)"
           },
           "x": 0.05
          },
          "colorscale": [
           [
            0,
            "#fad393"
           ],
           [
            0.5,
            "#ff813d"
           ],
           [
            1,
            "#ff0000"
           ]
          ],
          "size": 6,
          "symbol": "diamond"
         },
         "mode": "markers",
         "name": "Above Hull",
         "showlegend": true,
         "type": "scatter3d",
         "x": [
          0.5773502691896258,
          0.4330127018922194,
          0.5773502691896258,
          0,
          0.611312049730192
         ],
         "y": [
          0.6666666666666666,
          0.25000000000000006,
          0.33333333333333337,
          0.5000000000000002,
          0.5294117647058822
         ],
         "z": [
          -1.019,
          -1.347,
          -0.843,
          -0.604,
          -1.45
         ]
        },
        {
         "error_z": {
          "array": [
           0,
           0,
           0,
           0,
           0,
           0,
           0,
           0,
           0
          ],
          "color": "darkgray",
          "thickness": 5,
          "type": "data",
          "width": 10
         },
         "hoverinfo": "text",
         "hoverlabel": {
          "font": {
           "size": 14
          }
         },
         "hovertext": [
          "CoS<sub>2</sub> (None) <br> -0.552 eV/atom",
          "S (None) <br> 0.0 eV/atom",
          "SO<sub>3</sub> (None) <br> -1.204 eV/atom",
          "Co<sub>3</sub>S<sub>4</sub> (None) <br> -0.643 eV/atom",
          "Co<sub>9</sub>S<sub>8</sub> (None) <br> -0.693 eV/atom",
          "CoSO<sub>4</sub> (None) <br> -1.743 eV/atom",
          "O<sub>2</sub> (None) <br> 0.0 eV/atom",
          "Co<sub>3</sub>O<sub>4</sub> (None) <br> -1.569 eV/atom",
          "Co (None) <br> 0.0 eV/atom"
         ],
         "marker": {
          "color": "black",
          "line": {
           "color": "black",
           "width": 3
          },
          "opacity": 0.8,
          "size": 12
         },
         "mode": "markers",
         "name": "Stable",
         "showlegend": true,
         "type": "scatter3d",
         "x": [
          0,
          0,
          0.649519052838329,
          0,
          0,
          0.5773502691896256,
          0.8660254037844386,
          0.49487165930539356,
          0
         ],
         "y": [
          0.6666666666666669,
          1,
          0.625,
          0.5714285714285714,
          0.47058823529411764,
          0.5000000000000001,
          0.5,
          0.28571428571428575,
          0
         ],
         "z": [
          -0.552,
          0,
          -1.204,
          -0.643,
          -0.693,
          -1.743,
          0,
          -1.569,
          0
         ]
        }
       ],
       "layout": {
        "autosize": true,
        "height": 700,
        "hovermode": "closest",
        "legend": {
         "orientation": "h",
         "traceorder": "reversed",
         "x": 0.5,
         "xanchor": "center",
         "y": 0,
         "yanchor": "top"
        },
        "margin": {
         "b": 10,
         "l": 0,
         "pad": 0,
         "r": 0,
         "t": 0
        },
        "paper_bgcolor": "rgba(0,0,0,0)",
        "plot_bgcolor": "rgba(0,0,0,0)",
        "scene": {
         "annotations": [
          {
           "align": "center",
           "font": {
            "color": "#000000",
            "size": 24
           },
           "opacity": 1,
           "showarrow": false,
           "text": "S",
           "x": 0,
           "xanchor": "right",
           "xshift": -10,
           "y": 1,
           "yanchor": "auto",
           "yshift": -10,
           "z": -1.568369999999997
          },
          {
           "align": "center",
           "font": {
            "color": "#000000",
            "size": 24
           },
           "opacity": 1,
           "showarrow": false,
           "text": "O<sub>2</sub>",
           "x": 0.8660254037844386,
           "xanchor": "right",
           "xshift": -10,
           "y": 0.5,
           "yanchor": "auto",
           "yshift": -10,
           "z": -1.568369999999997
          },
          {
           "align": "center",
           "font": {
            "color": "#000000",
            "size": 24
           },
           "opacity": 1,
           "showarrow": false,
           "text": "Co",
           "x": 0,
           "xanchor": "right",
           "xshift": -10,
           "y": 0,
           "yanchor": "auto",
           "yshift": -10,
           "z": -1.568369999999997
          },
          {
           "opacity": 0,
           "text": "",
           "x": 1,
           "y": 1,
           "z": 0
          }
         ],
         "aspectratio": {
          "x": 1.7,
          "y": 1.7,
          "z": 1.2
         },
         "camera": {
          "center": {
           "x": -0.1,
           "y": 0,
           "z": -0.15
          },
          "eye": {
           "x": -0.1,
           "y": 0,
           "z": 2.5
          },
          "projection": {
           "type": "orthographic"
          }
         },
         "xaxis": {
          "autorange": true,
          "showaxeslabels": false,
          "showgrid": false,
          "showline": false,
          "showspikes": false,
          "showticklabels": false,
          "ticks": "",
          "visible": false,
          "zeroline": false
         },
         "yaxis": {
          "autorange": true,
          "showaxeslabels": false,
          "showgrid": false,
          "showline": false,
          "showspikes": false,
          "showticklabels": false,
          "ticks": "",
          "visible": false,
          "zeroline": false
         },
         "zaxis": {
          "autorange": true,
          "showaxeslabels": false,
          "showgrid": false,
          "showline": false,
          "showspikes": false,
          "showticklabels": false,
          "ticks": "",
          "visible": false,
          "zeroline": false
         }
        },
        "showlegend": true,
        "template": {
         "data": {
          "bar": [
           {
            "error_x": {
             "color": "#2a3f5f"
            },
            "error_y": {
             "color": "#2a3f5f"
            },
            "marker": {
             "line": {
              "color": "#E5ECF6",
              "width": 0.5
             },
             "pattern": {
              "fillmode": "overlay",
              "size": 10,
              "solidity": 0.2
             }
            },
            "type": "bar"
           }
          ],
          "barpolar": [
           {
            "marker": {
             "line": {
              "color": "#E5ECF6",
              "width": 0.5
             },
             "pattern": {
              "fillmode": "overlay",
              "size": 10,
              "solidity": 0.2
             }
            },
            "type": "barpolar"
           }
          ],
          "carpet": [
           {
            "aaxis": {
             "endlinecolor": "#2a3f5f",
             "gridcolor": "white",
             "linecolor": "white",
             "minorgridcolor": "white",
             "startlinecolor": "#2a3f5f"
            },
            "baxis": {
             "endlinecolor": "#2a3f5f",
             "gridcolor": "white",
             "linecolor": "white",
             "minorgridcolor": "white",
             "startlinecolor": "#2a3f5f"
            },
            "type": "carpet"
           }
          ],
          "choropleth": [
           {
            "colorbar": {
             "outlinewidth": 0,
             "ticks": ""
            },
            "type": "choropleth"
           }
          ],
          "contour": [
           {
            "colorbar": {
             "outlinewidth": 0,
             "ticks": ""
            },
            "colorscale": [
             [
              0,
              "#0d0887"
             ],
             [
              0.1111111111111111,
              "#46039f"
             ],
             [
              0.2222222222222222,
              "#7201a8"
             ],
             [
              0.3333333333333333,
              "#9c179e"
             ],
             [
              0.4444444444444444,
              "#bd3786"
             ],
             [
              0.5555555555555556,
              "#d8576b"
             ],
             [
              0.6666666666666666,
              "#ed7953"
             ],
             [
              0.7777777777777778,
              "#fb9f3a"
             ],
             [
              0.8888888888888888,
              "#fdca26"
             ],
             [
              1,
              "#f0f921"
             ]
            ],
            "type": "contour"
           }
          ],
          "contourcarpet": [
           {
            "colorbar": {
             "outlinewidth": 0,
             "ticks": ""
            },
            "type": "contourcarpet"
           }
          ],
          "heatmap": [
           {
            "colorbar": {
             "outlinewidth": 0,
             "ticks": ""
            },
            "colorscale": [
             [
              0,
              "#0d0887"
             ],
             [
              0.1111111111111111,
              "#46039f"
             ],
             [
              0.2222222222222222,
              "#7201a8"
             ],
             [
              0.3333333333333333,
              "#9c179e"
             ],
             [
              0.4444444444444444,
              "#bd3786"
             ],
             [
              0.5555555555555556,
              "#d8576b"
             ],
             [
              0.6666666666666666,
              "#ed7953"
             ],
             [
              0.7777777777777778,
              "#fb9f3a"
             ],
             [
              0.8888888888888888,
              "#fdca26"
             ],
             [
              1,
              "#f0f921"
             ]
            ],
            "type": "heatmap"
           }
          ],
          "heatmapgl": [
           {
            "colorbar": {
             "outlinewidth": 0,
             "ticks": ""
            },
            "colorscale": [
             [
              0,
              "#0d0887"
             ],
             [
              0.1111111111111111,
              "#46039f"
             ],
             [
              0.2222222222222222,
              "#7201a8"
             ],
             [
              0.3333333333333333,
              "#9c179e"
             ],
             [
              0.4444444444444444,
              "#bd3786"
             ],
             [
              0.5555555555555556,
              "#d8576b"
             ],
             [
              0.6666666666666666,
              "#ed7953"
             ],
             [
              0.7777777777777778,
              "#fb9f3a"
             ],
             [
              0.8888888888888888,
              "#fdca26"
             ],
             [
              1,
              "#f0f921"
             ]
            ],
            "type": "heatmapgl"
           }
          ],
          "histogram": [
           {
            "marker": {
             "pattern": {
              "fillmode": "overlay",
              "size": 10,
              "solidity": 0.2
             }
            },
            "type": "histogram"
           }
          ],
          "histogram2d": [
           {
            "colorbar": {
             "outlinewidth": 0,
             "ticks": ""
            },
            "colorscale": [
             [
              0,
              "#0d0887"
             ],
             [
              0.1111111111111111,
              "#46039f"
             ],
             [
              0.2222222222222222,
              "#7201a8"
             ],
             [
              0.3333333333333333,
              "#9c179e"
             ],
             [
              0.4444444444444444,
              "#bd3786"
             ],
             [
              0.5555555555555556,
              "#d8576b"
             ],
             [
              0.6666666666666666,
              "#ed7953"
             ],
             [
              0.7777777777777778,
              "#fb9f3a"
             ],
             [
              0.8888888888888888,
              "#fdca26"
             ],
             [
              1,
              "#f0f921"
             ]
            ],
            "type": "histogram2d"
           }
          ],
          "histogram2dcontour": [
           {
            "colorbar": {
             "outlinewidth": 0,
             "ticks": ""
            },
            "colorscale": [
             [
              0,
              "#0d0887"
             ],
             [
              0.1111111111111111,
              "#46039f"
             ],
             [
              0.2222222222222222,
              "#7201a8"
             ],
             [
              0.3333333333333333,
              "#9c179e"
             ],
             [
              0.4444444444444444,
              "#bd3786"
             ],
             [
              0.5555555555555556,
              "#d8576b"
             ],
             [
              0.6666666666666666,
              "#ed7953"
             ],
             [
              0.7777777777777778,
              "#fb9f3a"
             ],
             [
              0.8888888888888888,
              "#fdca26"
             ],
             [
              1,
              "#f0f921"
             ]
            ],
            "type": "histogram2dcontour"
           }
          ],
          "mesh3d": [
           {
            "colorbar": {
             "outlinewidth": 0,
             "ticks": ""
            },
            "type": "mesh3d"
           }
          ],
          "parcoords": [
           {
            "line": {
             "colorbar": {
              "outlinewidth": 0,
              "ticks": ""
             }
            },
            "type": "parcoords"
           }
          ],
          "pie": [
           {
            "automargin": true,
            "type": "pie"
           }
          ],
          "scatter": [
           {
            "marker": {
             "colorbar": {
              "outlinewidth": 0,
              "ticks": ""
             }
            },
            "type": "scatter"
           }
          ],
          "scatter3d": [
           {
            "line": {
             "colorbar": {
              "outlinewidth": 0,
              "ticks": ""
             }
            },
            "marker": {
             "colorbar": {
              "outlinewidth": 0,
              "ticks": ""
             }
            },
            "type": "scatter3d"
           }
          ],
          "scattercarpet": [
           {
            "marker": {
             "colorbar": {
              "outlinewidth": 0,
              "ticks": ""
             }
            },
            "type": "scattercarpet"
           }
          ],
          "scattergeo": [
           {
            "marker": {
             "colorbar": {
              "outlinewidth": 0,
              "ticks": ""
             }
            },
            "type": "scattergeo"
           }
          ],
          "scattergl": [
           {
            "marker": {
             "colorbar": {
              "outlinewidth": 0,
              "ticks": ""
             }
            },
            "type": "scattergl"
           }
          ],
          "scattermapbox": [
           {
            "marker": {
             "colorbar": {
              "outlinewidth": 0,
              "ticks": ""
             }
            },
            "type": "scattermapbox"
           }
          ],
          "scatterpolar": [
           {
            "marker": {
             "colorbar": {
              "outlinewidth": 0,
              "ticks": ""
             }
            },
            "type": "scatterpolar"
           }
          ],
          "scatterpolargl": [
           {
            "marker": {
             "colorbar": {
              "outlinewidth": 0,
              "ticks": ""
             }
            },
            "type": "scatterpolargl"
           }
          ],
          "scatterternary": [
           {
            "marker": {
             "colorbar": {
              "outlinewidth": 0,
              "ticks": ""
             }
            },
            "type": "scatterternary"
           }
          ],
          "surface": [
           {
            "colorbar": {
             "outlinewidth": 0,
             "ticks": ""
            },
            "colorscale": [
             [
              0,
              "#0d0887"
             ],
             [
              0.1111111111111111,
              "#46039f"
             ],
             [
              0.2222222222222222,
              "#7201a8"
             ],
             [
              0.3333333333333333,
              "#9c179e"
             ],
             [
              0.4444444444444444,
              "#bd3786"
             ],
             [
              0.5555555555555556,
              "#d8576b"
             ],
             [
              0.6666666666666666,
              "#ed7953"
             ],
             [
              0.7777777777777778,
              "#fb9f3a"
             ],
             [
              0.8888888888888888,
              "#fdca26"
             ],
             [
              1,
              "#f0f921"
             ]
            ],
            "type": "surface"
           }
          ],
          "table": [
           {
            "cells": {
             "fill": {
              "color": "#EBF0F8"
             },
             "line": {
              "color": "white"
             }
            },
            "header": {
             "fill": {
              "color": "#C8D4E3"
             },
             "line": {
              "color": "white"
             }
            },
            "type": "table"
           }
          ]
         },
         "layout": {
          "annotationdefaults": {
           "arrowcolor": "#2a3f5f",
           "arrowhead": 0,
           "arrowwidth": 1
          },
          "autotypenumbers": "strict",
          "coloraxis": {
           "colorbar": {
            "outlinewidth": 0,
            "ticks": ""
           }
          },
          "colorscale": {
           "diverging": [
            [
             0,
             "#8e0152"
            ],
            [
             0.1,
             "#c51b7d"
            ],
            [
             0.2,
             "#de77ae"
            ],
            [
             0.3,
             "#f1b6da"
            ],
            [
             0.4,
             "#fde0ef"
            ],
            [
             0.5,
             "#f7f7f7"
            ],
            [
             0.6,
             "#e6f5d0"
            ],
            [
             0.7,
             "#b8e186"
            ],
            [
             0.8,
             "#7fbc41"
            ],
            [
             0.9,
             "#4d9221"
            ],
            [
             1,
             "#276419"
            ]
           ],
           "sequential": [
            [
             0,
             "#0d0887"
            ],
            [
             0.1111111111111111,
             "#46039f"
            ],
            [
             0.2222222222222222,
             "#7201a8"
            ],
            [
             0.3333333333333333,
             "#9c179e"
            ],
            [
             0.4444444444444444,
             "#bd3786"
            ],
            [
             0.5555555555555556,
             "#d8576b"
            ],
            [
             0.6666666666666666,
             "#ed7953"
            ],
            [
             0.7777777777777778,
             "#fb9f3a"
            ],
            [
             0.8888888888888888,
             "#fdca26"
            ],
            [
             1,
             "#f0f921"
            ]
           ],
           "sequentialminus": [
            [
             0,
             "#0d0887"
            ],
            [
             0.1111111111111111,
             "#46039f"
            ],
            [
             0.2222222222222222,
             "#7201a8"
            ],
            [
             0.3333333333333333,
             "#9c179e"
            ],
            [
             0.4444444444444444,
             "#bd3786"
            ],
            [
             0.5555555555555556,
             "#d8576b"
            ],
            [
             0.6666666666666666,
             "#ed7953"
            ],
            [
             0.7777777777777778,
             "#fb9f3a"
            ],
            [
             0.8888888888888888,
             "#fdca26"
            ],
            [
             1,
             "#f0f921"
            ]
           ]
          },
          "colorway": [
           "#636efa",
           "#EF553B",
           "#00cc96",
           "#ab63fa",
           "#FFA15A",
           "#19d3f3",
           "#FF6692",
           "#B6E880",
           "#FF97FF",
           "#FECB52"
          ],
          "font": {
           "color": "#2a3f5f"
          },
          "geo": {
           "bgcolor": "white",
           "lakecolor": "white",
           "landcolor": "#E5ECF6",
           "showlakes": true,
           "showland": true,
           "subunitcolor": "white"
          },
          "hoverlabel": {
           "align": "left"
          },
          "hovermode": "closest",
          "mapbox": {
           "style": "light"
          },
          "paper_bgcolor": "white",
          "plot_bgcolor": "#E5ECF6",
          "polar": {
           "angularaxis": {
            "gridcolor": "white",
            "linecolor": "white",
            "ticks": ""
           },
           "bgcolor": "#E5ECF6",
           "radialaxis": {
            "gridcolor": "white",
            "linecolor": "white",
            "ticks": ""
           }
          },
          "scene": {
           "xaxis": {
            "backgroundcolor": "#E5ECF6",
            "gridcolor": "white",
            "gridwidth": 2,
            "linecolor": "white",
            "showbackground": true,
            "ticks": "",
            "zerolinecolor": "white"
           },
           "yaxis": {
            "backgroundcolor": "#E5ECF6",
            "gridcolor": "white",
            "gridwidth": 2,
            "linecolor": "white",
            "showbackground": true,
            "ticks": "",
            "zerolinecolor": "white"
           },
           "zaxis": {
            "backgroundcolor": "#E5ECF6",
            "gridcolor": "white",
            "gridwidth": 2,
            "linecolor": "white",
            "showbackground": true,
            "ticks": "",
            "zerolinecolor": "white"
           }
          },
          "shapedefaults": {
           "line": {
            "color": "#2a3f5f"
           }
          },
          "ternary": {
           "aaxis": {
            "gridcolor": "white",
            "linecolor": "white",
            "ticks": ""
           },
           "baxis": {
            "gridcolor": "white",
            "linecolor": "white",
            "ticks": ""
           },
           "bgcolor": "#E5ECF6",
           "caxis": {
            "gridcolor": "white",
            "linecolor": "white",
            "ticks": ""
           }
          },
          "title": {
           "x": 0.05
          },
          "xaxis": {
           "automargin": true,
           "gridcolor": "white",
           "linecolor": "white",
           "ticks": "",
           "title": {
            "standoff": 15
           },
           "zerolinecolor": "white",
           "zerolinewidth": 2
          },
          "yaxis": {
           "automargin": true,
           "gridcolor": "white",
           "linecolor": "white",
           "ticks": "",
           "title": {
            "standoff": 15
           },
           "zerolinecolor": "white",
           "zerolinewidth": 2
          }
         }
        }
       }
      },
      "text/html": [
       "<div>                            <div id=\"6c0ff614-f997-499b-9ecc-25ce19e704ad\" class=\"plotly-graph-div\" style=\"height:700px; width:100%;\"></div>            <script type=\"text/javascript\">                require([\"plotly\"], function(Plotly) {                    window.PLOTLYENV=window.PLOTLYENV || {};                                    if (document.getElementById(\"6c0ff614-f997-499b-9ecc-25ce19e704ad\")) {                    Plotly.newPlot(                        \"6c0ff614-f997-499b-9ecc-25ce19e704ad\",                        [{\"hoverinfo\":\"none\",\"line\":{\"color\":\"rgba(0,0,0,1.0)\",\"width\":7.0},\"mode\":\"lines\",\"showlegend\":false,\"x\":[0.0,0.0,null,0.649519052838329,0.0,null,0.0,0.0,null,0.5773502691896256,0.8660254037844386,null,0.649519052838329,0.5773502691896256,null,0.649519052838329,0.8660254037844386,null,0.5773502691896256,0.49487165930539356,null,0.49487165930539356,0.0,null,0.0,0.0,null,0.49487165930539356,0.0,null,0.5773502691896256,0.0,null,0.5773502691896256,0.0,null,0.5773502691896256,0.0,null,0.0,0.0,null,0.5773502691896256,0.0,null,0.49487165930539356,0.8660254037844386,null],\"y\":[0.6666666666666669,1.0,null,0.625,1.0,null,0.5714285714285714,0.47058823529411764,null,0.5000000000000001,0.5,null,0.625,0.5000000000000001,null,0.625,0.5,null,0.5000000000000001,0.28571428571428575,null,0.28571428571428575,0.47058823529411764,null,0.47058823529411764,0.0,null,0.28571428571428575,0.0,null,0.5000000000000001,0.47058823529411764,null,0.5000000000000001,0.6666666666666669,null,0.5000000000000001,0.5714285714285714,null,0.6666666666666669,0.5714285714285714,null,0.5000000000000001,1.0,null,0.28571428571428575,0.5,null],\"z\":[-0.5516666666666671,0.0,null,-1.2037125000000022,0.0,null,-0.6431428571428587,-0.6931764705882402,null,-1.74263333333333,0.0,null,-1.2037125000000022,-1.74263333333333,null,-1.2037125000000022,0.0,null,-1.74263333333333,-1.5686857142857147,null,-1.5686857142857147,-0.6931764705882402,null,-0.6931764705882402,0.0,null,-1.5686857142857147,0.0,null,-1.74263333333333,-0.6931764705882402,null,-1.74263333333333,-0.5516666666666671,null,-1.74263333333333,-0.6431428571428587,null,-0.5516666666666671,-0.6431428571428587,null,-1.74263333333333,0.0,null,-1.5686857142857147,0.0,null],\"type\":\"scatter3d\"},{\"hoverinfo\":\"none\",\"line\":{\"color\":\"rgba (0, 0, 0, 0.4)\",\"dash\":\"solid\",\"width\":1.0},\"mode\":\"lines\",\"showlegend\":false,\"x\":[0.8660254037844386,0.0,null,0.8660254037844386,0.0,null,0.8660254037844386,0.0,null,0.8660254037844386,0.0,null,0.0,0.0,null,0.0,0.0,null,0.8660254037844386,0.8660254037844386,null,0.0,0.0,null,0.0,0.0,null],\"y\":[0.5,1.0,null,0.5,1.0,null,0.5,0.0,null,0.5,0.0,null,1.0,0.0,null,1.0,0.0,null,0.5,0.5,null,1.0,1.0,null,0.0,0.0,null],\"z\":[0,0,null,-1.74263333333333,-1.74263333333333,null,0,0,null,-1.74263333333333,-1.74263333333333,null,0,0,null,-1.74263333333333,-1.74263333333333,null,0,-1.74263333333333,null,0,-1.74263333333333,null,0,-1.74263333333333,null],\"type\":\"scatter3d\"},{\"colorbar\":{\"len\":0.75,\"title\":{\"text\":\"Formation energy<br>(eV/atom)\"},\"x\":0.9},\"colorscale\":[[0.0,\"#0c8c00\"],[0.5,\"#d8ffd4\"],[1.0,\"#ffffff\"]],\"flatshading\":true,\"hoverinfo\":\"none\",\"i\":[5,5,5,10,5,5,5,6],\"intensity\":[-1.018966666666665,-1.2037125000000022,-1.3474749999999993,-0.8433000000000019,-0.6039999999999992,-1.74263333333333,-0.5516666666666671,-1.4496117647058833,-1.5686857142857147,-0.6431428571428587,-0.6931764705882402,0.0,0.0,0.0],\"j\":[1,1,8,8,8,6,9,9],\"k\":[12,11,10,13,11,12,10,5],\"lighting\":{\"ambient\":1.0,\"diffuse\":0.0},\"name\":\"Convex Hull (shading)\",\"opacity\":0.8,\"showlegend\":true,\"x\":[0.5773502691896258,0.649519052838329,0.4330127018922194,0.5773502691896258,0.0,0.5773502691896256,0.0,0.611312049730192,0.49487165930539356,0.0,0.0,0.8660254037844386,0.0,0.0],\"y\":[0.6666666666666666,0.625,0.25000000000000006,0.33333333333333337,0.5000000000000002,0.5000000000000001,0.6666666666666669,0.5294117647058822,0.28571428571428575,0.5714285714285714,0.47058823529411764,0.5,1.0,0.0],\"z\":[-1.018966666666665,-1.2037125000000022,-1.3474749999999993,-0.8433000000000019,-0.6039999999999992,-1.74263333333333,-0.5516666666666671,-1.4496117647058833,-1.5686857142857147,-0.6431428571428587,-0.6931764705882402,0.0,0.0,0.0],\"type\":\"mesh3d\"},{\"hoverinfo\":\"skip\",\"mode\":\"text\",\"name\":\"Labels (stable)\",\"opacity\":1.0,\"showlegend\":true,\"text\":[\"CoS<sub>2</sub>\",\"SO<sub>3</sub>\",\"Co<sub>3</sub>S<sub>4</sub>\",\"Co<sub>9</sub>S<sub>8</sub>\",\"CoSO<sub>4</sub>\",\"Co<sub>3</sub>O<sub>4</sub>\"],\"textposition\":[\"middle center\",\"middle center\",\"middle center\",\"middle center\",\"middle center\",\"middle center\"],\"visible\":true,\"x\":[0.01,0.639519052838329,0.01,0.01,0.5673502691896256,0.48487165930539355],\"y\":[0.6766666666666669,0.635,0.5814285714285714,0.46058823529411763,0.5100000000000001,0.27571428571428575],\"z\":[-0.3774033333333341,-1.0294491666666692,-0.4688795238095257,-0.5189131372549072,-1.568369999999997,-1.3944223809523817],\"type\":\"scatter3d\"},{\"hoverinfo\":\"text\",\"hoverlabel\":{\"font\":{\"size\":14}},\"hovertext\":[\"SO<sub>2</sub> (None) <br> -1.019 eV/atom (+0.051 eV/atom)\",\"CoO (None) <br> -1.347 eV/atom (+0.025 eV/atom)\",\"CoO<sub>2</sub> (None) <br> -0.843 eV/atom (+0.377 eV/atom)\",\"CoS (None) <br> -0.604 eV/atom (+0.075 eV/atom)\",\"Co<sub>2</sub>(SO<sub>4</sub>)<sub>3</sub> (None) <br> -1.45 eV/atom (+0.064 eV/atom)\"],\"marker\":{\"color\":[0.051,0.025,0.377,0.075,0.064],\"colorbar\":{\"len\":0.75,\"title\":{\"text\":\"Energy Above Hull<br>(eV/atom)\"},\"x\":0.05},\"colorscale\":[[0.0,\"#fad393\"],[0.5,\"#ff813d\"],[1.0,\"#ff0000\"]],\"size\":6,\"symbol\":\"diamond\"},\"mode\":\"markers\",\"name\":\"Above Hull\",\"showlegend\":true,\"x\":[0.5773502691896258,0.4330127018922194,0.5773502691896258,0.0,0.611312049730192],\"y\":[0.6666666666666666,0.25000000000000006,0.33333333333333337,0.5000000000000002,0.5294117647058822],\"z\":[-1.019,-1.347,-0.843,-0.604,-1.45],\"type\":\"scatter3d\"},{\"error_z\":{\"array\":[0,0,0,0,0,0,0,0,0],\"color\":\"darkgray\",\"thickness\":5,\"type\":\"data\",\"width\":10},\"hoverinfo\":\"text\",\"hoverlabel\":{\"font\":{\"size\":14}},\"hovertext\":[\"CoS<sub>2</sub> (None) <br> -0.552 eV/atom\",\"S (None) <br> 0.0 eV/atom\",\"SO<sub>3</sub> (None) <br> -1.204 eV/atom\",\"Co<sub>3</sub>S<sub>4</sub> (None) <br> -0.643 eV/atom\",\"Co<sub>9</sub>S<sub>8</sub> (None) <br> -0.693 eV/atom\",\"CoSO<sub>4</sub> (None) <br> -1.743 eV/atom\",\"O<sub>2</sub> (None) <br> 0.0 eV/atom\",\"Co<sub>3</sub>O<sub>4</sub> (None) <br> -1.569 eV/atom\",\"Co (None) <br> 0.0 eV/atom\"],\"marker\":{\"color\":\"black\",\"line\":{\"color\":\"black\",\"width\":3},\"opacity\":0.8,\"size\":12},\"mode\":\"markers\",\"name\":\"Stable\",\"showlegend\":true,\"x\":[0.0,0.0,0.649519052838329,0.0,0.0,0.5773502691896256,0.8660254037844386,0.49487165930539356,0.0],\"y\":[0.6666666666666669,1.0,0.625,0.5714285714285714,0.47058823529411764,0.5000000000000001,0.5,0.28571428571428575,0.0],\"z\":[-0.552,0.0,-1.204,-0.643,-0.693,-1.743,0.0,-1.569,0.0],\"type\":\"scatter3d\"}],                        {\"autosize\":true,\"height\":700,\"hovermode\":\"closest\",\"legend\":{\"orientation\":\"h\",\"traceorder\":\"reversed\",\"x\":0.5,\"xanchor\":\"center\",\"y\":0.0,\"yanchor\":\"top\"},\"margin\":{\"b\":10,\"l\":0,\"pad\":0,\"r\":0,\"t\":0},\"paper_bgcolor\":\"rgba(0,0,0,0)\",\"plot_bgcolor\":\"rgba(0,0,0,0)\",\"scene\":{\"annotations\":[{\"align\":\"center\",\"font\":{\"color\":\"#000000\",\"size\":24.0},\"opacity\":1.0,\"showarrow\":false,\"text\":\"S\",\"x\":0.0,\"xanchor\":\"right\",\"xshift\":-10,\"y\":1.0,\"yanchor\":\"auto\",\"yshift\":-10,\"z\":-1.568369999999997},{\"align\":\"center\",\"font\":{\"color\":\"#000000\",\"size\":24.0},\"opacity\":1.0,\"showarrow\":false,\"text\":\"O<sub>2</sub>\",\"x\":0.8660254037844386,\"xanchor\":\"right\",\"xshift\":-10,\"y\":0.5,\"yanchor\":\"auto\",\"yshift\":-10,\"z\":-1.568369999999997},{\"align\":\"center\",\"font\":{\"color\":\"#000000\",\"size\":24.0},\"opacity\":1.0,\"showarrow\":false,\"text\":\"Co\",\"x\":0.0,\"xanchor\":\"right\",\"xshift\":-10,\"y\":0.0,\"yanchor\":\"auto\",\"yshift\":-10,\"z\":-1.568369999999997},{\"opacity\":0,\"text\":\"\",\"x\":1,\"y\":1,\"z\":0}],\"xaxis\":{\"autorange\":true,\"showaxeslabels\":false,\"showgrid\":false,\"showline\":false,\"showspikes\":false,\"showticklabels\":false,\"ticks\":\"\",\"visible\":false,\"zeroline\":false},\"yaxis\":{\"autorange\":true,\"showaxeslabels\":false,\"showgrid\":false,\"showline\":false,\"showspikes\":false,\"showticklabels\":false,\"ticks\":\"\",\"visible\":false,\"zeroline\":false},\"zaxis\":{\"autorange\":true,\"showaxeslabels\":false,\"showgrid\":false,\"showline\":false,\"showspikes\":false,\"showticklabels\":false,\"ticks\":\"\",\"visible\":false,\"zeroline\":false},\"camera\":{\"center\":{\"x\":-0.1,\"y\":0,\"z\":-0.15},\"eye\":{\"x\":-0.1,\"y\":0,\"z\":2.5},\"projection\":{\"type\":\"orthographic\"}},\"aspectratio\":{\"x\":1.7,\"y\":1.7,\"z\":1.2}},\"showlegend\":true,\"template\":{\"data\":{\"bar\":[{\"error_x\":{\"color\":\"#2a3f5f\"},\"error_y\":{\"color\":\"#2a3f5f\"},\"marker\":{\"line\":{\"color\":\"#E5ECF6\",\"width\":0.5},\"pattern\":{\"fillmode\":\"overlay\",\"size\":10,\"solidity\":0.2}},\"type\":\"bar\"}],\"barpolar\":[{\"marker\":{\"line\":{\"color\":\"#E5ECF6\",\"width\":0.5},\"pattern\":{\"fillmode\":\"overlay\",\"size\":10,\"solidity\":0.2}},\"type\":\"barpolar\"}],\"carpet\":[{\"aaxis\":{\"endlinecolor\":\"#2a3f5f\",\"gridcolor\":\"white\",\"linecolor\":\"white\",\"minorgridcolor\":\"white\",\"startlinecolor\":\"#2a3f5f\"},\"baxis\":{\"endlinecolor\":\"#2a3f5f\",\"gridcolor\":\"white\",\"linecolor\":\"white\",\"minorgridcolor\":\"white\",\"startlinecolor\":\"#2a3f5f\"},\"type\":\"carpet\"}],\"choropleth\":[{\"colorbar\":{\"outlinewidth\":0,\"ticks\":\"\"},\"type\":\"choropleth\"}],\"contour\":[{\"colorbar\":{\"outlinewidth\":0,\"ticks\":\"\"},\"colorscale\":[[0.0,\"#0d0887\"],[0.1111111111111111,\"#46039f\"],[0.2222222222222222,\"#7201a8\"],[0.3333333333333333,\"#9c179e\"],[0.4444444444444444,\"#bd3786\"],[0.5555555555555556,\"#d8576b\"],[0.6666666666666666,\"#ed7953\"],[0.7777777777777778,\"#fb9f3a\"],[0.8888888888888888,\"#fdca26\"],[1.0,\"#f0f921\"]],\"type\":\"contour\"}],\"contourcarpet\":[{\"colorbar\":{\"outlinewidth\":0,\"ticks\":\"\"},\"type\":\"contourcarpet\"}],\"heatmap\":[{\"colorbar\":{\"outlinewidth\":0,\"ticks\":\"\"},\"colorscale\":[[0.0,\"#0d0887\"],[0.1111111111111111,\"#46039f\"],[0.2222222222222222,\"#7201a8\"],[0.3333333333333333,\"#9c179e\"],[0.4444444444444444,\"#bd3786\"],[0.5555555555555556,\"#d8576b\"],[0.6666666666666666,\"#ed7953\"],[0.7777777777777778,\"#fb9f3a\"],[0.8888888888888888,\"#fdca26\"],[1.0,\"#f0f921\"]],\"type\":\"heatmap\"}],\"heatmapgl\":[{\"colorbar\":{\"outlinewidth\":0,\"ticks\":\"\"},\"colorscale\":[[0.0,\"#0d0887\"],[0.1111111111111111,\"#46039f\"],[0.2222222222222222,\"#7201a8\"],[0.3333333333333333,\"#9c179e\"],[0.4444444444444444,\"#bd3786\"],[0.5555555555555556,\"#d8576b\"],[0.6666666666666666,\"#ed7953\"],[0.7777777777777778,\"#fb9f3a\"],[0.8888888888888888,\"#fdca26\"],[1.0,\"#f0f921\"]],\"type\":\"heatmapgl\"}],\"histogram\":[{\"marker\":{\"pattern\":{\"fillmode\":\"overlay\",\"size\":10,\"solidity\":0.2}},\"type\":\"histogram\"}],\"histogram2d\":[{\"colorbar\":{\"outlinewidth\":0,\"ticks\":\"\"},\"colorscale\":[[0.0,\"#0d0887\"],[0.1111111111111111,\"#46039f\"],[0.2222222222222222,\"#7201a8\"],[0.3333333333333333,\"#9c179e\"],[0.4444444444444444,\"#bd3786\"],[0.5555555555555556,\"#d8576b\"],[0.6666666666666666,\"#ed7953\"],[0.7777777777777778,\"#fb9f3a\"],[0.8888888888888888,\"#fdca26\"],[1.0,\"#f0f921\"]],\"type\":\"histogram2d\"}],\"histogram2dcontour\":[{\"colorbar\":{\"outlinewidth\":0,\"ticks\":\"\"},\"colorscale\":[[0.0,\"#0d0887\"],[0.1111111111111111,\"#46039f\"],[0.2222222222222222,\"#7201a8\"],[0.3333333333333333,\"#9c179e\"],[0.4444444444444444,\"#bd3786\"],[0.5555555555555556,\"#d8576b\"],[0.6666666666666666,\"#ed7953\"],[0.7777777777777778,\"#fb9f3a\"],[0.8888888888888888,\"#fdca26\"],[1.0,\"#f0f921\"]],\"type\":\"histogram2dcontour\"}],\"mesh3d\":[{\"colorbar\":{\"outlinewidth\":0,\"ticks\":\"\"},\"type\":\"mesh3d\"}],\"parcoords\":[{\"line\":{\"colorbar\":{\"outlinewidth\":0,\"ticks\":\"\"}},\"type\":\"parcoords\"}],\"pie\":[{\"automargin\":true,\"type\":\"pie\"}],\"scatter\":[{\"marker\":{\"colorbar\":{\"outlinewidth\":0,\"ticks\":\"\"}},\"type\":\"scatter\"}],\"scatter3d\":[{\"line\":{\"colorbar\":{\"outlinewidth\":0,\"ticks\":\"\"}},\"marker\":{\"colorbar\":{\"outlinewidth\":0,\"ticks\":\"\"}},\"type\":\"scatter3d\"}],\"scattercarpet\":[{\"marker\":{\"colorbar\":{\"outlinewidth\":0,\"ticks\":\"\"}},\"type\":\"scattercarpet\"}],\"scattergeo\":[{\"marker\":{\"colorbar\":{\"outlinewidth\":0,\"ticks\":\"\"}},\"type\":\"scattergeo\"}],\"scattergl\":[{\"marker\":{\"colorbar\":{\"outlinewidth\":0,\"ticks\":\"\"}},\"type\":\"scattergl\"}],\"scattermapbox\":[{\"marker\":{\"colorbar\":{\"outlinewidth\":0,\"ticks\":\"\"}},\"type\":\"scattermapbox\"}],\"scatterpolar\":[{\"marker\":{\"colorbar\":{\"outlinewidth\":0,\"ticks\":\"\"}},\"type\":\"scatterpolar\"}],\"scatterpolargl\":[{\"marker\":{\"colorbar\":{\"outlinewidth\":0,\"ticks\":\"\"}},\"type\":\"scatterpolargl\"}],\"scatterternary\":[{\"marker\":{\"colorbar\":{\"outlinewidth\":0,\"ticks\":\"\"}},\"type\":\"scatterternary\"}],\"surface\":[{\"colorbar\":{\"outlinewidth\":0,\"ticks\":\"\"},\"colorscale\":[[0.0,\"#0d0887\"],[0.1111111111111111,\"#46039f\"],[0.2222222222222222,\"#7201a8\"],[0.3333333333333333,\"#9c179e\"],[0.4444444444444444,\"#bd3786\"],[0.5555555555555556,\"#d8576b\"],[0.6666666666666666,\"#ed7953\"],[0.7777777777777778,\"#fb9f3a\"],[0.8888888888888888,\"#fdca26\"],[1.0,\"#f0f921\"]],\"type\":\"surface\"}],\"table\":[{\"cells\":{\"fill\":{\"color\":\"#EBF0F8\"},\"line\":{\"color\":\"white\"}},\"header\":{\"fill\":{\"color\":\"#C8D4E3\"},\"line\":{\"color\":\"white\"}},\"type\":\"table\"}]},\"layout\":{\"annotationdefaults\":{\"arrowcolor\":\"#2a3f5f\",\"arrowhead\":0,\"arrowwidth\":1},\"autotypenumbers\":\"strict\",\"coloraxis\":{\"colorbar\":{\"outlinewidth\":0,\"ticks\":\"\"}},\"colorscale\":{\"diverging\":[[0,\"#8e0152\"],[0.1,\"#c51b7d\"],[0.2,\"#de77ae\"],[0.3,\"#f1b6da\"],[0.4,\"#fde0ef\"],[0.5,\"#f7f7f7\"],[0.6,\"#e6f5d0\"],[0.7,\"#b8e186\"],[0.8,\"#7fbc41\"],[0.9,\"#4d9221\"],[1,\"#276419\"]],\"sequential\":[[0.0,\"#0d0887\"],[0.1111111111111111,\"#46039f\"],[0.2222222222222222,\"#7201a8\"],[0.3333333333333333,\"#9c179e\"],[0.4444444444444444,\"#bd3786\"],[0.5555555555555556,\"#d8576b\"],[0.6666666666666666,\"#ed7953\"],[0.7777777777777778,\"#fb9f3a\"],[0.8888888888888888,\"#fdca26\"],[1.0,\"#f0f921\"]],\"sequentialminus\":[[0.0,\"#0d0887\"],[0.1111111111111111,\"#46039f\"],[0.2222222222222222,\"#7201a8\"],[0.3333333333333333,\"#9c179e\"],[0.4444444444444444,\"#bd3786\"],[0.5555555555555556,\"#d8576b\"],[0.6666666666666666,\"#ed7953\"],[0.7777777777777778,\"#fb9f3a\"],[0.8888888888888888,\"#fdca26\"],[1.0,\"#f0f921\"]]},\"colorway\":[\"#636efa\",\"#EF553B\",\"#00cc96\",\"#ab63fa\",\"#FFA15A\",\"#19d3f3\",\"#FF6692\",\"#B6E880\",\"#FF97FF\",\"#FECB52\"],\"font\":{\"color\":\"#2a3f5f\"},\"geo\":{\"bgcolor\":\"white\",\"lakecolor\":\"white\",\"landcolor\":\"#E5ECF6\",\"showlakes\":true,\"showland\":true,\"subunitcolor\":\"white\"},\"hoverlabel\":{\"align\":\"left\"},\"hovermode\":\"closest\",\"mapbox\":{\"style\":\"light\"},\"paper_bgcolor\":\"white\",\"plot_bgcolor\":\"#E5ECF6\",\"polar\":{\"angularaxis\":{\"gridcolor\":\"white\",\"linecolor\":\"white\",\"ticks\":\"\"},\"bgcolor\":\"#E5ECF6\",\"radialaxis\":{\"gridcolor\":\"white\",\"linecolor\":\"white\",\"ticks\":\"\"}},\"scene\":{\"xaxis\":{\"backgroundcolor\":\"#E5ECF6\",\"gridcolor\":\"white\",\"gridwidth\":2,\"linecolor\":\"white\",\"showbackground\":true,\"ticks\":\"\",\"zerolinecolor\":\"white\"},\"yaxis\":{\"backgroundcolor\":\"#E5ECF6\",\"gridcolor\":\"white\",\"gridwidth\":2,\"linecolor\":\"white\",\"showbackground\":true,\"ticks\":\"\",\"zerolinecolor\":\"white\"},\"zaxis\":{\"backgroundcolor\":\"#E5ECF6\",\"gridcolor\":\"white\",\"gridwidth\":2,\"linecolor\":\"white\",\"showbackground\":true,\"ticks\":\"\",\"zerolinecolor\":\"white\"}},\"shapedefaults\":{\"line\":{\"color\":\"#2a3f5f\"}},\"ternary\":{\"aaxis\":{\"gridcolor\":\"white\",\"linecolor\":\"white\",\"ticks\":\"\"},\"baxis\":{\"gridcolor\":\"white\",\"linecolor\":\"white\",\"ticks\":\"\"},\"bgcolor\":\"#E5ECF6\",\"caxis\":{\"gridcolor\":\"white\",\"linecolor\":\"white\",\"ticks\":\"\"}},\"title\":{\"x\":0.05},\"xaxis\":{\"automargin\":true,\"gridcolor\":\"white\",\"linecolor\":\"white\",\"ticks\":\"\",\"title\":{\"standoff\":15},\"zerolinecolor\":\"white\",\"zerolinewidth\":2},\"yaxis\":{\"automargin\":true,\"gridcolor\":\"white\",\"linecolor\":\"white\",\"ticks\":\"\",\"title\":{\"standoff\":15},\"zerolinecolor\":\"white\",\"zerolinewidth\":2}}}},                        {\"responsive\": true}                    ).then(function(){\n",
       "                            \n",
       "var gd = document.getElementById('6c0ff614-f997-499b-9ecc-25ce19e704ad');\n",
       "var x = new MutationObserver(function (mutations, observer) {{\n",
       "        var display = window.getComputedStyle(gd).display;\n",
       "        if (!display || display === 'none') {{\n",
       "            console.log([gd, 'removed!']);\n",
       "            Plotly.purge(gd);\n",
       "            observer.disconnect();\n",
       "        }}\n",
       "}});\n",
       "\n",
       "// Listen for the removal of the full notebook cells\n",
       "var notebookContainer = gd.closest('#notebook-container');\n",
       "if (notebookContainer) {{\n",
       "    x.observe(notebookContainer, {childList: true});\n",
       "}}\n",
       "\n",
       "// Listen for the clearing of the current output cell\n",
       "var outputEl = gd.closest('.output');\n",
       "if (outputEl) {{\n",
       "    x.observe(outputEl, {childList: true});\n",
       "}}\n",
       "\n",
       "                        })                };                });            </script>        </div>"
      ]
     },
     "metadata": {},
     "output_type": "display_data"
    }
   ],
   "source": [
    "phase_diagram_4 = CompoundPhaseDiagram(entries,[Composition(\"Co\"),\n",
    "                                                Composition(\"S\"),\n",
    "                                                Composition(\"O2\")])\n",
    "#CompoundPhaseDiagram:-Generates phase diagrams from compounds as terminations instead of elements\n",
    "\n",
    "\n",
    "#get_plot and show:- Draw the phase diagram using Plotly (or Matplotlib) and show it.\n",
    "\n",
    "compound_plotter_4 = PDPlotter(phase_diagram_4, show_unstable=True, markerize=20)\n",
    "z = compound_plotter_4.get_plot(phase_diagram_4, label_unstable=True)\n",
    "z.show()"
   ]
  },
  {
   "cell_type": "code",
   "execution_count": null,
   "id": "1528ec44",
   "metadata": {},
   "outputs": [],
   "source": []
  },
  {
   "cell_type": "code",
   "execution_count": null,
   "id": "f406c678",
   "metadata": {},
   "outputs": [],
   "source": []
  }
 ],
 "metadata": {
  "kernelspec": {
   "display_name": "Python 3 (ipykernel)",
   "language": "python",
   "name": "python3"
  },
  "language_info": {
   "codemirror_mode": {
    "name": "ipython",
    "version": 3
   },
   "file_extension": ".py",
   "mimetype": "text/x-python",
   "name": "python",
   "nbconvert_exporter": "python",
   "pygments_lexer": "ipython3",
   "version": "3.10.9"
  }
 },
 "nbformat": 4,
 "nbformat_minor": 5
}
