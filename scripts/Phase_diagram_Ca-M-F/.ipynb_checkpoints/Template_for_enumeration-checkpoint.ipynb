{
 "cells": [
  {
   "cell_type": "code",
   "execution_count": 1,
   "id": "0b598ff8",
   "metadata": {},
   "outputs": [],
   "source": [
    "from pymatgen.core import Structure, Element\n",
    "import os\n",
    "from pymatgen.transformations.standard_transformations import OrderDisorderedStructureTransformation\n",
    "from pymatgen.transformations.standard_transformations import OxidationStateDecorationTransformation\n",
    "from pymatgen.transformations.standard_transformations import SubstitutionTransformation, AutoOxiStateDecorationTransformation\n",
    "from pymatgen.core import Structure\n",
    "from pymatgen.transformations.site_transformations import ReplaceSiteSpeciesTransformation\n",
    "os.chdir('.')\n",
    "#structure1 = Structure.from_file('2017971.cif')\n",
    "#print(structure1)"
   ]
  },
  {
   "cell_type": "code",
   "execution_count": 2,
   "id": "62189bbe",
   "metadata": {},
   "outputs": [],
   "source": [
    "structure = Structure.from_file('CONTCAR')"
   ]
  },
  {
   "cell_type": "code",
   "execution_count": 3,
   "id": "7675ffc7",
   "metadata": {},
   "outputs": [
    {
     "name": "stdout",
     "output_type": "stream",
     "text": [
      "Full Formula (Sn4)\n",
      "Reduced Formula: Sn\n",
      "abc   :   5.937312   5.937311   3.230880\n",
      "angles:  89.999999  89.999997  90.000001\n",
      "pbc   :       True       True       True\n",
      "Sites (4)\n",
      "  #  SP      a    b     c\n",
      "---  ----  ---  ---  ----\n",
      "  0  Sn    0    0    1\n",
      "  1  Sn    0.5  0.5  0.5\n",
      "  2  Sn    0    0.5  0.25\n",
      "  3  Sn    0.5  1    0.75\n"
     ]
    }
   ],
   "source": [
    "s1 = structure.copy()\n",
    "print(s1)"
   ]
  },
  {
   "cell_type": "code",
   "execution_count": 4,
   "id": "588880f8",
   "metadata": {},
   "outputs": [
    {
     "name": "stdout",
     "output_type": "stream",
     "text": [
      "Full Formula (Sn2)\n",
      "Reduced Formula: Sn\n",
      "abc   :   3.230880   4.498386   4.498386\n",
      "angles:  82.590269  68.954116  68.954114\n",
      "pbc   :       True       True       True\n",
      "Sites (2)\n",
      "  #  SP       a    b    c\n",
      "---  ----  ----  ---  ---\n",
      "  0  Sn    0     0    0\n",
      "  1  Sn    0.75  0.5  0.5\n"
     ]
    }
   ],
   "source": [
    "s2 = s1.get_primitive_structure()\n",
    "print(s2)"
   ]
  },
  {
   "cell_type": "code",
   "execution_count": 5,
   "id": "c0c81b60",
   "metadata": {},
   "outputs": [
    {
     "name": "stdout",
     "output_type": "stream",
     "text": [
      "Full Formula (Sn16)\n",
      "Reduced Formula: Sn\n",
      "abc   :   6.461760   8.996773   8.996773\n",
      "angles:  82.590269  68.954116  68.954114\n",
      "pbc   :       True       True       True\n",
      "Sites (16)\n",
      "  #  SP        a     b     c\n",
      "---  ----  -----  ----  ----\n",
      "  0  Sn    0      0     0\n",
      "  1  Sn    0      0     0.5\n",
      "  2  Sn    0      0.5   0\n",
      "  3  Sn    0      0.5   0.5\n",
      "  4  Sn    0.5    0     0\n",
      "  5  Sn    0.5    0     0.5\n",
      "  6  Sn    0.5    0.5   0\n",
      "  7  Sn    0.5    0.5   0.5\n",
      "  8  Sn    0.375  0.25  0.25\n",
      "  9  Sn    0.375  0.25  0.75\n",
      " 10  Sn    0.375  0.75  0.25\n",
      " 11  Sn    0.375  0.75  0.75\n",
      " 12  Sn    0.875  0.25  0.25\n",
      " 13  Sn    0.875  0.25  0.75\n",
      " 14  Sn    0.875  0.75  0.25\n",
      " 15  Sn    0.875  0.75  0.75\n"
     ]
    }
   ],
   "source": [
    "s2.make_supercell([[2,0,0],[0,2,0],[0,0,2]])\n",
    "print(s2)"
   ]
  },
  {
   "cell_type": "code",
   "execution_count": 6,
   "id": "d4c76226",
   "metadata": {},
   "outputs": [
    {
     "name": "stdout",
     "output_type": "stream",
     "text": [
      "Full Formula (Na8 Sn8)\n",
      "Reduced Formula: NaSn\n",
      "abc   :   6.461760   8.996773   8.996773\n",
      "angles:  82.590269  68.954116  68.954114\n",
      "pbc   :       True       True       True\n",
      "Sites (16)\n",
      "  #  SP                      a     b     c\n",
      "---  ------------------  -----  ----  ----\n",
      "  0  Na:0.500, Sn:0.500  0      0     0\n",
      "  1  Na:0.500, Sn:0.500  0      0     0.5\n",
      "  2  Na:0.500, Sn:0.500  0      0.5   0\n",
      "  3  Na:0.500, Sn:0.500  0      0.5   0.5\n",
      "  4  Na:0.500, Sn:0.500  0.5    0     0\n",
      "  5  Na:0.500, Sn:0.500  0.5    0     0.5\n",
      "  6  Na:0.500, Sn:0.500  0.5    0.5   0\n",
      "  7  Na:0.500, Sn:0.500  0.5    0.5   0.5\n",
      "  8  Na:0.500, Sn:0.500  0.375  0.25  0.25\n",
      "  9  Na:0.500, Sn:0.500  0.375  0.25  0.75\n",
      " 10  Na:0.500, Sn:0.500  0.375  0.75  0.25\n",
      " 11  Na:0.500, Sn:0.500  0.375  0.75  0.75\n",
      " 12  Na:0.500, Sn:0.500  0.875  0.25  0.25\n",
      " 13  Na:0.500, Sn:0.500  0.875  0.25  0.75\n",
      " 14  Na:0.500, Sn:0.500  0.875  0.75  0.25\n",
      " 15  Na:0.500, Sn:0.500  0.875  0.75  0.75\n"
     ]
    }
   ],
   "source": [
    "#replace = ReplaceSiteSpeciesTransformation({1:'Na+'})\n",
    "trans0 = SubstitutionTransformation({\"Sn\":{'Na':float(8/16), 'Sn':float(8/16)}})\n",
    "s3 = trans0.apply_transformation(s2)\n",
    "#s2 = replace.apply_transformation(s1)\n",
    "s4 = s3.copy()\n",
    "print(s4)\n",
    "#s5.to(fmt='poscar', filename=\"file\"+\".vasp\")"
   ]
  },
  {
   "cell_type": "code",
   "execution_count": 8,
   "id": "dc2738a9",
   "metadata": {},
   "outputs": [
    {
     "name": "stdout",
     "output_type": "stream",
     "text": [
      "Full Formula (Na8 Sn8)\n",
      "Reduced Formula: NaSn\n",
      "abc   :   6.461760   8.996773   8.996773\n",
      "angles:  82.590269  68.954116  68.954114\n",
      "pbc   :       True       True       True\n",
      "Sites (16)\n",
      "  #  SP                          a     b     c\n",
      "---  ----------------------  -----  ----  ----\n",
      "  0  Na0+:0.500, Sn0+:0.500  0      0     0\n",
      "  1  Na0+:0.500, Sn0+:0.500  0      0     0.5\n",
      "  2  Na0+:0.500, Sn0+:0.500  0      0.5   0\n",
      "  3  Na0+:0.500, Sn0+:0.500  0      0.5   0.5\n",
      "  4  Na0+:0.500, Sn0+:0.500  0.5    0     0\n",
      "  5  Na0+:0.500, Sn0+:0.500  0.5    0     0.5\n",
      "  6  Na0+:0.500, Sn0+:0.500  0.5    0.5   0\n",
      "  7  Na0+:0.500, Sn0+:0.500  0.5    0.5   0.5\n",
      "  8  Na0+:0.500, Sn0+:0.500  0.375  0.25  0.25\n",
      "  9  Na0+:0.500, Sn0+:0.500  0.375  0.25  0.75\n",
      " 10  Na0+:0.500, Sn0+:0.500  0.375  0.75  0.25\n",
      " 11  Na0+:0.500, Sn0+:0.500  0.375  0.75  0.75\n",
      " 12  Na0+:0.500, Sn0+:0.500  0.875  0.25  0.25\n",
      " 13  Na0+:0.500, Sn0+:0.500  0.875  0.25  0.75\n",
      " 14  Na0+:0.500, Sn0+:0.500  0.875  0.75  0.25\n",
      " 15  Na0+:0.500, Sn0+:0.500  0.875  0.75  0.75\n"
     ]
    }
   ],
   "source": [
    "oxi = OxidationStateDecorationTransformation({\"Sn\":0, \"Na\":0})\n",
    "s5 = oxi.apply_transformation(s4)    \n",
    "s6 = s5.copy()\n",
    "print(s6)"
   ]
  },
  {
   "cell_type": "code",
   "execution_count": 9,
   "id": "9c777d30",
   "metadata": {},
   "outputs": [],
   "source": [
    "from pymatgen.alchemy.transmuters import StandardTransmuter\n",
    "trans = OrderDisorderedStructureTransformation()\n",
    "transmuter = StandardTransmuter.from_structures([s5],transformations=[trans], extend_collection=2500)"
   ]
  },
  {
   "cell_type": "code",
   "execution_count": 10,
   "id": "9d491796",
   "metadata": {},
   "outputs": [
    {
     "name": "stdout",
     "output_type": "stream",
     "text": [
      "2500\n"
     ]
    }
   ],
   "source": [
    "print(len(transmuter))"
   ]
  },
  {
   "cell_type": "code",
   "execution_count": 11,
   "id": "acbcc409",
   "metadata": {},
   "outputs": [],
   "source": [
    "from pymatgen.alchemy.filters import RemoveDuplicatesFilter\n",
    "fil = RemoveDuplicatesFilter(symprec=1e-5)\n",
    "transmuter.apply_filter(fil)"
   ]
  },
  {
   "cell_type": "code",
   "execution_count": 12,
   "id": "e9e6d48b",
   "metadata": {},
   "outputs": [
    {
     "name": "stdout",
     "output_type": "stream",
     "text": [
      "125\n"
     ]
    }
   ],
   "source": [
    "print(len(transmuter))"
   ]
  },
  {
   "cell_type": "code",
   "execution_count": null,
   "id": "5c5a9fea",
   "metadata": {},
   "outputs": [],
   "source": [
    "#from pymatgen.io.vasp.sets import MPRelaxSet\n",
    "#from pymatgen.io.vasp.inputs import Kpoints\n",
    "#import os\n",
    "#os.chdir('/home/smart/dereje/Document')\n",
    "#kpoints = Kpoints.automatic(32)\n",
    "#transmuter.write_vasp_input(vasp_input_set=MPRelaxSet,user_kpoints_settings=kpoints)"
   ]
  },
  {
   "cell_type": "code",
   "execution_count": 13,
   "id": "26ae25ac",
   "metadata": {},
   "outputs": [
    {
     "name": "stderr",
     "output_type": "stream",
     "text": [
      "/home/javed/anaconda3/lib/python3.9/site-packages/pymatgen/core/structure.py:519: UserWarning: Some species to be substituted are not present in structure. Pls check your input. Species to be substituted = {Species O5+}; Species in structure = {Species Na0+, Species Sn0+}\n",
      "  warnings.warn(\n"
     ]
    }
   ],
   "source": [
    "from pymatgen.core.periodic_table import Species\n",
    "for i in range(0,len(transmuter)):\n",
    "    s = transmuter.transformed_structures[i]\n",
    "    s.replace_species({Species(\"O\",+5):Species(\"P\",+5)})\n",
    "    s.to(fmt='poscar', filename=\"./\"+str(i)+\".vasp\")"
   ]
  },
  {
   "cell_type": "code",
   "execution_count": null,
   "id": "fb18c50d",
   "metadata": {},
   "outputs": [],
   "source": []
  }
 ],
 "metadata": {
  "kernelspec": {
   "display_name": "Python 3 (ipykernel)",
   "language": "python",
   "name": "python3"
  },
  "language_info": {
   "codemirror_mode": {
    "name": "ipython",
    "version": 3
   },
   "file_extension": ".py",
   "mimetype": "text/x-python",
   "name": "python",
   "nbconvert_exporter": "python",
   "pygments_lexer": "ipython3",
   "version": "3.9.7"
  }
 },
 "nbformat": 4,
 "nbformat_minor": 5
}
