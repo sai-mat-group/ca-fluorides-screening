{
 "cells": [
  {
   "cell_type": "code",
   "execution_count": 1,
   "id": "extensive-syntax",
   "metadata": {},
   "outputs": [],
   "source": [
    "from pymatgen.core import Structure\n",
    "from pymatgen.transformations.standard_transformations import OrderDisorderedStructureTransformation\n",
    "from pymatgen.transformations.standard_transformations import OxidationStateDecorationTransformation\n",
    "from pymatgen.transformations.standard_transformations import SubstitutionTransformation, AutoOxiStateDecorationTransformation\n",
    "from pymatgen.transformations.standard_transformations import OrderDisorderedStructureTransformation\n",
    "from pymatgen.transformations.standard_transformations import SubstitutionTransformation, AutoOxiStateDecorationTransformation\n",
    "import os\n",
    "os.chdir('./')"
   ]
  },
  {
   "cell_type": "code",
   "execution_count": 3,
   "id": "compressed-clinic",
   "metadata": {},
   "outputs": [],
   "source": [
    "structure = Structure.from_file('NaFeF3-Pnma.cif')"
   ]
  },
  {
   "cell_type": "code",
   "execution_count": 4,
   "id": "corporate-controversy",
   "metadata": {},
   "outputs": [
    {
     "name": "stdout",
     "output_type": "stream",
     "text": [
      "Full Formula (Na4 Fe4 F12)\n",
      "Reduced Formula: NaFeF3\n",
      "abc   :   5.657500   7.875400   5.483300\n",
      "angles:  90.000000  90.000000  90.000000\n",
      "Sites (20)\n",
      "  #  SP         a       b       c\n",
      "---  ----  ------  ------  ------\n",
      "  0  Na+   0.5543  0.25    0.5135\n",
      "  1  Na+   0.0543  0.25    0.9865\n",
      "  2  Na+   0.4457  0.75    0.4865\n",
      "  3  Na+   0.9457  0.75    0.0135\n",
      "  4  Fe2+  0       0       0.5\n",
      "  5  Fe2+  0.5     0.5     0\n",
      "  6  Fe2+  0       0.5     0.5\n",
      "  7  Fe2+  0.5     0       0\n",
      "  8  F-    0.9559  0.25    0.3913\n",
      "  9  F-    0.4559  0.25    0.1087\n",
      " 10  F-    0.0441  0.75    0.6087\n",
      " 11  F-    0.5441  0.75    0.8913\n",
      " 12  F-    0.8011  0.0566  0.808\n",
      " 13  F-    0.3011  0.4434  0.692\n",
      " 14  F-    0.1989  0.5566  0.192\n",
      " 15  F-    0.6989  0.9434  0.308\n",
      " 16  F-    0.1989  0.9434  0.192\n",
      " 17  F-    0.6989  0.5566  0.308\n",
      " 18  F-    0.8011  0.4434  0.808\n",
      " 19  F-    0.3011  0.0566  0.692\n"
     ]
    }
   ],
   "source": [
    "s2 = structure.copy()\n",
    "\n",
    "print(s2)"
   ]
  },
  {
   "cell_type": "code",
   "execution_count": 5,
   "id": "cd4ebcf1",
   "metadata": {},
   "outputs": [
    {
     "name": "stdout",
     "output_type": "stream",
     "text": [
      "Full Formula (Ca4 Fe4 F12)\n",
      "Reduced Formula: CaFeF3\n",
      "abc   :   5.657500   7.875400   5.483300\n",
      "angles:  90.000000  90.000000  90.000000\n",
      "Sites (20)\n",
      "  #  SP         a       b       c\n",
      "---  ----  ------  ------  ------\n",
      "  0  Ca2+  0.5543  0.25    0.5135\n",
      "  1  Ca2+  0.0543  0.25    0.9865\n",
      "  2  Ca2+  0.4457  0.75    0.4865\n",
      "  3  Ca2+  0.9457  0.75    0.0135\n",
      "  4  Fe2+  0       0       0.5\n",
      "  5  Fe2+  0.5     0.5     0\n",
      "  6  Fe2+  0       0.5     0.5\n",
      "  7  Fe2+  0.5     0       0\n",
      "  8  F-    0.9559  0.25    0.3913\n",
      "  9  F-    0.4559  0.25    0.1087\n",
      " 10  F-    0.0441  0.75    0.6087\n",
      " 11  F-    0.5441  0.75    0.8913\n",
      " 12  F-    0.8011  0.0566  0.808\n",
      " 13  F-    0.3011  0.4434  0.692\n",
      " 14  F-    0.1989  0.5566  0.192\n",
      " 15  F-    0.6989  0.9434  0.308\n",
      " 16  F-    0.1989  0.9434  0.192\n",
      " 17  F-    0.6989  0.5566  0.308\n",
      " 18  F-    0.8011  0.4434  0.808\n",
      " 19  F-    0.3011  0.0566  0.692\n"
     ]
    }
   ],
   "source": [
    "s2.replace_species({('Na+'):('Ca2+')})\n",
    "s3 = s2.copy()\n",
    "print(s3)\n"
   ]
  },
  {
   "cell_type": "code",
   "execution_count": 7,
   "id": "b26a4b20",
   "metadata": {},
   "outputs": [],
   "source": [
    "from pymatgen.analysis.structure_prediction.volume_predictor import RLSVolumePredictor\n",
    "p = RLSVolumePredictor(radii_type=\"atomic\")\n",
    "s4= p.get_predicted_structure(s3,structure)"
   ]
  },
  {
   "cell_type": "code",
   "execution_count": 8,
   "id": "fcb2fee0",
   "metadata": {},
   "outputs": [
    {
     "name": "stdout",
     "output_type": "stream",
     "text": [
      "Full Formula (Ca2 Fe4 F12)\n",
      "Reduced Formula: CaFe2F6\n",
      "abc   :   5.657500   7.875400   5.483300\n",
      "angles:  90.000000  90.000000  90.000000\n",
      "Sites (20)\n",
      "  #  SP               a       b       c\n",
      "---  ----------  ------  ------  ------\n",
      "  0  Ca2+:0.500  0.5543  0.25    0.5135\n",
      "  1  Ca2+:0.500  0.0543  0.25    0.9865\n",
      "  2  Ca2+:0.500  0.4457  0.75    0.4865\n",
      "  3  Ca2+:0.500  0.9457  0.75    0.0135\n",
      "  4  Fe2+        0       0       0.5\n",
      "  5  Fe2+        0.5     0.5     0\n",
      "  6  Fe2+        0       0.5     0.5\n",
      "  7  Fe2+        0.5     0       0\n",
      "  8  F-          0.9559  0.25    0.3913\n",
      "  9  F-          0.4559  0.25    0.1087\n",
      " 10  F-          0.0441  0.75    0.6087\n",
      " 11  F-          0.5441  0.75    0.8913\n",
      " 12  F-          0.8011  0.0566  0.808\n",
      " 13  F-          0.3011  0.4434  0.692\n",
      " 14  F-          0.1989  0.5566  0.192\n",
      " 15  F-          0.6989  0.9434  0.308\n",
      " 16  F-          0.1989  0.9434  0.192\n",
      " 17  F-          0.6989  0.5566  0.308\n",
      " 18  F-          0.8011  0.4434  0.808\n",
      " 19  F-          0.3011  0.0566  0.692\n"
     ]
    }
   ],
   "source": [
    "trans0 = SubstitutionTransformation({'Ca2+':{'Ca2+':0.5}})\n",
    "s5 = trans0.apply_transformation(s4)\n",
    "s6 = s5.copy()\n",
    "print(s6)\n"
   ]
  },
  {
   "cell_type": "code",
   "execution_count": 9,
   "id": "ef3efd0a",
   "metadata": {},
   "outputs": [],
   "source": [
    "from pymatgen.alchemy.transmuters import StandardTransmuter\n",
    "trans = OrderDisorderedStructureTransformation()\n",
    "transmuter = StandardTransmuter.from_structures([s6], transformations=[trans], extend_collection=10000)"
   ]
  },
  {
   "cell_type": "code",
   "execution_count": 10,
   "id": "0a153cdd",
   "metadata": {},
   "outputs": [
    {
     "name": "stdout",
     "output_type": "stream",
     "text": [
      "6\n"
     ]
    }
   ],
   "source": [
    "print(len(transmuter))"
   ]
  },
  {
   "cell_type": "code",
   "execution_count": 11,
   "id": "c9afb9ea",
   "metadata": {},
   "outputs": [],
   "source": [
    "from pymatgen.alchemy.filters import RemoveDuplicatesFilter\n",
    "fil = RemoveDuplicatesFilter(symprec=1e-5)\n",
    "transmuter.apply_filter(fil)"
   ]
  },
  {
   "cell_type": "code",
   "execution_count": 12,
   "id": "6ea0c7e9",
   "metadata": {},
   "outputs": [
    {
     "name": "stdout",
     "output_type": "stream",
     "text": [
      "3\n"
     ]
    }
   ],
   "source": [
    "print(len(transmuter))"
   ]
  },
  {
   "cell_type": "code",
   "execution_count": 13,
   "id": "38e31f6d",
   "metadata": {},
   "outputs": [],
   "source": [
    "for i in range(0,len(transmuter)):\n",
    "    s = transmuter.transformed_structures[i]\n",
    "    s.to(fmt='poscar', filename=\"POSCAR.\"+str(i))"
   ]
  },
  {
   "cell_type": "code",
   "execution_count": null,
   "id": "25e03b7e",
   "metadata": {},
   "outputs": [],
   "source": []
  }
 ],
 "metadata": {
  "kernelspec": {
   "display_name": "Python 3 (ipykernel)",
   "language": "python",
   "name": "python3"
  },
  "language_info": {
   "codemirror_mode": {
    "name": "ipython",
    "version": 3
   },
   "file_extension": ".py",
   "mimetype": "text/x-python",
   "name": "python",
   "nbconvert_exporter": "python",
   "pygments_lexer": "ipython3",
   "version": "3.9.7"
  }
 },
 "nbformat": 4,
 "nbformat_minor": 5
}
