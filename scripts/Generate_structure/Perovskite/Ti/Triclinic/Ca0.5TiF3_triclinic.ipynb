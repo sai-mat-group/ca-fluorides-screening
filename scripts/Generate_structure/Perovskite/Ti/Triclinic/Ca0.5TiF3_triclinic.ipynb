{
 "cells": [
  {
   "cell_type": "code",
   "execution_count": 1,
   "id": "extensive-syntax",
   "metadata": {},
   "outputs": [],
   "source": [
    "from pymatgen.core import Structure\n",
    "from pymatgen.transformations.standard_transformations import OrderDisorderedStructureTransformation\n",
    "from pymatgen.transformations.standard_transformations import OxidationStateDecorationTransformation\n",
    "from pymatgen.transformations.standard_transformations import SubstitutionTransformation, AutoOxiStateDecorationTransformation\n",
    "from pymatgen.transformations.standard_transformations import OrderDisorderedStructureTransformation\n",
    "from pymatgen.transformations.standard_transformations import SubstitutionTransformation, AutoOxiStateDecorationTransformation\n",
    "import os\n",
    "os.chdir('./')"
   ]
  },
  {
   "cell_type": "code",
   "execution_count": 2,
   "id": "compressed-clinic",
   "metadata": {},
   "outputs": [],
   "source": [
    "structure = Structure.from_file('NaCrF3-P-1.cif')"
   ]
  },
  {
   "cell_type": "code",
   "execution_count": 3,
   "id": "corporate-controversy",
   "metadata": {},
   "outputs": [
    {
     "name": "stdout",
     "output_type": "stream",
     "text": [
      "Full Formula (Na4 Cr4 F12)\n",
      "Reduced Formula: NaCrF3\n",
      "abc   :   5.484280   5.670720   8.136200\n",
      "angles:  90.386000  92.281600  86.325500\n",
      "Sites (20)\n",
      "  #  SP         a       b       c\n",
      "---  ----  ------  ------  ------\n",
      "  0  Na+   0.4916  0.4449  0.7642\n",
      "  1  Na+   0.5084  0.5551  0.2358\n",
      "  2  Na+   0.0282  0.9403  0.7379\n",
      "  3  Na+   0.9718  0.0597  0.2621\n",
      "  4  Cr2+  0.5     0       0\n",
      "  5  Cr2+  0       0.5     0\n",
      "  6  Cr2+  0.5     0       0.5\n",
      "  7  Cr2+  0       0.5     0.5\n",
      "  8  F-    0.3209  0.7186  0.9415\n",
      "  9  F-    0.6791  0.2814  0.0585\n",
      " 10  F-    0.7977  0.7948  0.0771\n",
      " 11  F-    0.2023  0.2052  0.9229\n",
      " 12  F-    0.2839  0.6751  0.5739\n",
      " 13  F-    0.7161  0.3249  0.4261\n",
      " 14  F-    0.8146  0.81    0.4475\n",
      " 15  F-    0.1854  0.19    0.5525\n",
      " 16  F-    0.625   0.0595  0.7273\n",
      " 17  F-    0.375   0.9405  0.2727\n",
      " 18  F-    0.8748  0.5642  0.7703\n",
      " 19  F-    0.1252  0.4358  0.2297\n"
     ]
    }
   ],
   "source": [
    "s2 = structure.copy()\n",
    "\n",
    "print(s2)"
   ]
  },
  {
   "cell_type": "code",
   "execution_count": 4,
   "id": "cd4ebcf1",
   "metadata": {},
   "outputs": [
    {
     "name": "stdout",
     "output_type": "stream",
     "text": [
      "Full Formula (Ca4 Ti4 F12)\n",
      "Reduced Formula: CaTiF3\n",
      "abc   :   5.484280   5.670720   8.136200\n",
      "angles:  90.386000  92.281600  86.325500\n",
      "Sites (20)\n",
      "  #  SP         a       b       c\n",
      "---  ----  ------  ------  ------\n",
      "  0  Ca2+  0.4916  0.4449  0.7642\n",
      "  1  Ca2+  0.5084  0.5551  0.2358\n",
      "  2  Ca2+  0.0282  0.9403  0.7379\n",
      "  3  Ca2+  0.9718  0.0597  0.2621\n",
      "  4  Ti2+  0.5     0       0\n",
      "  5  Ti2+  0       0.5     0\n",
      "  6  Ti2+  0.5     0       0.5\n",
      "  7  Ti2+  0       0.5     0.5\n",
      "  8  F-    0.3209  0.7186  0.9415\n",
      "  9  F-    0.6791  0.2814  0.0585\n",
      " 10  F-    0.7977  0.7948  0.0771\n",
      " 11  F-    0.2023  0.2052  0.9229\n",
      " 12  F-    0.2839  0.6751  0.5739\n",
      " 13  F-    0.7161  0.3249  0.4261\n",
      " 14  F-    0.8146  0.81    0.4475\n",
      " 15  F-    0.1854  0.19    0.5525\n",
      " 16  F-    0.625   0.0595  0.7273\n",
      " 17  F-    0.375   0.9405  0.2727\n",
      " 18  F-    0.8748  0.5642  0.7703\n",
      " 19  F-    0.1252  0.4358  0.2297\n"
     ]
    }
   ],
   "source": [
    "s2.replace_species({('Cr2+'):('Ti2+')})\n",
    "s2.replace_species({('Na+'):('Ca2+')})\n",
    "s3 = s2.copy()\n",
    "print(s3)\n"
   ]
  },
  {
   "cell_type": "code",
   "execution_count": 5,
   "id": "b26a4b20",
   "metadata": {},
   "outputs": [],
   "source": [
    "from pymatgen.analysis.structure_prediction.volume_predictor import RLSVolumePredictor\n",
    "p = RLSVolumePredictor(radii_type=\"atomic\")\n",
    "s4= p.get_predicted_structure(s3,structure)"
   ]
  },
  {
   "cell_type": "code",
   "execution_count": 6,
   "id": "fcb2fee0",
   "metadata": {},
   "outputs": [
    {
     "name": "stdout",
     "output_type": "stream",
     "text": [
      "Full Formula (Ca2 Ti4 F12)\n",
      "Reduced Formula: CaTi2F6\n",
      "abc   :   5.484280   5.670720   8.136200\n",
      "angles:  90.386000  92.281600  86.325500\n",
      "Sites (20)\n",
      "  #  SP               a       b       c\n",
      "---  ----------  ------  ------  ------\n",
      "  0  Ca2+:0.500  0.4916  0.4449  0.7642\n",
      "  1  Ca2+:0.500  0.5084  0.5551  0.2358\n",
      "  2  Ca2+:0.500  0.0282  0.9403  0.7379\n",
      "  3  Ca2+:0.500  0.9718  0.0597  0.2621\n",
      "  4  Ti2+        0.5     0       0\n",
      "  5  Ti2+        0       0.5     0\n",
      "  6  Ti2+        0.5     0       0.5\n",
      "  7  Ti2+        0       0.5     0.5\n",
      "  8  F-          0.3209  0.7186  0.9415\n",
      "  9  F-          0.6791  0.2814  0.0585\n",
      " 10  F-          0.7977  0.7948  0.0771\n",
      " 11  F-          0.2023  0.2052  0.9229\n",
      " 12  F-          0.2839  0.6751  0.5739\n",
      " 13  F-          0.7161  0.3249  0.4261\n",
      " 14  F-          0.8146  0.81    0.4475\n",
      " 15  F-          0.1854  0.19    0.5525\n",
      " 16  F-          0.625   0.0595  0.7273\n",
      " 17  F-          0.375   0.9405  0.2727\n",
      " 18  F-          0.8748  0.5642  0.7703\n",
      " 19  F-          0.1252  0.4358  0.2297\n"
     ]
    }
   ],
   "source": [
    "trans0 = SubstitutionTransformation({'Ca2+':{'Ca2+':0.5}})\n",
    "s5 = trans0.apply_transformation(s4)\n",
    "s6 = s5.copy()\n",
    "print(s6)\n"
   ]
  },
  {
   "cell_type": "code",
   "execution_count": 7,
   "id": "ef3efd0a",
   "metadata": {},
   "outputs": [],
   "source": [
    "from pymatgen.alchemy.transmuters import StandardTransmuter\n",
    "trans = OrderDisorderedStructureTransformation()\n",
    "transmuter = StandardTransmuter.from_structures([s6], transformations=[trans], extend_collection=10000)"
   ]
  },
  {
   "cell_type": "code",
   "execution_count": 8,
   "id": "0a153cdd",
   "metadata": {},
   "outputs": [
    {
     "name": "stdout",
     "output_type": "stream",
     "text": [
      "6\n"
     ]
    }
   ],
   "source": [
    "print(len(transmuter))"
   ]
  },
  {
   "cell_type": "code",
   "execution_count": 9,
   "id": "c9afb9ea",
   "metadata": {},
   "outputs": [],
   "source": [
    "from pymatgen.alchemy.filters import RemoveDuplicatesFilter\n",
    "fil = RemoveDuplicatesFilter(symprec=1e-5)\n",
    "transmuter.apply_filter(fil)"
   ]
  },
  {
   "cell_type": "code",
   "execution_count": 10,
   "id": "6ea0c7e9",
   "metadata": {},
   "outputs": [
    {
     "name": "stdout",
     "output_type": "stream",
     "text": [
      "4\n"
     ]
    }
   ],
   "source": [
    "print(len(transmuter))"
   ]
  },
  {
   "cell_type": "code",
   "execution_count": 11,
   "id": "38e31f6d",
   "metadata": {},
   "outputs": [],
   "source": [
    "for i in range(0,len(transmuter)):\n",
    "    s = transmuter.transformed_structures[i]\n",
    "    s.to(fmt='poscar', filename=\"POSCAR.\"+str(i))"
   ]
  },
  {
   "cell_type": "code",
   "execution_count": null,
   "id": "25e03b7e",
   "metadata": {},
   "outputs": [],
   "source": []
  }
 ],
 "metadata": {
  "kernelspec": {
   "display_name": "Python 3 (ipykernel)",
   "language": "python",
   "name": "python3"
  },
  "language_info": {
   "codemirror_mode": {
    "name": "ipython",
    "version": 3
   },
   "file_extension": ".py",
   "mimetype": "text/x-python",
   "name": "python",
   "nbconvert_exporter": "python",
   "pygments_lexer": "ipython3",
   "version": "3.9.7"
  }
 },
 "nbformat": 4,
 "nbformat_minor": 5
}
