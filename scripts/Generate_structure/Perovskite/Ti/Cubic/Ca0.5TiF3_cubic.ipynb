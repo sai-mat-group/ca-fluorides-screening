{
 "cells": [
  {
   "cell_type": "code",
   "execution_count": 1,
   "id": "extensive-syntax",
   "metadata": {},
   "outputs": [],
   "source": [
    "from pymatgen.core import Structure\n",
    "from pymatgen.transformations.standard_transformations import OrderDisorderedStructureTransformation\n",
    "from pymatgen.transformations.standard_transformations import OxidationStateDecorationTransformation\n",
    "from pymatgen.transformations.standard_transformations import SubstitutionTransformation, AutoOxiStateDecorationTransformation\n",
    "from pymatgen.transformations.standard_transformations import OrderDisorderedStructureTransformation\n",
    "from pymatgen.transformations.standard_transformations import SubstitutionTransformation, AutoOxiStateDecorationTransformation\n",
    "import os\n",
    "os.chdir('./')"
   ]
  },
  {
   "cell_type": "code",
   "execution_count": 2,
   "id": "compressed-clinic",
   "metadata": {},
   "outputs": [
    {
     "name": "stdout",
     "output_type": "stream",
     "text": [
      "Full Formula (Na1 V1 F3)\n",
      "Reduced Formula: NaVF3\n",
      "abc   :   3.940000   3.940000   3.940000\n",
      "angles:  90.000000  90.000000  90.000000\n",
      "Sites (5)\n",
      "  #  SP      a    b    c\n",
      "---  ----  ---  ---  ---\n",
      "  0  Na+   0    0    0\n",
      "  1  V2+   0.5  0.5  0.5\n",
      "  2  F-    0    0.5  0.5\n",
      "  3  F-    0.5  0.5  0\n",
      "  4  F-    0.5  0    0.5\n"
     ]
    }
   ],
   "source": [
    "structure = Structure.from_file('NaVF3-Pm-3m.cif')\n",
    "print(structure)"
   ]
  },
  {
   "cell_type": "code",
   "execution_count": 3,
   "id": "corporate-controversy",
   "metadata": {},
   "outputs": [
    {
     "name": "stdout",
     "output_type": "stream",
     "text": [
      "Full Formula (Na1 V1 F3)\n",
      "Reduced Formula: NaVF3\n",
      "abc   :   3.940000   3.940000   3.940000\n",
      "angles:  90.000000  90.000000  90.000000\n",
      "Sites (5)\n",
      "  #  SP      a    b    c\n",
      "---  ----  ---  ---  ---\n",
      "  0  Na+   0    0    0\n",
      "  1  V2+   0.5  0.5  0.5\n",
      "  2  F-    0    0.5  0.5\n",
      "  3  F-    0.5  0.5  0\n",
      "  4  F-    0.5  0    0.5\n"
     ]
    }
   ],
   "source": [
    "s1 = structure.copy()\n",
    "\n",
    "print(s1)"
   ]
  },
  {
   "cell_type": "code",
   "execution_count": 4,
   "id": "b08bf44a",
   "metadata": {},
   "outputs": [
    {
     "name": "stdout",
     "output_type": "stream",
     "text": [
      "Full Formula (Na8 V8 F24)\n",
      "Reduced Formula: NaVF3\n",
      "abc   :   7.880000   7.880000   7.880000\n",
      "angles:  90.000000  90.000000  90.000000\n",
      "Sites (40)\n",
      "  #  SP       a     b     c\n",
      "---  ----  ----  ----  ----\n",
      "  0  Na+   0     0     0\n",
      "  1  Na+   0     0     0.5\n",
      "  2  Na+   0     0.5   0\n",
      "  3  Na+   0     0.5   0.5\n",
      "  4  Na+   0.5   0     0\n",
      "  5  Na+   0.5   0     0.5\n",
      "  6  Na+   0.5   0.5   0\n",
      "  7  Na+   0.5   0.5   0.5\n",
      "  8  V2+   0.25  0.25  0.25\n",
      "  9  V2+   0.25  0.25  0.75\n",
      " 10  V2+   0.25  0.75  0.25\n",
      " 11  V2+   0.25  0.75  0.75\n",
      " 12  V2+   0.75  0.25  0.25\n",
      " 13  V2+   0.75  0.25  0.75\n",
      " 14  V2+   0.75  0.75  0.25\n",
      " 15  V2+   0.75  0.75  0.75\n",
      " 16  F-    0     0.25  0.25\n",
      " 17  F-    0     0.25  0.75\n",
      " 18  F-    0     0.75  0.25\n",
      " 19  F-    0     0.75  0.75\n",
      " 20  F-    0.5   0.25  0.25\n",
      " 21  F-    0.5   0.25  0.75\n",
      " 22  F-    0.5   0.75  0.25\n",
      " 23  F-    0.5   0.75  0.75\n",
      " 24  F-    0.25  0.25  0\n",
      " 25  F-    0.25  0.25  0.5\n",
      " 26  F-    0.25  0.75  0\n",
      " 27  F-    0.25  0.75  0.5\n",
      " 28  F-    0.75  0.25  0\n",
      " 29  F-    0.75  0.25  0.5\n",
      " 30  F-    0.75  0.75  0\n",
      " 31  F-    0.75  0.75  0.5\n",
      " 32  F-    0.25  0     0.25\n",
      " 33  F-    0.25  0     0.75\n",
      " 34  F-    0.25  0.5   0.25\n",
      " 35  F-    0.25  0.5   0.75\n",
      " 36  F-    0.75  0     0.25\n",
      " 37  F-    0.75  0     0.75\n",
      " 38  F-    0.75  0.5   0.25\n",
      " 39  F-    0.75  0.5   0.75\n"
     ]
    }
   ],
   "source": [
    "from pymatgen.transformations.standard_transformations import SupercellTransformation\n",
    "s0 = Structure.from_file('NaVF3-Pm-3m.cif')\n",
    "scaling_factors = [2, 2, 2] \n",
    "transformation = SupercellTransformation(scaling_factors)\n",
    "supercell = transformation.apply_transformation(s0)\n",
    "s1 = supercell.copy()\n",
    "\n",
    "print(s1)"
   ]
  },
  {
   "cell_type": "code",
   "execution_count": 7,
   "id": "cd4ebcf1",
   "metadata": {},
   "outputs": [
    {
     "name": "stdout",
     "output_type": "stream",
     "text": [
      "Full Formula (Ca8 Ti8 F24)\n",
      "Reduced Formula: CaTiF3\n",
      "abc   :   7.880000   7.880000   7.880000\n",
      "angles:  90.000000  90.000000  90.000000\n",
      "Sites (40)\n",
      "  #  SP       a     b     c\n",
      "---  ----  ----  ----  ----\n",
      "  0  Ca2+  0     0     0\n",
      "  1  Ca2+  0     0     0.5\n",
      "  2  Ca2+  0     0.5   0\n",
      "  3  Ca2+  0     0.5   0.5\n",
      "  4  Ca2+  0.5   0     0\n",
      "  5  Ca2+  0.5   0     0.5\n",
      "  6  Ca2+  0.5   0.5   0\n",
      "  7  Ca2+  0.5   0.5   0.5\n",
      "  8  Ti2+  0.25  0.25  0.25\n",
      "  9  Ti2+  0.25  0.25  0.75\n",
      " 10  Ti2+  0.25  0.75  0.25\n",
      " 11  Ti2+  0.25  0.75  0.75\n",
      " 12  Ti2+  0.75  0.25  0.25\n",
      " 13  Ti2+  0.75  0.25  0.75\n",
      " 14  Ti2+  0.75  0.75  0.25\n",
      " 15  Ti2+  0.75  0.75  0.75\n",
      " 16  F-    0     0.25  0.25\n",
      " 17  F-    0     0.25  0.75\n",
      " 18  F-    0     0.75  0.25\n",
      " 19  F-    0     0.75  0.75\n",
      " 20  F-    0.5   0.25  0.25\n",
      " 21  F-    0.5   0.25  0.75\n",
      " 22  F-    0.5   0.75  0.25\n",
      " 23  F-    0.5   0.75  0.75\n",
      " 24  F-    0.25  0.25  0\n",
      " 25  F-    0.25  0.25  0.5\n",
      " 26  F-    0.25  0.75  0\n",
      " 27  F-    0.25  0.75  0.5\n",
      " 28  F-    0.75  0.25  0\n",
      " 29  F-    0.75  0.25  0.5\n",
      " 30  F-    0.75  0.75  0\n",
      " 31  F-    0.75  0.75  0.5\n",
      " 32  F-    0.25  0     0.25\n",
      " 33  F-    0.25  0     0.75\n",
      " 34  F-    0.25  0.5   0.25\n",
      " 35  F-    0.25  0.5   0.75\n",
      " 36  F-    0.75  0     0.25\n",
      " 37  F-    0.75  0     0.75\n",
      " 38  F-    0.75  0.5   0.25\n",
      " 39  F-    0.75  0.5   0.75\n"
     ]
    },
    {
     "name": "stderr",
     "output_type": "stream",
     "text": [
      "/home/dereje/anaconda3/lib/python3.9/site-packages/pymatgen/core/structure.py:479: UserWarning: Some species to be substituted are not present in structure. Pls check your input. Species to be substituted = {Species V2+}; Species in structure = {Species Ti2+, Species F-, Species Na+}\n",
      "  warnings.warn(\n"
     ]
    }
   ],
   "source": [
    "s1.replace_species({('V2+'):('Ti2+')})\n",
    "s1.replace_species({('Na+'):('Ca2+')})\n",
    "s3 = s1.copy()\n",
    "print(s3)\n"
   ]
  },
  {
   "cell_type": "code",
   "execution_count": 8,
   "id": "b26a4b20",
   "metadata": {},
   "outputs": [],
   "source": [
    "from pymatgen.analysis.structure_prediction.volume_predictor import RLSVolumePredictor\n",
    "p = RLSVolumePredictor(radii_type=\"atomic\")\n",
    "s4= p.get_predicted_structure(s3,s1)"
   ]
  },
  {
   "cell_type": "code",
   "execution_count": 9,
   "id": "fcb2fee0",
   "metadata": {},
   "outputs": [
    {
     "name": "stdout",
     "output_type": "stream",
     "text": [
      "Full Formula (Ca4 Ti8 F24)\n",
      "Reduced Formula: CaTi2F6\n",
      "abc   :   7.880000   7.880000   7.880000\n",
      "angles:  90.000000  90.000000  90.000000\n",
      "Sites (40)\n",
      "  #  SP             a     b     c\n",
      "---  ----------  ----  ----  ----\n",
      "  0  Ca2+:0.500  0     0     0\n",
      "  1  Ca2+:0.500  0     0     0.5\n",
      "  2  Ca2+:0.500  0     0.5   0\n",
      "  3  Ca2+:0.500  0     0.5   0.5\n",
      "  4  Ca2+:0.500  0.5   0     0\n",
      "  5  Ca2+:0.500  0.5   0     0.5\n",
      "  6  Ca2+:0.500  0.5   0.5   0\n",
      "  7  Ca2+:0.500  0.5   0.5   0.5\n",
      "  8  Ti2+        0.25  0.25  0.25\n",
      "  9  Ti2+        0.25  0.25  0.75\n",
      " 10  Ti2+        0.25  0.75  0.25\n",
      " 11  Ti2+        0.25  0.75  0.75\n",
      " 12  Ti2+        0.75  0.25  0.25\n",
      " 13  Ti2+        0.75  0.25  0.75\n",
      " 14  Ti2+        0.75  0.75  0.25\n",
      " 15  Ti2+        0.75  0.75  0.75\n",
      " 16  F-          0     0.25  0.25\n",
      " 17  F-          0     0.25  0.75\n",
      " 18  F-          0     0.75  0.25\n",
      " 19  F-          0     0.75  0.75\n",
      " 20  F-          0.5   0.25  0.25\n",
      " 21  F-          0.5   0.25  0.75\n",
      " 22  F-          0.5   0.75  0.25\n",
      " 23  F-          0.5   0.75  0.75\n",
      " 24  F-          0.25  0.25  0\n",
      " 25  F-          0.25  0.25  0.5\n",
      " 26  F-          0.25  0.75  0\n",
      " 27  F-          0.25  0.75  0.5\n",
      " 28  F-          0.75  0.25  0\n",
      " 29  F-          0.75  0.25  0.5\n",
      " 30  F-          0.75  0.75  0\n",
      " 31  F-          0.75  0.75  0.5\n",
      " 32  F-          0.25  0     0.25\n",
      " 33  F-          0.25  0     0.75\n",
      " 34  F-          0.25  0.5   0.25\n",
      " 35  F-          0.25  0.5   0.75\n",
      " 36  F-          0.75  0     0.25\n",
      " 37  F-          0.75  0     0.75\n",
      " 38  F-          0.75  0.5   0.25\n",
      " 39  F-          0.75  0.5   0.75\n"
     ]
    }
   ],
   "source": [
    "trans0 = SubstitutionTransformation({'Ca2+':{'Ca2+':0.5}})\n",
    "s5 = trans0.apply_transformation(s4)\n",
    "s6 = s5.copy()\n",
    "print(s6)\n"
   ]
  },
  {
   "cell_type": "code",
   "execution_count": 10,
   "id": "ef3efd0a",
   "metadata": {},
   "outputs": [],
   "source": [
    "from pymatgen.alchemy.transmuters import StandardTransmuter\n",
    "trans = OrderDisorderedStructureTransformation()\n",
    "transmuter = StandardTransmuter.from_structures([s6], transformations=[trans], extend_collection=10000)"
   ]
  },
  {
   "cell_type": "code",
   "execution_count": 11,
   "id": "0a153cdd",
   "metadata": {},
   "outputs": [
    {
     "name": "stdout",
     "output_type": "stream",
     "text": [
      "70\n"
     ]
    }
   ],
   "source": [
    "print(len(transmuter))"
   ]
  },
  {
   "cell_type": "code",
   "execution_count": 12,
   "id": "c9afb9ea",
   "metadata": {},
   "outputs": [],
   "source": [
    "from pymatgen.alchemy.filters import RemoveDuplicatesFilter\n",
    "fil = RemoveDuplicatesFilter(symprec=1e-5)\n",
    "transmuter.apply_filter(fil)"
   ]
  },
  {
   "cell_type": "code",
   "execution_count": 13,
   "id": "6ea0c7e9",
   "metadata": {},
   "outputs": [
    {
     "name": "stdout",
     "output_type": "stream",
     "text": [
      "6\n"
     ]
    }
   ],
   "source": [
    "print(len(transmuter))"
   ]
  },
  {
   "cell_type": "code",
   "execution_count": 14,
   "id": "38e31f6d",
   "metadata": {},
   "outputs": [],
   "source": [
    "for i in range(0,len(transmuter)):\n",
    "    s = transmuter.transformed_structures[i]\n",
    "    s.to(fmt='poscar', filename=\"POSCAR.\"+str(i))"
   ]
  },
  {
   "cell_type": "code",
   "execution_count": null,
   "id": "25e03b7e",
   "metadata": {},
   "outputs": [],
   "source": []
  }
 ],
 "metadata": {
  "kernelspec": {
   "display_name": "Python 3 (ipykernel)",
   "language": "python",
   "name": "python3"
  },
  "language_info": {
   "codemirror_mode": {
    "name": "ipython",
    "version": 3
   },
   "file_extension": ".py",
   "mimetype": "text/x-python",
   "name": "python",
   "nbconvert_exporter": "python",
   "pygments_lexer": "ipython3",
   "version": "3.9.7"
  }
 },
 "nbformat": 4,
 "nbformat_minor": 5
}
